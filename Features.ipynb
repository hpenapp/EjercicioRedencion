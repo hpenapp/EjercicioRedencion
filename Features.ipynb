{
 "cells": [
  {
   "cell_type": "markdown",
   "id": "a5226ce2-3297-457e-9219-be2b1fdcc439",
   "metadata": {
    "jp-MarkdownHeadingCollapsed": true,
    "tags": []
   },
   "source": [
    "## Importación de Librerías"
   ]
  },
  {
   "cell_type": "code",
   "execution_count": 1,
   "id": "c0dfb75e-41d2-4a8f-9b1b-f723c4ea42c5",
   "metadata": {
    "tags": []
   },
   "outputs": [],
   "source": [
    "import matplotlib.pyplot as plt\n",
    "import seaborn as sns\n",
    "import pandas as pd\n",
    "import numpy as np\n",
    "from connDef import *"
   ]
  },
  {
   "cell_type": "markdown",
   "id": "1341e1f3-7618-43f0-af37-e6139200b9c8",
   "metadata": {
    "tags": []
   },
   "source": [
    "### Obtención de datos e inserción a dataframes"
   ]
  },
  {
   "cell_type": "code",
   "execution_count": 2,
   "id": "c1067eff-75d0-430c-bd7f-830318c0a9fc",
   "metadata": {
    "tags": []
   },
   "outputs": [
    {
     "name": "stdout",
     "output_type": "stream",
     "text": [
      "db connected\n"
     ]
    }
   ],
   "source": [
    "# Conexión a la base de datos.\n",
    "\n",
    "conn = dbconn()"
   ]
  },
  {
   "cell_type": "markdown",
   "id": "2ab37988-ee3f-41ab-b798-dd3ef38b36e4",
   "metadata": {},
   "source": [
    "\n",
    "Read SQL -> df = pd.read_sql(con <connection>, sql = db.text(<query>) )\n"
   ]
  },
  {
   "cell_type": "code",
   "execution_count": 3,
   "id": "a9fc15a0-a727-438e-8e64-c32dca3c9944",
   "metadata": {
    "tags": []
   },
   "outputs": [],
   "source": [
    "query = db.text('SELECT * FROM DcDataLakeDB.CoffeShopData')\n",
    "coffeData = pd.read_sql(con = conn.connect(), sql = query)"
   ]
  },
  {
   "cell_type": "code",
   "execution_count": 4,
   "id": "da10a74b-021a-488d-8ca0-2a7d8e5b5e30",
   "metadata": {
    "tags": []
   },
   "outputs": [],
   "source": [
    "query = db.text('SELECT * FROM DcDataLakeDB.Customer')\n",
    "Customer = pd.read_sql(con = conn.connect(), sql = query)"
   ]
  },
  {
   "cell_type": "code",
   "execution_count": 5,
   "id": "803e3f59-c2de-4915-ad9c-88f274cdbfd4",
   "metadata": {
    "tags": []
   },
   "outputs": [],
   "source": [
    "query = db.text('SELECT * FROM DcDataLakeDB.Dates')\n",
    "dates = pd.read_sql(con = conn.connect(), sql = query)"
   ]
  },
  {
   "cell_type": "code",
   "execution_count": 6,
   "id": "336b30a6-0a47-43f9-89e8-fcb651bce1fd",
   "metadata": {
    "tags": []
   },
   "outputs": [],
   "source": [
    "query = db.text('SELECT * FROM DcDataLakeDB.Generations')\n",
    "generations = pd.read_sql(con = conn.connect(), sql = query)"
   ]
  },
  {
   "cell_type": "code",
   "execution_count": 7,
   "id": "2dabf6a2-c9dd-4993-b1fe-40e2446917f3",
   "metadata": {
    "tags": []
   },
   "outputs": [],
   "source": [
    "query = db.text('SELECT * FROM DcDataLakeDB.Pastry_inventory')\n",
    "pastryInventory = pd.read_sql(con = conn.connect(), sql = query)"
   ]
  },
  {
   "cell_type": "code",
   "execution_count": 8,
   "id": "dfe43427-9984-4fd4-afe0-f77399dcfc4e",
   "metadata": {
    "tags": []
   },
   "outputs": [],
   "source": [
    "query = db.text('SELECT * FROM DcDataLakeDB.Product')\n",
    "product = pd.read_sql(con = conn.connect(), sql = query)"
   ]
  },
  {
   "cell_type": "code",
   "execution_count": 9,
   "id": "82fc0e50-e6cb-47ba-8537-37249abf290d",
   "metadata": {
    "tags": []
   },
   "outputs": [],
   "source": [
    "query = db.text('SELECT * FROM DcDataLakeDB.Sales_target')\n",
    "salesTarget = pd.read_sql(con = conn.connect(), sql = query)"
   ]
  },
  {
   "cell_type": "code",
   "execution_count": 10,
   "id": "5e7861d4-1f1a-4742-9f65-172f6a1980c1",
   "metadata": {
    "tags": []
   },
   "outputs": [],
   "source": [
    "query = db.text('SELECT * FROM DcDataLakeDB.SalesOutlet')\n",
    "salesOutlet = pd.read_sql(con = conn.connect(), sql = query)"
   ]
  },
  {
   "cell_type": "code",
   "execution_count": 11,
   "id": "69c85a96-e543-4b77-a34a-f2d1990d08b4",
   "metadata": {
    "tags": []
   },
   "outputs": [],
   "source": [
    "query = db.text('SELECT * FROM DcDataLakeDB.Staff')\n",
    "staff = pd.read_sql(con = conn.connect(), sql = query)"
   ]
  },
  {
   "cell_type": "code",
   "execution_count": 12,
   "id": "40b5a511-26a1-45ce-b9cf-a31e419b4bb9",
   "metadata": {
    "tags": []
   },
   "outputs": [
    {
     "data": {
      "text/html": [
       "<div>\n",
       "<style scoped>\n",
       "    .dataframe tbody tr th:only-of-type {\n",
       "        vertical-align: middle;\n",
       "    }\n",
       "\n",
       "    .dataframe tbody tr th {\n",
       "        vertical-align: top;\n",
       "    }\n",
       "\n",
       "    .dataframe thead th {\n",
       "        text-align: right;\n",
       "    }\n",
       "</style>\n",
       "<table border=\"1\" class=\"dataframe\">\n",
       "  <thead>\n",
       "    <tr style=\"text-align: right;\">\n",
       "      <th></th>\n",
       "      <th>product_id</th>\n",
       "      <th>product_group</th>\n",
       "      <th>product_category</th>\n",
       "      <th>product_type</th>\n",
       "      <th>product</th>\n",
       "      <th>product_description</th>\n",
       "      <th>unit_of_measure</th>\n",
       "      <th>current_wholesale_price</th>\n",
       "      <th>current_retail_price</th>\n",
       "      <th>tax_exempt_yn</th>\n",
       "      <th>promo_yn</th>\n",
       "      <th>new_product_yn</th>\n",
       "    </tr>\n",
       "  </thead>\n",
       "  <tbody>\n",
       "    <tr>\n",
       "      <th>0</th>\n",
       "      <td>1</td>\n",
       "      <td>Whole Bean/Teas</td>\n",
       "      <td>Coffee beans</td>\n",
       "      <td>Organic Beans</td>\n",
       "      <td>Brazilian - Organic</td>\n",
       "      <td>It's like Carnival in a cup. Clean and smooth.</td>\n",
       "      <td>12 oz</td>\n",
       "      <td>14.40</td>\n",
       "      <td>$18.00</td>\n",
       "      <td>Y</td>\n",
       "      <td>0</td>\n",
       "      <td>0</td>\n",
       "    </tr>\n",
       "    <tr>\n",
       "      <th>1</th>\n",
       "      <td>2</td>\n",
       "      <td>Whole Bean/Teas</td>\n",
       "      <td>Coffee beans</td>\n",
       "      <td>House blend Beans</td>\n",
       "      <td>Our Old Time Diner Blend</td>\n",
       "      <td>Out packed blend of beans that is reminiscent ...</td>\n",
       "      <td>12 oz</td>\n",
       "      <td>14.40</td>\n",
       "      <td>$18.00</td>\n",
       "      <td>Y</td>\n",
       "      <td>0</td>\n",
       "      <td>0</td>\n",
       "    </tr>\n",
       "    <tr>\n",
       "      <th>2</th>\n",
       "      <td>3</td>\n",
       "      <td>Whole Bean/Teas</td>\n",
       "      <td>Coffee beans</td>\n",
       "      <td>Espresso Beans</td>\n",
       "      <td>Espresso Roast</td>\n",
       "      <td>Our house blend for a good espresso shot.</td>\n",
       "      <td>1 lb</td>\n",
       "      <td>11.80</td>\n",
       "      <td>$14.75</td>\n",
       "      <td>Y</td>\n",
       "      <td>0</td>\n",
       "      <td>0</td>\n",
       "    </tr>\n",
       "    <tr>\n",
       "      <th>3</th>\n",
       "      <td>4</td>\n",
       "      <td>Whole Bean/Teas</td>\n",
       "      <td>Coffee beans</td>\n",
       "      <td>Espresso Beans</td>\n",
       "      <td>Primo Espresso Roast</td>\n",
       "      <td>Our primium single source of hand roasted beans.</td>\n",
       "      <td>1 lb</td>\n",
       "      <td>16.36</td>\n",
       "      <td>$20.45</td>\n",
       "      <td>Y</td>\n",
       "      <td>0</td>\n",
       "      <td>0</td>\n",
       "    </tr>\n",
       "    <tr>\n",
       "      <th>4</th>\n",
       "      <td>5</td>\n",
       "      <td>Whole Bean/Teas</td>\n",
       "      <td>Coffee beans</td>\n",
       "      <td>Gourmet Beans</td>\n",
       "      <td>Columbian Medium Roast</td>\n",
       "      <td>A smooth cup of coffee any time of day.</td>\n",
       "      <td>1 lb</td>\n",
       "      <td>12.00</td>\n",
       "      <td>$15.00</td>\n",
       "      <td>Y</td>\n",
       "      <td>0</td>\n",
       "      <td>0</td>\n",
       "    </tr>\n",
       "    <tr>\n",
       "      <th>5</th>\n",
       "      <td>6</td>\n",
       "      <td>Whole Bean/Teas</td>\n",
       "      <td>Coffee beans</td>\n",
       "      <td>Gourmet Beans</td>\n",
       "      <td>Ethiopia</td>\n",
       "      <td>From the home of coffee.</td>\n",
       "      <td>1 lb</td>\n",
       "      <td>16.80</td>\n",
       "      <td>$21.00</td>\n",
       "      <td>Y</td>\n",
       "      <td>0</td>\n",
       "      <td>0</td>\n",
       "    </tr>\n",
       "    <tr>\n",
       "      <th>6</th>\n",
       "      <td>7</td>\n",
       "      <td>Whole Bean/Teas</td>\n",
       "      <td>Coffee beans</td>\n",
       "      <td>Premium Beans</td>\n",
       "      <td>Jamacian Coffee River</td>\n",
       "      <td>Ya man, it will start your day off right.</td>\n",
       "      <td>1 lb</td>\n",
       "      <td>15.80</td>\n",
       "      <td>$19.75</td>\n",
       "      <td>Y</td>\n",
       "      <td>0</td>\n",
       "      <td>0</td>\n",
       "    </tr>\n",
       "    <tr>\n",
       "      <th>7</th>\n",
       "      <td>8</td>\n",
       "      <td>Whole Bean/Teas</td>\n",
       "      <td>Coffee beans</td>\n",
       "      <td>Premium Beans</td>\n",
       "      <td>Civet Cat</td>\n",
       "      <td>The most expensive coffee in the world, the ca...</td>\n",
       "      <td>.5 lb</td>\n",
       "      <td>36.00</td>\n",
       "      <td>$45.00</td>\n",
       "      <td>Y</td>\n",
       "      <td>0</td>\n",
       "      <td>0</td>\n",
       "    </tr>\n",
       "    <tr>\n",
       "      <th>8</th>\n",
       "      <td>9</td>\n",
       "      <td>Whole Bean/Teas</td>\n",
       "      <td>Coffee beans</td>\n",
       "      <td>Organic Beans</td>\n",
       "      <td>Organic Decaf Blend</td>\n",
       "      <td>Our blend of hand picked organic beans that ha...</td>\n",
       "      <td>1 lb</td>\n",
       "      <td>18.00</td>\n",
       "      <td>$22.50</td>\n",
       "      <td>Y</td>\n",
       "      <td>0</td>\n",
       "      <td>0</td>\n",
       "    </tr>\n",
       "    <tr>\n",
       "      <th>9</th>\n",
       "      <td>10</td>\n",
       "      <td>Whole Bean/Teas</td>\n",
       "      <td>Coffee beans</td>\n",
       "      <td>Green beans</td>\n",
       "      <td>Guatemalan Sustainably Grown</td>\n",
       "      <td>Green beans you can roast yourself.</td>\n",
       "      <td>1 lb</td>\n",
       "      <td>8.00</td>\n",
       "      <td>$10.00</td>\n",
       "      <td>Y</td>\n",
       "      <td>0</td>\n",
       "      <td>0</td>\n",
       "    </tr>\n",
       "  </tbody>\n",
       "</table>\n",
       "</div>"
      ],
      "text/plain": [
       "   product_id    product_group product_category       product_type  \\\n",
       "0           1  Whole Bean/Teas     Coffee beans      Organic Beans   \n",
       "1           2  Whole Bean/Teas     Coffee beans  House blend Beans   \n",
       "2           3  Whole Bean/Teas     Coffee beans     Espresso Beans   \n",
       "3           4  Whole Bean/Teas     Coffee beans     Espresso Beans   \n",
       "4           5  Whole Bean/Teas     Coffee beans      Gourmet Beans   \n",
       "5           6  Whole Bean/Teas     Coffee beans      Gourmet Beans   \n",
       "6           7  Whole Bean/Teas     Coffee beans      Premium Beans   \n",
       "7           8  Whole Bean/Teas     Coffee beans      Premium Beans   \n",
       "8           9  Whole Bean/Teas     Coffee beans      Organic Beans   \n",
       "9          10  Whole Bean/Teas     Coffee beans        Green beans   \n",
       "\n",
       "                        product  \\\n",
       "0           Brazilian - Organic   \n",
       "1      Our Old Time Diner Blend   \n",
       "2                Espresso Roast   \n",
       "3          Primo Espresso Roast   \n",
       "4        Columbian Medium Roast   \n",
       "5                      Ethiopia   \n",
       "6         Jamacian Coffee River   \n",
       "7                     Civet Cat   \n",
       "8           Organic Decaf Blend   \n",
       "9  Guatemalan Sustainably Grown   \n",
       "\n",
       "                                 product_description unit_of_measure  \\\n",
       "0     It's like Carnival in a cup. Clean and smooth.           12 oz   \n",
       "1  Out packed blend of beans that is reminiscent ...           12 oz   \n",
       "2          Our house blend for a good espresso shot.            1 lb   \n",
       "3   Our primium single source of hand roasted beans.            1 lb   \n",
       "4           A smooth cup of coffee any time of day.             1 lb   \n",
       "5                           From the home of coffee.            1 lb   \n",
       "6         Ya man, it will start your day off right.             1 lb   \n",
       "7  The most expensive coffee in the world, the ca...           .5 lb   \n",
       "8  Our blend of hand picked organic beans that ha...            1 lb   \n",
       "9               Green beans you can roast yourself.             1 lb   \n",
       "\n",
       "   current_wholesale_price current_retail_price tax_exempt_yn  promo_yn  \\\n",
       "0                    14.40              $18.00              Y         0   \n",
       "1                    14.40              $18.00              Y         0   \n",
       "2                    11.80              $14.75              Y         0   \n",
       "3                    16.36              $20.45              Y         0   \n",
       "4                    12.00              $15.00              Y         0   \n",
       "5                    16.80              $21.00              Y         0   \n",
       "6                    15.80              $19.75              Y         0   \n",
       "7                    36.00              $45.00              Y         0   \n",
       "8                    18.00              $22.50              Y         0   \n",
       "9                     8.00              $10.00              Y         0   \n",
       "\n",
       "   new_product_yn  \n",
       "0               0  \n",
       "1               0  \n",
       "2               0  \n",
       "3               0  \n",
       "4               0  \n",
       "5               0  \n",
       "6               0  \n",
       "7               0  \n",
       "8               0  \n",
       "9               0  "
      ]
     },
     "execution_count": 12,
     "metadata": {},
     "output_type": "execute_result"
    }
   ],
   "source": [
    "product.head(10)"
   ]
  },
  {
   "cell_type": "markdown",
   "id": "d1f07ce4-36e6-4265-a5e7-aa71f35e5484",
   "metadata": {
    "tags": []
   },
   "source": [
    "## SuperData Dataframe"
   ]
  },
  {
   "cell_type": "markdown",
   "id": "b905f361-4933-4d11-a3af-a58799998c78",
   "metadata": {},
   "source": [
    "JOIN DATAFRAMES:\n",
    "- coffedata\n",
    "- customer\n",
    "- dates \n",
    "- product\n",
    "- sales outlet"
   ]
  },
  {
   "cell_type": "code",
   "execution_count": 13,
   "id": "0b272a87-2753-4a6b-9633-82d8d85d9937",
   "metadata": {
    "tags": []
   },
   "outputs": [
    {
     "data": {
      "text/html": [
       "<div>\n",
       "<style scoped>\n",
       "    .dataframe tbody tr th:only-of-type {\n",
       "        vertical-align: middle;\n",
       "    }\n",
       "\n",
       "    .dataframe tbody tr th {\n",
       "        vertical-align: top;\n",
       "    }\n",
       "\n",
       "    .dataframe thead th {\n",
       "        text-align: right;\n",
       "    }\n",
       "</style>\n",
       "<table border=\"1\" class=\"dataframe\">\n",
       "  <thead>\n",
       "    <tr style=\"text-align: right;\">\n",
       "      <th></th>\n",
       "      <th>transaction_id</th>\n",
       "      <th>transaction_date</th>\n",
       "      <th>transaction_time</th>\n",
       "      <th>sales_outlet_id</th>\n",
       "      <th>staff_id</th>\n",
       "      <th>customer_id</th>\n",
       "      <th>instore_yn</th>\n",
       "      <th>orders</th>\n",
       "      <th>line_item_id</th>\n",
       "      <th>product_id</th>\n",
       "      <th>quantity</th>\n",
       "      <th>line_item_amount</th>\n",
       "      <th>unit_price</th>\n",
       "      <th>promo_item</th>\n",
       "    </tr>\n",
       "  </thead>\n",
       "  <tbody>\n",
       "    <tr>\n",
       "      <th>0</th>\n",
       "      <td>7</td>\n",
       "      <td>01/04/2019</td>\n",
       "      <td>12:04:43</td>\n",
       "      <td>3</td>\n",
       "      <td>12</td>\n",
       "      <td>558</td>\n",
       "      <td>N</td>\n",
       "      <td>1</td>\n",
       "      <td>1</td>\n",
       "      <td>52</td>\n",
       "      <td>1</td>\n",
       "      <td>2.5</td>\n",
       "      <td>2.5</td>\n",
       "      <td>N</td>\n",
       "    </tr>\n",
       "    <tr>\n",
       "      <th>1</th>\n",
       "      <td>11</td>\n",
       "      <td>01/04/2019</td>\n",
       "      <td>15:54:39</td>\n",
       "      <td>3</td>\n",
       "      <td>17</td>\n",
       "      <td>781</td>\n",
       "      <td>N</td>\n",
       "      <td>1</td>\n",
       "      <td>1</td>\n",
       "      <td>27</td>\n",
       "      <td>2</td>\n",
       "      <td>7.0</td>\n",
       "      <td>3.5</td>\n",
       "      <td>N</td>\n",
       "    </tr>\n",
       "    <tr>\n",
       "      <th>2</th>\n",
       "      <td>19</td>\n",
       "      <td>01/04/2019</td>\n",
       "      <td>14:34:59</td>\n",
       "      <td>3</td>\n",
       "      <td>17</td>\n",
       "      <td>788</td>\n",
       "      <td>Y</td>\n",
       "      <td>1</td>\n",
       "      <td>1</td>\n",
       "      <td>46</td>\n",
       "      <td>2</td>\n",
       "      <td>5.0</td>\n",
       "      <td>2.5</td>\n",
       "      <td>N</td>\n",
       "    </tr>\n",
       "  </tbody>\n",
       "</table>\n",
       "</div>"
      ],
      "text/plain": [
       "   transaction_id transaction_date transaction_time  sales_outlet_id  \\\n",
       "0               7       01/04/2019         12:04:43                3   \n",
       "1              11       01/04/2019         15:54:39                3   \n",
       "2              19       01/04/2019         14:34:59                3   \n",
       "\n",
       "   staff_id  customer_id instore_yn  orders  line_item_id  product_id  \\\n",
       "0        12          558          N       1             1          52   \n",
       "1        17          781          N       1             1          27   \n",
       "2        17          788          Y       1             1          46   \n",
       "\n",
       "   quantity  line_item_amount  unit_price promo_item  \n",
       "0         1               2.5         2.5          N  \n",
       "1         2               7.0         3.5          N  \n",
       "2         2               5.0         2.5          N  "
      ]
     },
     "execution_count": 13,
     "metadata": {},
     "output_type": "execute_result"
    }
   ],
   "source": [
    "coffeData.head(3)"
   ]
  },
  {
   "cell_type": "code",
   "execution_count": 14,
   "id": "02b8a31d-8690-4574-84d2-01c599bef683",
   "metadata": {
    "tags": []
   },
   "outputs": [],
   "source": [
    "superData = coffeData.join(dates.set_index('transaction_date'), on='transaction_date')"
   ]
  },
  {
   "cell_type": "code",
   "execution_count": 15,
   "id": "7d2935aa-1f85-4f22-ad80-3944d3352850",
   "metadata": {
    "tags": []
   },
   "outputs": [],
   "source": [
    "superData = superData.join(product.set_index('product_id') ,on='product_id')"
   ]
  },
  {
   "cell_type": "code",
   "execution_count": 16,
   "id": "27b29f6e-6298-4e2c-bf72-5684c2c1dd97",
   "metadata": {
    "tags": []
   },
   "outputs": [],
   "source": [
    "superData = superData.join(salesOutlet.set_index('sales_outlet_id'), on='sales_outlet_id')"
   ]
  },
  {
   "cell_type": "code",
   "execution_count": 17,
   "id": "1e78fc74-eab9-4a87-a4aa-93a2a26259f4",
   "metadata": {
    "tags": []
   },
   "outputs": [],
   "source": [
    "superData = superData.join(Customer.set_index('customer_id'), on='customer_id')"
   ]
  },
  {
   "cell_type": "code",
   "execution_count": 18,
   "id": "e1e8fd35-fecf-443e-8954-245d0936dc42",
   "metadata": {
    "tags": []
   },
   "outputs": [
    {
     "data": {
      "text/plain": [
       "(49894, 52)"
      ]
     },
     "execution_count": 18,
     "metadata": {},
     "output_type": "execute_result"
    }
   ],
   "source": [
    "superData.shape"
   ]
  },
  {
   "cell_type": "code",
   "execution_count": 19,
   "id": "8d391340-0c85-4ff8-a669-49743328e026",
   "metadata": {
    "tags": []
   },
   "outputs": [
    {
     "data": {
      "text/html": [
       "<div>\n",
       "<style scoped>\n",
       "    .dataframe tbody tr th:only-of-type {\n",
       "        vertical-align: middle;\n",
       "    }\n",
       "\n",
       "    .dataframe tbody tr th {\n",
       "        vertical-align: top;\n",
       "    }\n",
       "\n",
       "    .dataframe thead th {\n",
       "        text-align: right;\n",
       "    }\n",
       "</style>\n",
       "<table border=\"1\" class=\"dataframe\">\n",
       "  <thead>\n",
       "    <tr style=\"text-align: right;\">\n",
       "      <th></th>\n",
       "      <th>current_retail_price</th>\n",
       "      <th>unit_price</th>\n",
       "    </tr>\n",
       "  </thead>\n",
       "  <tbody>\n",
       "    <tr>\n",
       "      <th>0</th>\n",
       "      <td>$2.50</td>\n",
       "      <td>2.5</td>\n",
       "    </tr>\n",
       "    <tr>\n",
       "      <th>1</th>\n",
       "      <td>$3.50</td>\n",
       "      <td>3.5</td>\n",
       "    </tr>\n",
       "  </tbody>\n",
       "</table>\n",
       "</div>"
      ],
      "text/plain": [
       "  current_retail_price  unit_price\n",
       "0               $2.50          2.5\n",
       "1               $3.50          3.5"
      ]
     },
     "execution_count": 19,
     "metadata": {},
     "output_type": "execute_result"
    }
   ],
   "source": [
    "superData[['current_retail_price', 'unit_price']].head(2)"
   ]
  },
  {
   "cell_type": "code",
   "execution_count": 20,
   "id": "e34c4b3c-8537-4537-a990-9119b5129732",
   "metadata": {
    "tags": []
   },
   "outputs": [],
   "source": [
    "#superData = superData.drop(columns = ['promo_yn', 'unit_price'])"
   ]
  },
  {
   "cell_type": "code",
   "execution_count": 21,
   "id": "e623f4f7-da84-48da-bef4-4ada5cbf5b90",
   "metadata": {
    "tags": []
   },
   "outputs": [
    {
     "data": {
      "text/plain": [
       "Index(['transaction_id', 'transaction_date', 'transaction_time',\n",
       "       'sales_outlet_id', 'staff_id', 'customer_id', 'instore_yn', 'orders',\n",
       "       'line_item_id', 'product_id', 'quantity', 'line_item_amount',\n",
       "       'unit_price', 'promo_item', 'date_id', 'week_id', 'week_desc',\n",
       "       'month_id', 'month_name', 'quarter_id', 'quarter_name', 'year_id',\n",
       "       'product_group', 'product_category', 'product_type', 'product',\n",
       "       'product_description', 'unit_of_measure', 'current_wholesale_price',\n",
       "       'current_retail_price', 'tax_exempt_yn', 'promo_yn', 'new_product_yn',\n",
       "       'sales_outlet_type', 'store_square_feet', 'store_address', 'store_city',\n",
       "       'store_state_province', 'store_telephone', 'store_postal_code',\n",
       "       'store_longitude', 'store_latitude', 'manager', 'neighborhood',\n",
       "       'home_store', 'customer_first_name', 'customer_email', 'customer_since',\n",
       "       'loyalty_card_number', 'birthdate', 'gender', 'birth_year'],\n",
       "      dtype='object')"
      ]
     },
     "execution_count": 21,
     "metadata": {},
     "output_type": "execute_result"
    }
   ],
   "source": [
    "superData.columns"
   ]
  },
  {
   "cell_type": "code",
   "execution_count": 22,
   "id": "0f8a1a1c-9451-4e98-8b10-05adeec931ed",
   "metadata": {
    "tags": []
   },
   "outputs": [
    {
     "data": {
      "text/html": [
       "<div>\n",
       "<style scoped>\n",
       "    .dataframe tbody tr th:only-of-type {\n",
       "        vertical-align: middle;\n",
       "    }\n",
       "\n",
       "    .dataframe tbody tr th {\n",
       "        vertical-align: top;\n",
       "    }\n",
       "\n",
       "    .dataframe thead th {\n",
       "        text-align: right;\n",
       "    }\n",
       "</style>\n",
       "<table border=\"1\" class=\"dataframe\">\n",
       "  <thead>\n",
       "    <tr style=\"text-align: right;\">\n",
       "      <th></th>\n",
       "      <th>transaction_id</th>\n",
       "      <th>promo_yn</th>\n",
       "      <th>current_retail_price</th>\n",
       "      <th>unit_price</th>\n",
       "      <th>promo_item</th>\n",
       "    </tr>\n",
       "  </thead>\n",
       "  <tbody>\n",
       "    <tr>\n",
       "      <th>0</th>\n",
       "      <td>7</td>\n",
       "      <td>0</td>\n",
       "      <td>$2.50</td>\n",
       "      <td>2.50</td>\n",
       "      <td>N</td>\n",
       "    </tr>\n",
       "    <tr>\n",
       "      <th>1</th>\n",
       "      <td>11</td>\n",
       "      <td>0</td>\n",
       "      <td>$3.50</td>\n",
       "      <td>3.50</td>\n",
       "      <td>N</td>\n",
       "    </tr>\n",
       "    <tr>\n",
       "      <th>2</th>\n",
       "      <td>19</td>\n",
       "      <td>0</td>\n",
       "      <td>$2.50</td>\n",
       "      <td>2.50</td>\n",
       "      <td>N</td>\n",
       "    </tr>\n",
       "    <tr>\n",
       "      <th>3</th>\n",
       "      <td>32</td>\n",
       "      <td>0</td>\n",
       "      <td>$2.50</td>\n",
       "      <td>2.50</td>\n",
       "      <td>N</td>\n",
       "    </tr>\n",
       "    <tr>\n",
       "      <th>4</th>\n",
       "      <td>33</td>\n",
       "      <td>0</td>\n",
       "      <td>$2.45</td>\n",
       "      <td>2.45</td>\n",
       "      <td>N</td>\n",
       "    </tr>\n",
       "    <tr>\n",
       "      <th>...</th>\n",
       "      <td>...</td>\n",
       "      <td>...</td>\n",
       "      <td>...</td>\n",
       "      <td>...</td>\n",
       "      <td>...</td>\n",
       "    </tr>\n",
       "    <tr>\n",
       "      <th>49889</th>\n",
       "      <td>753</td>\n",
       "      <td>0</td>\n",
       "      <td>$3.00</td>\n",
       "      <td>3.00</td>\n",
       "      <td>N</td>\n",
       "    </tr>\n",
       "    <tr>\n",
       "      <th>49890</th>\n",
       "      <td>756</td>\n",
       "      <td>0</td>\n",
       "      <td>$2.20</td>\n",
       "      <td>2.20</td>\n",
       "      <td>N</td>\n",
       "    </tr>\n",
       "    <tr>\n",
       "      <th>49891</th>\n",
       "      <td>759</td>\n",
       "      <td>0</td>\n",
       "      <td>$2.20</td>\n",
       "      <td>2.20</td>\n",
       "      <td>N</td>\n",
       "    </tr>\n",
       "    <tr>\n",
       "      <th>49892</th>\n",
       "      <td>763</td>\n",
       "      <td>0</td>\n",
       "      <td>$2.50</td>\n",
       "      <td>2.50</td>\n",
       "      <td>N</td>\n",
       "    </tr>\n",
       "    <tr>\n",
       "      <th>49893</th>\n",
       "      <td>763</td>\n",
       "      <td>0</td>\n",
       "      <td>$3.25</td>\n",
       "      <td>3.50</td>\n",
       "      <td>N</td>\n",
       "    </tr>\n",
       "  </tbody>\n",
       "</table>\n",
       "<p>49894 rows × 5 columns</p>\n",
       "</div>"
      ],
      "text/plain": [
       "       transaction_id  promo_yn current_retail_price  unit_price promo_item\n",
       "0                   7         0               $2.50         2.50          N\n",
       "1                  11         0               $3.50         3.50          N\n",
       "2                  19         0               $2.50         2.50          N\n",
       "3                  32         0               $2.50         2.50          N\n",
       "4                  33         0               $2.45         2.45          N\n",
       "...               ...       ...                  ...         ...        ...\n",
       "49889             753         0               $3.00         3.00          N\n",
       "49890             756         0               $2.20         2.20          N\n",
       "49891             759         0               $2.20         2.20          N\n",
       "49892             763         0               $2.50         2.50          N\n",
       "49893             763         0               $3.25         3.50          N\n",
       "\n",
       "[49894 rows x 5 columns]"
      ]
     },
     "execution_count": 22,
     "metadata": {},
     "output_type": "execute_result"
    }
   ],
   "source": [
    "superData[['transaction_id', 'promo_yn', 'current_retail_price', 'unit_price', 'promo_item']]"
   ]
  },
  {
   "cell_type": "markdown",
   "id": "20d9b200-78e2-4ccc-9576-4a51e76b07a0",
   "metadata": {},
   "source": [
    "## Engineering"
   ]
  },
  {
   "cell_type": "markdown",
   "id": "093ef479-2615-46d5-8afd-cd35ed721a02",
   "metadata": {
    "tags": []
   },
   "source": [
    "### Feature Engineering:"
   ]
  },
  {
   "cell_type": "markdown",
   "id": "f8d8762b-23df-49dd-9ca7-850080b6e41d",
   "metadata": {},
   "source": [
    "- [X] 1.- Customers by day by store\n",
    "- [X] 2.- Volume by day by store\n",
    "- [X] 3.- Average price per item by store\n",
    "- [X] 4.- Loyalty binary 0 1\n",
    "- [X] 5.- Average price by product group\n",
    "- [X] 6.- Total volume by customer by store\n",
    "- [X] 7.- Total revenue by customer by store\n",
    "- [X] 8.- Before midday, aftermiday binary columns 0 1\n",
    "- [X] 9.- Proportion of sales in store by store\n",
    "- [X] 10.- Number of orders by store by day\n",
    "- [X] 11.- Number of products sold by store\n",
    "- [ ] 12.- Proportion of items in promo by store\n",
    "- [X] 13.- Proportion of customer with loyalty by store\n",
    "- [ ] 14.- Transaction in promotion binary 0 1"
   ]
  },
  {
   "cell_type": "markdown",
   "id": "db1f10ea-7251-4215-9907-15d06c180101",
   "metadata": {
    "jp-MarkdownHeadingCollapsed": true,
    "tags": []
   },
   "source": [
    "#### 1.- Customers by day by store"
   ]
  },
  {
   "cell_type": "code",
   "execution_count": 24,
   "id": "304acb2b-d9b7-4beb-9776-abb06e09642c",
   "metadata": {
    "tags": []
   },
   "outputs": [
    {
     "data": {
      "text/html": [
       "<div>\n",
       "<style scoped>\n",
       "    .dataframe tbody tr th:only-of-type {\n",
       "        vertical-align: middle;\n",
       "    }\n",
       "\n",
       "    .dataframe tbody tr th {\n",
       "        vertical-align: top;\n",
       "    }\n",
       "\n",
       "    .dataframe thead th {\n",
       "        text-align: right;\n",
       "    }\n",
       "</style>\n",
       "<table border=\"1\" class=\"dataframe\">\n",
       "  <thead>\n",
       "    <tr style=\"text-align: right;\">\n",
       "      <th></th>\n",
       "      <th>sales_outlet_id</th>\n",
       "      <th>transaction_date</th>\n",
       "      <th>total_customers</th>\n",
       "    </tr>\n",
       "  </thead>\n",
       "  <tbody>\n",
       "    <tr>\n",
       "      <th>0</th>\n",
       "      <td>3</td>\n",
       "      <td>01/04/2019</td>\n",
       "      <td>202505</td>\n",
       "    </tr>\n",
       "    <tr>\n",
       "      <th>1</th>\n",
       "      <td>3</td>\n",
       "      <td>02/04/2019</td>\n",
       "      <td>207367</td>\n",
       "    </tr>\n",
       "    <tr>\n",
       "      <th>2</th>\n",
       "      <td>3</td>\n",
       "      <td>03/04/2019</td>\n",
       "      <td>216071</td>\n",
       "    </tr>\n",
       "    <tr>\n",
       "      <th>3</th>\n",
       "      <td>3</td>\n",
       "      <td>04/04/2019</td>\n",
       "      <td>190911</td>\n",
       "    </tr>\n",
       "    <tr>\n",
       "      <th>4</th>\n",
       "      <td>3</td>\n",
       "      <td>05/04/2019</td>\n",
       "      <td>208199</td>\n",
       "    </tr>\n",
       "    <tr>\n",
       "      <th>...</th>\n",
       "      <td>...</td>\n",
       "      <td>...</td>\n",
       "      <td>...</td>\n",
       "    </tr>\n",
       "    <tr>\n",
       "      <th>82</th>\n",
       "      <td>8</td>\n",
       "      <td>25/04/2019</td>\n",
       "      <td>1352672</td>\n",
       "    </tr>\n",
       "    <tr>\n",
       "      <th>83</th>\n",
       "      <td>8</td>\n",
       "      <td>26/04/2019</td>\n",
       "      <td>1287019</td>\n",
       "    </tr>\n",
       "    <tr>\n",
       "      <th>84</th>\n",
       "      <td>8</td>\n",
       "      <td>27/04/2019</td>\n",
       "      <td>1206656</td>\n",
       "    </tr>\n",
       "    <tr>\n",
       "      <th>85</th>\n",
       "      <td>8</td>\n",
       "      <td>28/04/2019</td>\n",
       "      <td>1072865</td>\n",
       "    </tr>\n",
       "    <tr>\n",
       "      <th>86</th>\n",
       "      <td>8</td>\n",
       "      <td>29/04/2019</td>\n",
       "      <td>1047949</td>\n",
       "    </tr>\n",
       "  </tbody>\n",
       "</table>\n",
       "<p>87 rows × 3 columns</p>\n",
       "</div>"
      ],
      "text/plain": [
       "    sales_outlet_id transaction_date  total_customers\n",
       "0                 3       01/04/2019           202505\n",
       "1                 3       02/04/2019           207367\n",
       "2                 3       03/04/2019           216071\n",
       "3                 3       04/04/2019           190911\n",
       "4                 3       05/04/2019           208199\n",
       "..              ...              ...              ...\n",
       "82                8       25/04/2019          1352672\n",
       "83                8       26/04/2019          1287019\n",
       "84                8       27/04/2019          1206656\n",
       "85                8       28/04/2019          1072865\n",
       "86                8       29/04/2019          1047949\n",
       "\n",
       "[87 rows x 3 columns]"
      ]
     },
     "execution_count": 24,
     "metadata": {},
     "output_type": "execute_result"
    }
   ],
   "source": [
    "#Non repeated customers by transaction, day and sales outlet\n",
    "df = superData.loc[:,['sales_outlet_id','transaction_id', 'transaction_date','customer_id']]\n",
    "df.drop_duplicates(subset=['sales_outlet_id','transaction_id', 'transaction_date'], inplace=True)\n",
    "df = df.groupby(['sales_outlet_id', 'transaction_date'])['customer_id'].sum().reset_index(name='total_customers')\n",
    "df"
   ]
  },
  {
   "cell_type": "markdown",
   "id": "bf3b023d-42a4-4014-b699-c466f1177fd8",
   "metadata": {
    "jp-MarkdownHeadingCollapsed": true,
    "tags": []
   },
   "source": [
    "#### 2-. Volume by day by store"
   ]
  },
  {
   "cell_type": "code",
   "execution_count": 25,
   "id": "cf6a326c-5b58-47e9-99c1-91b39f8385a4",
   "metadata": {
    "tags": []
   },
   "outputs": [],
   "source": [
    "df = superData.groupby(['transaction_date', 'sales_outlet_id'])['product_id'].unique().apply(lambda x : len(x)).reset_index(name='unique_selling')"
   ]
  },
  {
   "cell_type": "code",
   "execution_count": 26,
   "id": "28c18e27-e231-4247-9004-f0310d646675",
   "metadata": {
    "tags": []
   },
   "outputs": [
    {
     "data": {
      "text/html": [
       "<div>\n",
       "<style scoped>\n",
       "    .dataframe tbody tr th:only-of-type {\n",
       "        vertical-align: middle;\n",
       "    }\n",
       "\n",
       "    .dataframe tbody tr th {\n",
       "        vertical-align: top;\n",
       "    }\n",
       "\n",
       "    .dataframe thead th {\n",
       "        text-align: right;\n",
       "    }\n",
       "</style>\n",
       "<table border=\"1\" class=\"dataframe\">\n",
       "  <thead>\n",
       "    <tr style=\"text-align: right;\">\n",
       "      <th></th>\n",
       "      <th>transaction_date</th>\n",
       "      <th>sales_outlet_id</th>\n",
       "      <th>unique_selling</th>\n",
       "    </tr>\n",
       "  </thead>\n",
       "  <tbody>\n",
       "    <tr>\n",
       "      <th>0</th>\n",
       "      <td>01/04/2019</td>\n",
       "      <td>3</td>\n",
       "      <td>51</td>\n",
       "    </tr>\n",
       "    <tr>\n",
       "      <th>1</th>\n",
       "      <td>01/04/2019</td>\n",
       "      <td>5</td>\n",
       "      <td>52</td>\n",
       "    </tr>\n",
       "    <tr>\n",
       "      <th>2</th>\n",
       "      <td>01/04/2019</td>\n",
       "      <td>8</td>\n",
       "      <td>51</td>\n",
       "    </tr>\n",
       "    <tr>\n",
       "      <th>3</th>\n",
       "      <td>02/04/2019</td>\n",
       "      <td>3</td>\n",
       "      <td>51</td>\n",
       "    </tr>\n",
       "    <tr>\n",
       "      <th>4</th>\n",
       "      <td>02/04/2019</td>\n",
       "      <td>5</td>\n",
       "      <td>52</td>\n",
       "    </tr>\n",
       "    <tr>\n",
       "      <th>...</th>\n",
       "      <td>...</td>\n",
       "      <td>...</td>\n",
       "      <td>...</td>\n",
       "    </tr>\n",
       "    <tr>\n",
       "      <th>82</th>\n",
       "      <td>28/04/2019</td>\n",
       "      <td>5</td>\n",
       "      <td>52</td>\n",
       "    </tr>\n",
       "    <tr>\n",
       "      <th>83</th>\n",
       "      <td>28/04/2019</td>\n",
       "      <td>8</td>\n",
       "      <td>52</td>\n",
       "    </tr>\n",
       "    <tr>\n",
       "      <th>84</th>\n",
       "      <td>29/04/2019</td>\n",
       "      <td>3</td>\n",
       "      <td>51</td>\n",
       "    </tr>\n",
       "    <tr>\n",
       "      <th>85</th>\n",
       "      <td>29/04/2019</td>\n",
       "      <td>5</td>\n",
       "      <td>52</td>\n",
       "    </tr>\n",
       "    <tr>\n",
       "      <th>86</th>\n",
       "      <td>29/04/2019</td>\n",
       "      <td>8</td>\n",
       "      <td>52</td>\n",
       "    </tr>\n",
       "  </tbody>\n",
       "</table>\n",
       "<p>87 rows × 3 columns</p>\n",
       "</div>"
      ],
      "text/plain": [
       "   transaction_date  sales_outlet_id  unique_selling\n",
       "0        01/04/2019                3              51\n",
       "1        01/04/2019                5              52\n",
       "2        01/04/2019                8              51\n",
       "3        02/04/2019                3              51\n",
       "4        02/04/2019                5              52\n",
       "..              ...              ...             ...\n",
       "82       28/04/2019                5              52\n",
       "83       28/04/2019                8              52\n",
       "84       29/04/2019                3              51\n",
       "85       29/04/2019                5              52\n",
       "86       29/04/2019                8              52\n",
       "\n",
       "[87 rows x 3 columns]"
      ]
     },
     "execution_count": 26,
     "metadata": {},
     "output_type": "execute_result"
    }
   ],
   "source": [
    "df"
   ]
  },
  {
   "cell_type": "markdown",
   "id": "99dff32e-bf1a-45fd-b202-c81346a96730",
   "metadata": {
    "jp-MarkdownHeadingCollapsed": true,
    "tags": []
   },
   "source": [
    "#### 3.-Average price per product by store"
   ]
  },
  {
   "cell_type": "code",
   "execution_count": 27,
   "id": "00a44448-89dc-44e2-a4c9-3df866a6d297",
   "metadata": {
    "tags": []
   },
   "outputs": [
    {
     "data": {
      "text/plain": [
       "Index(['transaction_id', 'transaction_date', 'transaction_time',\n",
       "       'sales_outlet_id', 'staff_id', 'customer_id', 'instore_yn', 'orders',\n",
       "       'line_item_id', 'product_id', 'quantity', 'line_item_amount',\n",
       "       'unit_price', 'promo_item', 'date_id', 'week_id', 'week_desc',\n",
       "       'month_id', 'month_name', 'quarter_id', 'quarter_name', 'year_id',\n",
       "       'product_group', 'product_category', 'product_type', 'product',\n",
       "       'product_description', 'unit_of_measure', 'current_wholesale_price',\n",
       "       'current_retail_price', 'tax_exempt_yn', 'promo_yn', 'new_product_yn',\n",
       "       'sales_outlet_type', 'store_square_feet', 'store_address', 'store_city',\n",
       "       'store_state_province', 'store_telephone', 'store_postal_code',\n",
       "       'store_longitude', 'store_latitude', 'manager', 'neighborhood',\n",
       "       'home_store', 'customer_first_name', 'customer_email', 'customer_since',\n",
       "       'loyalty_card_number', 'birthdate', 'gender', 'birth_year'],\n",
       "      dtype='object')"
      ]
     },
     "execution_count": 27,
     "metadata": {},
     "output_type": "execute_result"
    }
   ],
   "source": [
    "superData.columns"
   ]
  },
  {
   "cell_type": "code",
   "execution_count": 28,
   "id": "e0698f60-754d-430e-9806-4203c83d8783",
   "metadata": {
    "tags": []
   },
   "outputs": [
    {
     "data": {
      "text/plain": [
       "0    2.50\n",
       "1    3.50\n",
       "2    2.50\n",
       "3    2.50\n",
       "4    2.45\n",
       "Name: current_retail_price, dtype: float64"
      ]
     },
     "execution_count": 28,
     "metadata": {},
     "output_type": "execute_result"
    }
   ],
   "source": [
    "superData['current_retail_price'].str.replace('$', '', regex=True).astype(float).head(5)"
   ]
  },
  {
   "cell_type": "code",
   "execution_count": 29,
   "id": "a30aa146-728c-4c28-aa49-caca734d9d17",
   "metadata": {
    "tags": []
   },
   "outputs": [
    {
     "data": {
      "text/plain": [
       "8    17071\n",
       "3    16829\n",
       "5    15994\n",
       "Name: sales_outlet_id, dtype: int64"
      ]
     },
     "execution_count": 29,
     "metadata": {},
     "output_type": "execute_result"
    }
   ],
   "source": [
    "superData['sales_outlet_id'].value_counts()"
   ]
  },
  {
   "cell_type": "code",
   "execution_count": 30,
   "id": "6ab69afa-6afc-4540-8943-43fdb25003ae",
   "metadata": {
    "tags": []
   },
   "outputs": [
    {
     "data": {
      "text/html": [
       "<div>\n",
       "<style scoped>\n",
       "    .dataframe tbody tr th:only-of-type {\n",
       "        vertical-align: middle;\n",
       "    }\n",
       "\n",
       "    .dataframe tbody tr th {\n",
       "        vertical-align: top;\n",
       "    }\n",
       "\n",
       "    .dataframe thead th {\n",
       "        text-align: right;\n",
       "    }\n",
       "</style>\n",
       "<table border=\"1\" class=\"dataframe\">\n",
       "  <thead>\n",
       "    <tr style=\"text-align: right;\">\n",
       "      <th></th>\n",
       "      <th>product</th>\n",
       "      <th>sales_outlet_id</th>\n",
       "      <th>average_retail_price</th>\n",
       "    </tr>\n",
       "  </thead>\n",
       "  <tbody>\n",
       "    <tr>\n",
       "      <th>0</th>\n",
       "      <td>Almond Croissant</td>\n",
       "      <td>3</td>\n",
       "      <td>3.75</td>\n",
       "    </tr>\n",
       "    <tr>\n",
       "      <th>1</th>\n",
       "      <td>Almond Croissant</td>\n",
       "      <td>5</td>\n",
       "      <td>3.75</td>\n",
       "    </tr>\n",
       "    <tr>\n",
       "      <th>2</th>\n",
       "      <td>Almond Croissant</td>\n",
       "      <td>8</td>\n",
       "      <td>3.75</td>\n",
       "    </tr>\n",
       "    <tr>\n",
       "      <th>3</th>\n",
       "      <td>Brazilian - Organic</td>\n",
       "      <td>3</td>\n",
       "      <td>18.00</td>\n",
       "    </tr>\n",
       "    <tr>\n",
       "      <th>4</th>\n",
       "      <td>Brazilian - Organic</td>\n",
       "      <td>5</td>\n",
       "      <td>18.00</td>\n",
       "    </tr>\n",
       "    <tr>\n",
       "      <th>5</th>\n",
       "      <td>Brazilian - Organic</td>\n",
       "      <td>8</td>\n",
       "      <td>18.00</td>\n",
       "    </tr>\n",
       "    <tr>\n",
       "      <th>6</th>\n",
       "      <td>Brazilian Lg</td>\n",
       "      <td>3</td>\n",
       "      <td>3.50</td>\n",
       "    </tr>\n",
       "    <tr>\n",
       "      <th>7</th>\n",
       "      <td>Brazilian Lg</td>\n",
       "      <td>5</td>\n",
       "      <td>3.50</td>\n",
       "    </tr>\n",
       "    <tr>\n",
       "      <th>8</th>\n",
       "      <td>Brazilian Lg</td>\n",
       "      <td>8</td>\n",
       "      <td>3.50</td>\n",
       "    </tr>\n",
       "    <tr>\n",
       "      <th>9</th>\n",
       "      <td>Brazilian Rg</td>\n",
       "      <td>3</td>\n",
       "      <td>3.00</td>\n",
       "    </tr>\n",
       "  </tbody>\n",
       "</table>\n",
       "</div>"
      ],
      "text/plain": [
       "               product  sales_outlet_id  average_retail_price\n",
       "0     Almond Croissant                3                  3.75\n",
       "1     Almond Croissant                5                  3.75\n",
       "2     Almond Croissant                8                  3.75\n",
       "3  Brazilian - Organic                3                 18.00\n",
       "4  Brazilian - Organic                5                 18.00\n",
       "5  Brazilian - Organic                8                 18.00\n",
       "6         Brazilian Lg                3                  3.50\n",
       "7         Brazilian Lg                5                  3.50\n",
       "8         Brazilian Lg                8                  3.50\n",
       "9         Brazilian Rg                3                  3.00"
      ]
     },
     "execution_count": 30,
     "metadata": {},
     "output_type": "execute_result"
    }
   ],
   "source": [
    "#Current_retail_price\n",
    "df = superData.loc[:, ['product', 'sales_outlet_id']]\n",
    "df['current_retail_price'] = superData['current_retail_price'].str.replace('$', '', regex=True).astype(float)\n",
    "df = df.groupby(['product', 'sales_outlet_id'])['current_retail_price'].mean().reset_index(name='average_retail_price')\n",
    "df.head(10)"
   ]
  },
  {
   "cell_type": "code",
   "execution_count": 31,
   "id": "e9a71f65-8ab0-4380-91ad-f88243f12b85",
   "metadata": {
    "tags": []
   },
   "outputs": [
    {
     "data": {
      "text/plain": [
       "0    0.63\n",
       "1    0.70\n",
       "Name: current_wholesale_price, dtype: float64"
      ]
     },
     "execution_count": 31,
     "metadata": {},
     "output_type": "execute_result"
    }
   ],
   "source": [
    "superData['current_wholesale_price'].head(2)"
   ]
  },
  {
   "cell_type": "code",
   "execution_count": 32,
   "id": "5058284a-6c05-4fa9-bd22-0a6da2835874",
   "metadata": {
    "tags": []
   },
   "outputs": [
    {
     "data": {
      "text/html": [
       "<div>\n",
       "<style scoped>\n",
       "    .dataframe tbody tr th:only-of-type {\n",
       "        vertical-align: middle;\n",
       "    }\n",
       "\n",
       "    .dataframe tbody tr th {\n",
       "        vertical-align: top;\n",
       "    }\n",
       "\n",
       "    .dataframe thead th {\n",
       "        text-align: right;\n",
       "    }\n",
       "</style>\n",
       "<table border=\"1\" class=\"dataframe\">\n",
       "  <thead>\n",
       "    <tr style=\"text-align: right;\">\n",
       "      <th></th>\n",
       "      <th>product</th>\n",
       "      <th>sales_outlet_id</th>\n",
       "      <th>average_wholesale_price</th>\n",
       "    </tr>\n",
       "  </thead>\n",
       "  <tbody>\n",
       "    <tr>\n",
       "      <th>0</th>\n",
       "      <td>Almond Croissant</td>\n",
       "      <td>3</td>\n",
       "      <td>2.44</td>\n",
       "    </tr>\n",
       "    <tr>\n",
       "      <th>1</th>\n",
       "      <td>Almond Croissant</td>\n",
       "      <td>5</td>\n",
       "      <td>2.44</td>\n",
       "    </tr>\n",
       "    <tr>\n",
       "      <th>2</th>\n",
       "      <td>Almond Croissant</td>\n",
       "      <td>8</td>\n",
       "      <td>2.44</td>\n",
       "    </tr>\n",
       "    <tr>\n",
       "      <th>3</th>\n",
       "      <td>Brazilian - Organic</td>\n",
       "      <td>3</td>\n",
       "      <td>14.40</td>\n",
       "    </tr>\n",
       "    <tr>\n",
       "      <th>4</th>\n",
       "      <td>Brazilian - Organic</td>\n",
       "      <td>5</td>\n",
       "      <td>14.40</td>\n",
       "    </tr>\n",
       "    <tr>\n",
       "      <th>5</th>\n",
       "      <td>Brazilian - Organic</td>\n",
       "      <td>8</td>\n",
       "      <td>14.40</td>\n",
       "    </tr>\n",
       "    <tr>\n",
       "      <th>6</th>\n",
       "      <td>Brazilian Lg</td>\n",
       "      <td>3</td>\n",
       "      <td>0.70</td>\n",
       "    </tr>\n",
       "    <tr>\n",
       "      <th>7</th>\n",
       "      <td>Brazilian Lg</td>\n",
       "      <td>5</td>\n",
       "      <td>0.70</td>\n",
       "    </tr>\n",
       "    <tr>\n",
       "      <th>8</th>\n",
       "      <td>Brazilian Lg</td>\n",
       "      <td>8</td>\n",
       "      <td>0.70</td>\n",
       "    </tr>\n",
       "    <tr>\n",
       "      <th>9</th>\n",
       "      <td>Brazilian Rg</td>\n",
       "      <td>3</td>\n",
       "      <td>0.60</td>\n",
       "    </tr>\n",
       "  </tbody>\n",
       "</table>\n",
       "</div>"
      ],
      "text/plain": [
       "               product  sales_outlet_id  average_wholesale_price\n",
       "0     Almond Croissant                3                     2.44\n",
       "1     Almond Croissant                5                     2.44\n",
       "2     Almond Croissant                8                     2.44\n",
       "3  Brazilian - Organic                3                    14.40\n",
       "4  Brazilian - Organic                5                    14.40\n",
       "5  Brazilian - Organic                8                    14.40\n",
       "6         Brazilian Lg                3                     0.70\n",
       "7         Brazilian Lg                5                     0.70\n",
       "8         Brazilian Lg                8                     0.70\n",
       "9         Brazilian Rg                3                     0.60"
      ]
     },
     "execution_count": 32,
     "metadata": {},
     "output_type": "execute_result"
    }
   ],
   "source": [
    "#Current wholesale price\n",
    "df = superData.groupby(['product', 'sales_outlet_id'])['current_wholesale_price'].mean().reset_index(name='average_wholesale_price')\n",
    "df.head(10)"
   ]
  },
  {
   "cell_type": "markdown",
   "id": "b3161600-116b-4078-b62d-58cc0d740d7f",
   "metadata": {
    "jp-MarkdownHeadingCollapsed": true,
    "tags": []
   },
   "source": [
    "#### 4.- Loyalty binary 0 1"
   ]
  },
  {
   "cell_type": "code",
   "execution_count": 33,
   "id": "6dd367b7-7378-494d-9480-598baadc4df1",
   "metadata": {
    "tags": []
   },
   "outputs": [
    {
     "data": {
      "text/plain": [
       "25042"
      ]
     },
     "execution_count": 33,
     "metadata": {},
     "output_type": "execute_result"
    }
   ],
   "source": [
    "superData['loyalty_card_number'].isnull().sum()"
   ]
  },
  {
   "cell_type": "code",
   "execution_count": 34,
   "id": "78058f39-1470-4b04-915e-d01ba9a1a92c",
   "metadata": {
    "tags": []
   },
   "outputs": [
    {
     "data": {
      "text/html": [
       "<div>\n",
       "<style scoped>\n",
       "    .dataframe tbody tr th:only-of-type {\n",
       "        vertical-align: middle;\n",
       "    }\n",
       "\n",
       "    .dataframe tbody tr th {\n",
       "        vertical-align: top;\n",
       "    }\n",
       "\n",
       "    .dataframe thead th {\n",
       "        text-align: right;\n",
       "    }\n",
       "</style>\n",
       "<table border=\"1\" class=\"dataframe\">\n",
       "  <thead>\n",
       "    <tr style=\"text-align: right;\">\n",
       "      <th></th>\n",
       "      <th>transaction_id</th>\n",
       "      <th>Loyalty</th>\n",
       "    </tr>\n",
       "  </thead>\n",
       "  <tbody>\n",
       "    <tr>\n",
       "      <th>0</th>\n",
       "      <td>7</td>\n",
       "      <td>1</td>\n",
       "    </tr>\n",
       "    <tr>\n",
       "      <th>1</th>\n",
       "      <td>11</td>\n",
       "      <td>1</td>\n",
       "    </tr>\n",
       "    <tr>\n",
       "      <th>2</th>\n",
       "      <td>19</td>\n",
       "      <td>1</td>\n",
       "    </tr>\n",
       "    <tr>\n",
       "      <th>3</th>\n",
       "      <td>32</td>\n",
       "      <td>1</td>\n",
       "    </tr>\n",
       "    <tr>\n",
       "      <th>4</th>\n",
       "      <td>33</td>\n",
       "      <td>1</td>\n",
       "    </tr>\n",
       "  </tbody>\n",
       "</table>\n",
       "</div>"
      ],
      "text/plain": [
       "   transaction_id  Loyalty\n",
       "0               7        1\n",
       "1              11        1\n",
       "2              19        1\n",
       "3              32        1\n",
       "4              33        1"
      ]
     },
     "execution_count": 34,
     "metadata": {},
     "output_type": "execute_result"
    }
   ],
   "source": [
    "#Loyalty binary 0 1\n",
    "df = superData.loc[:,['transaction_id', 'loyalty_card_number']]\n",
    "df['Loyalty'] = df['loyalty_card_number'].notnull().astype(int)\n",
    "df.drop(['loyalty_card_number'], axis=1, inplace=True)\n",
    "df.head(5)"
   ]
  },
  {
   "cell_type": "code",
   "execution_count": 35,
   "id": "1e1acd43-ea1a-4eda-bc10-ef5c5be8d67a",
   "metadata": {
    "tags": []
   },
   "outputs": [
    {
     "data": {
      "text/plain": [
       "25042"
      ]
     },
     "execution_count": 35,
     "metadata": {},
     "output_type": "execute_result"
    }
   ],
   "source": [
    "df[df['Loyalty'] == 0].value_counts().sum()"
   ]
  },
  {
   "cell_type": "markdown",
   "id": "e220ba1c-ecfe-4b79-a388-14f5e1f350bf",
   "metadata": {
    "jp-MarkdownHeadingCollapsed": true,
    "tags": []
   },
   "source": [
    "#### 5.-Average price by product group"
   ]
  },
  {
   "cell_type": "code",
   "execution_count": 36,
   "id": "9e67066d-ee70-45dc-a567-608420cc483c",
   "metadata": {
    "tags": []
   },
   "outputs": [
    {
     "data": {
      "text/html": [
       "<div>\n",
       "<style scoped>\n",
       "    .dataframe tbody tr th:only-of-type {\n",
       "        vertical-align: middle;\n",
       "    }\n",
       "\n",
       "    .dataframe tbody tr th {\n",
       "        vertical-align: top;\n",
       "    }\n",
       "\n",
       "    .dataframe thead th {\n",
       "        text-align: right;\n",
       "    }\n",
       "</style>\n",
       "<table border=\"1\" class=\"dataframe\">\n",
       "  <thead>\n",
       "    <tr style=\"text-align: right;\">\n",
       "      <th></th>\n",
       "      <th>product_id</th>\n",
       "      <th>product</th>\n",
       "      <th>product_group</th>\n",
       "      <th>current_retail_price</th>\n",
       "    </tr>\n",
       "  </thead>\n",
       "  <tbody>\n",
       "    <tr>\n",
       "      <th>0</th>\n",
       "      <td>52</td>\n",
       "      <td>Traditional Blend Chai Rg</td>\n",
       "      <td>Beverages</td>\n",
       "      <td>2.5</td>\n",
       "    </tr>\n",
       "  </tbody>\n",
       "</table>\n",
       "</div>"
      ],
      "text/plain": [
       "   product_id                    product product_group  current_retail_price\n",
       "0          52  Traditional Blend Chai Rg     Beverages                   2.5"
      ]
     },
     "execution_count": 36,
     "metadata": {},
     "output_type": "execute_result"
    }
   ],
   "source": [
    "#Current retail price\n",
    "df = superData.loc[:, ['product_id','product', 'product_group']]\n",
    "df['current_retail_price'] = superData['current_retail_price'].str.replace('$', '', regex=True).astype(float)\n",
    "df.head(1)"
   ]
  },
  {
   "cell_type": "code",
   "execution_count": 37,
   "id": "da816c4e-a077-4d5b-af99-36aa033561fb",
   "metadata": {
    "tags": []
   },
   "outputs": [
    {
     "data": {
      "text/html": [
       "<div>\n",
       "<style scoped>\n",
       "    .dataframe tbody tr th:only-of-type {\n",
       "        vertical-align: middle;\n",
       "    }\n",
       "\n",
       "    .dataframe tbody tr th {\n",
       "        vertical-align: top;\n",
       "    }\n",
       "\n",
       "    .dataframe thead th {\n",
       "        text-align: right;\n",
       "    }\n",
       "</style>\n",
       "<table border=\"1\" class=\"dataframe\">\n",
       "  <thead>\n",
       "    <tr style=\"text-align: right;\">\n",
       "      <th></th>\n",
       "      <th>product_group</th>\n",
       "      <th>average_retail_price</th>\n",
       "    </tr>\n",
       "  </thead>\n",
       "  <tbody>\n",
       "    <tr>\n",
       "      <th>0</th>\n",
       "      <td>Add-ons</td>\n",
       "      <td>0.800000</td>\n",
       "    </tr>\n",
       "    <tr>\n",
       "      <th>1</th>\n",
       "      <td>Beverages</td>\n",
       "      <td>3.061532</td>\n",
       "    </tr>\n",
       "    <tr>\n",
       "      <th>2</th>\n",
       "      <td>Food</td>\n",
       "      <td>3.551536</td>\n",
       "    </tr>\n",
       "    <tr>\n",
       "      <th>3</th>\n",
       "      <td>Merchandise</td>\n",
       "      <td>17.951020</td>\n",
       "    </tr>\n",
       "    <tr>\n",
       "      <th>4</th>\n",
       "      <td>Whole Bean/Teas</td>\n",
       "      <td>15.359306</td>\n",
       "    </tr>\n",
       "  </tbody>\n",
       "</table>\n",
       "</div>"
      ],
      "text/plain": [
       "     product_group  average_retail_price\n",
       "0          Add-ons              0.800000\n",
       "1        Beverages              3.061532\n",
       "2             Food              3.551536\n",
       "3      Merchandise             17.951020\n",
       "4  Whole Bean/Teas             15.359306"
      ]
     },
     "execution_count": 37,
     "metadata": {},
     "output_type": "execute_result"
    }
   ],
   "source": [
    "df = df.groupby(['product_group'])['current_retail_price'].mean().reset_index(name='average_retail_price')\n",
    "df.head(10)"
   ]
  },
  {
   "cell_type": "code",
   "execution_count": 38,
   "id": "edcecf90-37e1-4bb4-bff7-23c4f647c5d7",
   "metadata": {
    "tags": []
   },
   "outputs": [
    {
     "data": {
      "text/html": [
       "<div>\n",
       "<style scoped>\n",
       "    .dataframe tbody tr th:only-of-type {\n",
       "        vertical-align: middle;\n",
       "    }\n",
       "\n",
       "    .dataframe tbody tr th {\n",
       "        vertical-align: top;\n",
       "    }\n",
       "\n",
       "    .dataframe thead th {\n",
       "        text-align: right;\n",
       "    }\n",
       "</style>\n",
       "<table border=\"1\" class=\"dataframe\">\n",
       "  <thead>\n",
       "    <tr style=\"text-align: right;\">\n",
       "      <th></th>\n",
       "      <th>product_group</th>\n",
       "      <th>average_wholesale_price</th>\n",
       "    </tr>\n",
       "  </thead>\n",
       "  <tbody>\n",
       "    <tr>\n",
       "      <th>0</th>\n",
       "      <td>Add-ons</td>\n",
       "      <td>0.040000</td>\n",
       "    </tr>\n",
       "    <tr>\n",
       "      <th>1</th>\n",
       "      <td>Beverages</td>\n",
       "      <td>0.895076</td>\n",
       "    </tr>\n",
       "    <tr>\n",
       "      <th>2</th>\n",
       "      <td>Food</td>\n",
       "      <td>2.310242</td>\n",
       "    </tr>\n",
       "    <tr>\n",
       "      <th>3</th>\n",
       "      <td>Merchandise</td>\n",
       "      <td>5.744327</td>\n",
       "    </tr>\n",
       "    <tr>\n",
       "      <th>4</th>\n",
       "      <td>Whole Bean/Teas</td>\n",
       "      <td>12.287270</td>\n",
       "    </tr>\n",
       "  </tbody>\n",
       "</table>\n",
       "</div>"
      ],
      "text/plain": [
       "     product_group  average_wholesale_price\n",
       "0          Add-ons                 0.040000\n",
       "1        Beverages                 0.895076\n",
       "2             Food                 2.310242\n",
       "3      Merchandise                 5.744327\n",
       "4  Whole Bean/Teas                12.287270"
      ]
     },
     "execution_count": 38,
     "metadata": {},
     "output_type": "execute_result"
    }
   ],
   "source": [
    "#Current wholesale price\n",
    "df = superData.groupby(['product_group'])['current_wholesale_price'].mean().reset_index(name='average_wholesale_price')\n",
    "df.head(10)"
   ]
  },
  {
   "cell_type": "markdown",
   "id": "74d1c01e-9b3f-4366-bb6c-005c60158c2d",
   "metadata": {
    "jp-MarkdownHeadingCollapsed": true,
    "tags": []
   },
   "source": [
    "#### 6.- Total volume by customer by store"
   ]
  },
  {
   "cell_type": "code",
   "execution_count": 39,
   "id": "16ddefab-22b4-445d-a36d-d9571a70c708",
   "metadata": {
    "tags": []
   },
   "outputs": [
    {
     "data": {
      "text/html": [
       "<div>\n",
       "<style scoped>\n",
       "    .dataframe tbody tr th:only-of-type {\n",
       "        vertical-align: middle;\n",
       "    }\n",
       "\n",
       "    .dataframe tbody tr th {\n",
       "        vertical-align: top;\n",
       "    }\n",
       "\n",
       "    .dataframe thead th {\n",
       "        text-align: right;\n",
       "    }\n",
       "</style>\n",
       "<table border=\"1\" class=\"dataframe\">\n",
       "  <thead>\n",
       "    <tr style=\"text-align: right;\">\n",
       "      <th></th>\n",
       "      <th>sales_outlet_id</th>\n",
       "      <th>customer_id</th>\n",
       "      <th>total_volume</th>\n",
       "    </tr>\n",
       "  </thead>\n",
       "  <tbody>\n",
       "    <tr>\n",
       "      <th>0</th>\n",
       "      <td>3</td>\n",
       "      <td>0</td>\n",
       "      <td>11581</td>\n",
       "    </tr>\n",
       "    <tr>\n",
       "      <th>1</th>\n",
       "      <td>3</td>\n",
       "      <td>1</td>\n",
       "      <td>11</td>\n",
       "    </tr>\n",
       "    <tr>\n",
       "      <th>2</th>\n",
       "      <td>3</td>\n",
       "      <td>2</td>\n",
       "      <td>27</td>\n",
       "    </tr>\n",
       "    <tr>\n",
       "      <th>3</th>\n",
       "      <td>3</td>\n",
       "      <td>3</td>\n",
       "      <td>45</td>\n",
       "    </tr>\n",
       "    <tr>\n",
       "      <th>4</th>\n",
       "      <td>3</td>\n",
       "      <td>4</td>\n",
       "      <td>10</td>\n",
       "    </tr>\n",
       "    <tr>\n",
       "      <th>5</th>\n",
       "      <td>3</td>\n",
       "      <td>5</td>\n",
       "      <td>8</td>\n",
       "    </tr>\n",
       "    <tr>\n",
       "      <th>6</th>\n",
       "      <td>3</td>\n",
       "      <td>6</td>\n",
       "      <td>15</td>\n",
       "    </tr>\n",
       "    <tr>\n",
       "      <th>7</th>\n",
       "      <td>3</td>\n",
       "      <td>7</td>\n",
       "      <td>17</td>\n",
       "    </tr>\n",
       "    <tr>\n",
       "      <th>8</th>\n",
       "      <td>3</td>\n",
       "      <td>8</td>\n",
       "      <td>21</td>\n",
       "    </tr>\n",
       "    <tr>\n",
       "      <th>9</th>\n",
       "      <td>3</td>\n",
       "      <td>9</td>\n",
       "      <td>16</td>\n",
       "    </tr>\n",
       "  </tbody>\n",
       "</table>\n",
       "</div>"
      ],
      "text/plain": [
       "   sales_outlet_id  customer_id  total_volume\n",
       "0                3            0         11581\n",
       "1                3            1            11\n",
       "2                3            2            27\n",
       "3                3            3            45\n",
       "4                3            4            10\n",
       "5                3            5             8\n",
       "6                3            6            15\n",
       "7                3            7            17\n",
       "8                3            8            21\n",
       "9                3            9            16"
      ]
     },
     "execution_count": 39,
     "metadata": {},
     "output_type": "execute_result"
    }
   ],
   "source": [
    "df = superData.groupby(['sales_outlet_id','customer_id'])['quantity'].sum().reset_index(name='total_volume')\n",
    "df.head(10)"
   ]
  },
  {
   "cell_type": "markdown",
   "id": "98758b4a-337d-42f2-a3ae-01f5a725d505",
   "metadata": {
    "jp-MarkdownHeadingCollapsed": true,
    "tags": []
   },
   "source": [
    "#### 7.-Total revenue by customer by store"
   ]
  },
  {
   "cell_type": "code",
   "execution_count": 40,
   "id": "b00b8ae9-f634-4267-8582-f9b4168a9aca",
   "metadata": {
    "tags": []
   },
   "outputs": [
    {
     "data": {
      "text/html": [
       "<div>\n",
       "<style scoped>\n",
       "    .dataframe tbody tr th:only-of-type {\n",
       "        vertical-align: middle;\n",
       "    }\n",
       "\n",
       "    .dataframe tbody tr th {\n",
       "        vertical-align: top;\n",
       "    }\n",
       "\n",
       "    .dataframe thead th {\n",
       "        text-align: right;\n",
       "    }\n",
       "</style>\n",
       "<table border=\"1\" class=\"dataframe\">\n",
       "  <thead>\n",
       "    <tr style=\"text-align: right;\">\n",
       "      <th></th>\n",
       "      <th>transaction_id</th>\n",
       "      <th>customer_id</th>\n",
       "      <th>sales_outlet_id</th>\n",
       "      <th>quantity</th>\n",
       "      <th>unit_price</th>\n",
       "      <th>total</th>\n",
       "    </tr>\n",
       "  </thead>\n",
       "  <tbody>\n",
       "    <tr>\n",
       "      <th>0</th>\n",
       "      <td>7</td>\n",
       "      <td>558</td>\n",
       "      <td>3</td>\n",
       "      <td>1</td>\n",
       "      <td>2.5</td>\n",
       "      <td>2.5</td>\n",
       "    </tr>\n",
       "    <tr>\n",
       "      <th>1</th>\n",
       "      <td>11</td>\n",
       "      <td>781</td>\n",
       "      <td>3</td>\n",
       "      <td>2</td>\n",
       "      <td>3.5</td>\n",
       "      <td>7.0</td>\n",
       "    </tr>\n",
       "    <tr>\n",
       "      <th>2</th>\n",
       "      <td>19</td>\n",
       "      <td>788</td>\n",
       "      <td>3</td>\n",
       "      <td>2</td>\n",
       "      <td>2.5</td>\n",
       "      <td>5.0</td>\n",
       "    </tr>\n",
       "  </tbody>\n",
       "</table>\n",
       "</div>"
      ],
      "text/plain": [
       "   transaction_id  customer_id  sales_outlet_id  quantity  unit_price  total\n",
       "0               7          558                3         1         2.5    2.5\n",
       "1              11          781                3         2         3.5    7.0\n",
       "2              19          788                3         2         2.5    5.0"
      ]
     },
     "execution_count": 40,
     "metadata": {},
     "output_type": "execute_result"
    }
   ],
   "source": [
    "df = superData.loc[:,['transaction_id', 'customer_id', 'sales_outlet_id', 'quantity', 'unit_price']]\n",
    "df['total'] = df['quantity'] * df['unit_price']\n",
    "df.head(3)"
   ]
  },
  {
   "cell_type": "code",
   "execution_count": 41,
   "id": "2b5cb9a9-a4ea-412b-9b2f-f2eb24a83e92",
   "metadata": {
    "tags": []
   },
   "outputs": [
    {
     "data": {
      "text/html": [
       "<div>\n",
       "<style scoped>\n",
       "    .dataframe tbody tr th:only-of-type {\n",
       "        vertical-align: middle;\n",
       "    }\n",
       "\n",
       "    .dataframe tbody tr th {\n",
       "        vertical-align: top;\n",
       "    }\n",
       "\n",
       "    .dataframe thead th {\n",
       "        text-align: right;\n",
       "    }\n",
       "</style>\n",
       "<table border=\"1\" class=\"dataframe\">\n",
       "  <thead>\n",
       "    <tr style=\"text-align: right;\">\n",
       "      <th></th>\n",
       "      <th>sales_outlet_id</th>\n",
       "      <th>customer_id</th>\n",
       "      <th>revenue</th>\n",
       "    </tr>\n",
       "  </thead>\n",
       "  <tbody>\n",
       "    <tr>\n",
       "      <th>0</th>\n",
       "      <td>3</td>\n",
       "      <td>0</td>\n",
       "      <td>38788.39</td>\n",
       "    </tr>\n",
       "    <tr>\n",
       "      <th>1</th>\n",
       "      <td>3</td>\n",
       "      <td>1</td>\n",
       "      <td>29.20</td>\n",
       "    </tr>\n",
       "    <tr>\n",
       "      <th>2</th>\n",
       "      <td>3</td>\n",
       "      <td>2</td>\n",
       "      <td>90.35</td>\n",
       "    </tr>\n",
       "  </tbody>\n",
       "</table>\n",
       "</div>"
      ],
      "text/plain": [
       "   sales_outlet_id  customer_id   revenue\n",
       "0                3            0  38788.39\n",
       "1                3            1     29.20\n",
       "2                3            2     90.35"
      ]
     },
     "execution_count": 41,
     "metadata": {},
     "output_type": "execute_result"
    }
   ],
   "source": [
    "df = df.groupby(['sales_outlet_id', 'customer_id'])['total'].sum().reset_index(name='revenue')\n",
    "df.head(3)"
   ]
  },
  {
   "cell_type": "markdown",
   "id": "5942a229-d133-4690-ab1f-0f6671d43097",
   "metadata": {
    "jp-MarkdownHeadingCollapsed": true,
    "tags": []
   },
   "source": [
    "#### 8.-Before midday, aftermiday binary columns 0 1\n"
   ]
  },
  {
   "cell_type": "code",
   "execution_count": 42,
   "id": "fa85f4c6-8d9f-418e-98ea-530008ae97bc",
   "metadata": {
    "tags": []
   },
   "outputs": [
    {
     "data": {
      "text/plain": [
       "0    12:04:43\n",
       "1    15:54:39\n",
       "2    14:34:59\n",
       "Name: transaction_time, dtype: object"
      ]
     },
     "execution_count": 42,
     "metadata": {},
     "output_type": "execute_result"
    }
   ],
   "source": [
    "superData['transaction_time'].head(3)"
   ]
  },
  {
   "cell_type": "code",
   "execution_count": 43,
   "id": "aa45659a-723e-4637-be49-b9ba1b40fc02",
   "metadata": {
    "tags": []
   },
   "outputs": [
    {
     "data": {
      "text/plain": [
       "0   2023-03-10 12:04:43\n",
       "1   2023-03-10 15:54:39\n",
       "2   2023-03-10 14:34:59\n",
       "3   2023-03-10 16:06:04\n",
       "4   2023-03-10 19:18:37\n",
       "Name: transaction_time, dtype: datetime64[ns]"
      ]
     },
     "execution_count": 43,
     "metadata": {},
     "output_type": "execute_result"
    }
   ],
   "source": [
    "df = superData.loc[:, ['transaction_id', 'transaction_time']]\n",
    "df['transaction_time'] = pd.to_datetime(df['transaction_time'])\n",
    "df['transaction_time'].head(5)"
   ]
  },
  {
   "cell_type": "code",
   "execution_count": 44,
   "id": "07ffe028-aa7e-4a1e-889b-21a3c6582708",
   "metadata": {
    "tags": []
   },
   "outputs": [
    {
     "data": {
      "text/html": [
       "<div>\n",
       "<style scoped>\n",
       "    .dataframe tbody tr th:only-of-type {\n",
       "        vertical-align: middle;\n",
       "    }\n",
       "\n",
       "    .dataframe tbody tr th {\n",
       "        vertical-align: top;\n",
       "    }\n",
       "\n",
       "    .dataframe thead th {\n",
       "        text-align: right;\n",
       "    }\n",
       "</style>\n",
       "<table border=\"1\" class=\"dataframe\">\n",
       "  <thead>\n",
       "    <tr style=\"text-align: right;\">\n",
       "      <th></th>\n",
       "      <th>transaction_id</th>\n",
       "      <th>binary_midday</th>\n",
       "    </tr>\n",
       "  </thead>\n",
       "  <tbody>\n",
       "    <tr>\n",
       "      <th>0</th>\n",
       "      <td>7</td>\n",
       "      <td>1</td>\n",
       "    </tr>\n",
       "    <tr>\n",
       "      <th>1</th>\n",
       "      <td>11</td>\n",
       "      <td>1</td>\n",
       "    </tr>\n",
       "    <tr>\n",
       "      <th>2</th>\n",
       "      <td>19</td>\n",
       "      <td>1</td>\n",
       "    </tr>\n",
       "    <tr>\n",
       "      <th>3</th>\n",
       "      <td>32</td>\n",
       "      <td>1</td>\n",
       "    </tr>\n",
       "    <tr>\n",
       "      <th>4</th>\n",
       "      <td>33</td>\n",
       "      <td>1</td>\n",
       "    </tr>\n",
       "  </tbody>\n",
       "</table>\n",
       "</div>"
      ],
      "text/plain": [
       "   transaction_id  binary_midday\n",
       "0               7              1\n",
       "1              11              1\n",
       "2              19              1\n",
       "3              32              1\n",
       "4              33              1"
      ]
     },
     "execution_count": 44,
     "metadata": {},
     "output_type": "execute_result"
    }
   ],
   "source": [
    "df['binary_midday'] = (df['transaction_time'].dt.hour >= 12 ).astype(int)\n",
    "df.drop('transaction_time', axis=1, inplace=True)\n",
    "df.head(5)"
   ]
  },
  {
   "cell_type": "markdown",
   "id": "9f840348-ca06-439d-8a8f-519227d88304",
   "metadata": {
    "jp-MarkdownHeadingCollapsed": true,
    "tags": []
   },
   "source": [
    "#### 9.- Proportion of sales in store by store"
   ]
  },
  {
   "cell_type": "code",
   "execution_count": 45,
   "id": "567f9ccd-7815-409a-a90c-3542e2881acb",
   "metadata": {
    "tags": []
   },
   "outputs": [
    {
     "data": {
      "text/plain": [
       "0    N\n",
       "1    N\n",
       "2    Y\n",
       "Name: instore_yn, dtype: object"
      ]
     },
     "execution_count": 45,
     "metadata": {},
     "output_type": "execute_result"
    }
   ],
   "source": [
    "superData['instore_yn'].head(3)"
   ]
  },
  {
   "cell_type": "code",
   "execution_count": 46,
   "id": "f1fc3f33-3768-41c7-b43f-800bb5c45f0c",
   "metadata": {
    "tags": []
   },
   "outputs": [
    {
     "data": {
      "text/html": [
       "<div>\n",
       "<style scoped>\n",
       "    .dataframe tbody tr th:only-of-type {\n",
       "        vertical-align: middle;\n",
       "    }\n",
       "\n",
       "    .dataframe tbody tr th {\n",
       "        vertical-align: top;\n",
       "    }\n",
       "\n",
       "    .dataframe thead tr th {\n",
       "        text-align: left;\n",
       "    }\n",
       "\n",
       "    .dataframe thead tr:last-of-type th {\n",
       "        text-align: right;\n",
       "    }\n",
       "</style>\n",
       "<table border=\"1\" class=\"dataframe\">\n",
       "  <thead>\n",
       "    <tr>\n",
       "      <th></th>\n",
       "      <th>in_store</th>\n",
       "      <th>online</th>\n",
       "    </tr>\n",
       "    <tr>\n",
       "      <th>sales_outlet_id</th>\n",
       "      <th></th>\n",
       "      <th></th>\n",
       "    </tr>\n",
       "  </thead>\n",
       "  <tbody>\n",
       "    <tr>\n",
       "      <th>3</th>\n",
       "      <td>0.505556</td>\n",
       "      <td>0.494444</td>\n",
       "    </tr>\n",
       "    <tr>\n",
       "      <th>5</th>\n",
       "      <td>0.500813</td>\n",
       "      <td>0.499187</td>\n",
       "    </tr>\n",
       "    <tr>\n",
       "      <th>8</th>\n",
       "      <td>0.505096</td>\n",
       "      <td>0.494904</td>\n",
       "    </tr>\n",
       "  </tbody>\n",
       "</table>\n",
       "</div>"
      ],
      "text/plain": [
       "                 in_store    online\n",
       "sales_outlet_id                    \n",
       "3                0.505556  0.494444\n",
       "5                0.500813  0.499187\n",
       "8                0.505096  0.494904"
      ]
     },
     "execution_count": 46,
     "metadata": {},
     "output_type": "execute_result"
    }
   ],
   "source": [
    "df_online = superData.groupby('sales_outlet_id', group_keys=True)['instore_yn'].apply(lambda x: (x == 'Y').sum())\n",
    "df_offline = superData.groupby('sales_outlet_id', group_keys=True)['instore_yn'].apply(lambda x: (x == 'N').sum())\n",
    "df_prop_on = df_online / (df_online + df_offline)\n",
    "df_prop_of = df_offline / (df_online + df_offline)\n",
    "df = pd.concat([df_prop_on, df_prop_of], axis=1)\n",
    "df.columns = [['in_store', 'online']]\n",
    "df"
   ]
  },
  {
   "cell_type": "markdown",
   "id": "1caa5240-abb5-495c-b733-71394d756d46",
   "metadata": {
    "jp-MarkdownHeadingCollapsed": true,
    "tags": []
   },
   "source": [
    "#### 10.-Number of orders by store by day"
   ]
  },
  {
   "cell_type": "code",
   "execution_count": 47,
   "id": "4147bf42-2543-4dff-b3a5-6758fbe75038",
   "metadata": {
    "tags": []
   },
   "outputs": [
    {
     "data": {
      "text/html": [
       "<div>\n",
       "<style scoped>\n",
       "    .dataframe tbody tr th:only-of-type {\n",
       "        vertical-align: middle;\n",
       "    }\n",
       "\n",
       "    .dataframe tbody tr th {\n",
       "        vertical-align: top;\n",
       "    }\n",
       "\n",
       "    .dataframe thead th {\n",
       "        text-align: right;\n",
       "    }\n",
       "</style>\n",
       "<table border=\"1\" class=\"dataframe\">\n",
       "  <thead>\n",
       "    <tr style=\"text-align: right;\">\n",
       "      <th></th>\n",
       "      <th>sales_outlet_id</th>\n",
       "      <th>transaction_date</th>\n",
       "      <th>total_transactions</th>\n",
       "    </tr>\n",
       "  </thead>\n",
       "  <tbody>\n",
       "    <tr>\n",
       "      <th>0</th>\n",
       "      <td>3</td>\n",
       "      <td>01/04/2019</td>\n",
       "      <td>584</td>\n",
       "    </tr>\n",
       "    <tr>\n",
       "      <th>1</th>\n",
       "      <td>3</td>\n",
       "      <td>02/04/2019</td>\n",
       "      <td>604</td>\n",
       "    </tr>\n",
       "    <tr>\n",
       "      <th>2</th>\n",
       "      <td>3</td>\n",
       "      <td>03/04/2019</td>\n",
       "      <td>620</td>\n",
       "    </tr>\n",
       "    <tr>\n",
       "      <th>3</th>\n",
       "      <td>3</td>\n",
       "      <td>04/04/2019</td>\n",
       "      <td>571</td>\n",
       "    </tr>\n",
       "    <tr>\n",
       "      <th>4</th>\n",
       "      <td>3</td>\n",
       "      <td>05/04/2019</td>\n",
       "      <td>601</td>\n",
       "    </tr>\n",
       "  </tbody>\n",
       "</table>\n",
       "</div>"
      ],
      "text/plain": [
       "   sales_outlet_id transaction_date  total_transactions\n",
       "0                3       01/04/2019                 584\n",
       "1                3       02/04/2019                 604\n",
       "2                3       03/04/2019                 620\n",
       "3                3       04/04/2019                 571\n",
       "4                3       05/04/2019                 601"
      ]
     },
     "execution_count": 47,
     "metadata": {},
     "output_type": "execute_result"
    }
   ],
   "source": [
    "#Repeated transactions\n",
    "df = superData.groupby(['sales_outlet_id','transaction_date'])['transaction_id'].size().reset_index(name='total_transactions')\n",
    "df.head(5)"
   ]
  },
  {
   "cell_type": "code",
   "execution_count": 48,
   "id": "78177358-dcce-4222-8f9c-f1b2d9e880e8",
   "metadata": {
    "tags": []
   },
   "outputs": [
    {
     "name": "stdout",
     "output_type": "stream",
     "text": [
      "(87, 3)\n",
      "49894\n"
     ]
    }
   ],
   "source": [
    "print(df.shape)\n",
    "print(df['total_transactions'].sum())"
   ]
  },
  {
   "cell_type": "code",
   "execution_count": 49,
   "id": "b673df76-92b4-4d8c-930a-5151fa8f3429",
   "metadata": {
    "tags": []
   },
   "outputs": [
    {
     "data": {
      "text/html": [
       "<div>\n",
       "<style scoped>\n",
       "    .dataframe tbody tr th:only-of-type {\n",
       "        vertical-align: middle;\n",
       "    }\n",
       "\n",
       "    .dataframe tbody tr th {\n",
       "        vertical-align: top;\n",
       "    }\n",
       "\n",
       "    .dataframe thead th {\n",
       "        text-align: right;\n",
       "    }\n",
       "</style>\n",
       "<table border=\"1\" class=\"dataframe\">\n",
       "  <thead>\n",
       "    <tr style=\"text-align: right;\">\n",
       "      <th></th>\n",
       "      <th>sales_outlet_id</th>\n",
       "      <th>transaction_date</th>\n",
       "      <th>total_transactions</th>\n",
       "    </tr>\n",
       "  </thead>\n",
       "  <tbody>\n",
       "    <tr>\n",
       "      <th>0</th>\n",
       "      <td>3</td>\n",
       "      <td>01/04/2019</td>\n",
       "      <td>508</td>\n",
       "    </tr>\n",
       "    <tr>\n",
       "      <th>1</th>\n",
       "      <td>3</td>\n",
       "      <td>02/04/2019</td>\n",
       "      <td>512</td>\n",
       "    </tr>\n",
       "    <tr>\n",
       "      <th>2</th>\n",
       "      <td>3</td>\n",
       "      <td>03/04/2019</td>\n",
       "      <td>540</td>\n",
       "    </tr>\n",
       "    <tr>\n",
       "      <th>3</th>\n",
       "      <td>3</td>\n",
       "      <td>04/04/2019</td>\n",
       "      <td>488</td>\n",
       "    </tr>\n",
       "    <tr>\n",
       "      <th>4</th>\n",
       "      <td>3</td>\n",
       "      <td>05/04/2019</td>\n",
       "      <td>513</td>\n",
       "    </tr>\n",
       "  </tbody>\n",
       "</table>\n",
       "</div>"
      ],
      "text/plain": [
       "   sales_outlet_id transaction_date  total_transactions\n",
       "0                3       01/04/2019                 508\n",
       "1                3       02/04/2019                 512\n",
       "2                3       03/04/2019                 540\n",
       "3                3       04/04/2019                 488\n",
       "4                3       05/04/2019                 513"
      ]
     },
     "execution_count": 49,
     "metadata": {},
     "output_type": "execute_result"
    }
   ],
   "source": [
    "#delete repeated transactions in the same outlet and date\n",
    "df = superData.loc[:,['sales_outlet_id', 'transaction_id', 'transaction_date']]\n",
    "df.drop_duplicates(subset=['sales_outlet_id','transaction_id', 'transaction_date'], inplace=True)\n",
    "df = df.groupby(['sales_outlet_id','transaction_date'])['transaction_id'].size().reset_index(name='total_transactions')\n",
    "df.head(5)"
   ]
  },
  {
   "cell_type": "code",
   "execution_count": 50,
   "id": "cdf7ca5c-fedd-4f2c-a4d0-c196b7eddfc1",
   "metadata": {
    "tags": []
   },
   "outputs": [
    {
     "name": "stdout",
     "output_type": "stream",
     "text": [
      "(87, 3)\n",
      "39271\n"
     ]
    }
   ],
   "source": [
    "print(df.shape)\n",
    "print(df['total_transactions'].sum())"
   ]
  },
  {
   "cell_type": "markdown",
   "id": "d9423978-7289-4321-bf39-a2529636855e",
   "metadata": {
    "jp-MarkdownHeadingCollapsed": true,
    "tags": []
   },
   "source": [
    "#### 11.- Number of products sold by store"
   ]
  },
  {
   "cell_type": "code",
   "execution_count": 51,
   "id": "1ad05637-a8ad-4992-b0c2-7cecf24770b4",
   "metadata": {
    "tags": []
   },
   "outputs": [
    {
     "data": {
      "text/html": [
       "<div>\n",
       "<style scoped>\n",
       "    .dataframe tbody tr th:only-of-type {\n",
       "        vertical-align: middle;\n",
       "    }\n",
       "\n",
       "    .dataframe tbody tr th {\n",
       "        vertical-align: top;\n",
       "    }\n",
       "\n",
       "    .dataframe thead th {\n",
       "        text-align: right;\n",
       "    }\n",
       "</style>\n",
       "<table border=\"1\" class=\"dataframe\">\n",
       "  <thead>\n",
       "    <tr style=\"text-align: right;\">\n",
       "      <th></th>\n",
       "      <th>sales_outlet_id</th>\n",
       "      <th>quantity</th>\n",
       "    </tr>\n",
       "  </thead>\n",
       "  <tbody>\n",
       "    <tr>\n",
       "      <th>0</th>\n",
       "      <td>3</td>\n",
       "      <td>23620</td>\n",
       "    </tr>\n",
       "    <tr>\n",
       "      <th>1</th>\n",
       "      <td>5</td>\n",
       "      <td>24029</td>\n",
       "    </tr>\n",
       "    <tr>\n",
       "      <th>2</th>\n",
       "      <td>8</td>\n",
       "      <td>24109</td>\n",
       "    </tr>\n",
       "  </tbody>\n",
       "</table>\n",
       "</div>"
      ],
      "text/plain": [
       "   sales_outlet_id  quantity\n",
       "0                3     23620\n",
       "1                5     24029\n",
       "2                8     24109"
      ]
     },
     "execution_count": 51,
     "metadata": {},
     "output_type": "execute_result"
    }
   ],
   "source": [
    "df = superData.groupby(['sales_outlet_id'])['quantity'].sum().reset_index(name='quantity')\n",
    "df.head(10)"
   ]
  },
  {
   "cell_type": "markdown",
   "id": "56460955-c255-460b-acbb-d217b19c5e76",
   "metadata": {
    "tags": []
   },
   "source": [
    "#### 12.-Proportion of items in promo by store"
   ]
  },
  {
   "cell_type": "markdown",
   "id": "b482afb1-0e6a-4e89-ac91-a6bdfea689f0",
   "metadata": {
    "tags": []
   },
   "source": [
    "##### analysis"
   ]
  },
  {
   "cell_type": "code",
   "execution_count": 52,
   "id": "dbfc893b-1a2a-4c64-9fa6-9c2c48d43b25",
   "metadata": {
    "tags": []
   },
   "outputs": [
    {
     "data": {
      "text/plain": [
       "Index(['transaction_id', 'transaction_date', 'transaction_time',\n",
       "       'sales_outlet_id', 'staff_id', 'customer_id', 'instore_yn', 'orders',\n",
       "       'line_item_id', 'product_id', 'quantity', 'line_item_amount',\n",
       "       'unit_price', 'promo_item', 'date_id', 'week_id', 'week_desc',\n",
       "       'month_id', 'month_name', 'quarter_id', 'quarter_name', 'year_id',\n",
       "       'product_group', 'product_category', 'product_type', 'product',\n",
       "       'product_description', 'unit_of_measure', 'current_wholesale_price',\n",
       "       'current_retail_price', 'tax_exempt_yn', 'promo_yn', 'new_product_yn',\n",
       "       'sales_outlet_type', 'store_square_feet', 'store_address', 'store_city',\n",
       "       'store_state_province', 'store_telephone', 'store_postal_code',\n",
       "       'store_longitude', 'store_latitude', 'manager', 'neighborhood',\n",
       "       'home_store', 'customer_first_name', 'customer_email', 'customer_since',\n",
       "       'loyalty_card_number', 'birthdate', 'gender', 'birth_year'],\n",
       "      dtype='object')"
      ]
     },
     "execution_count": 52,
     "metadata": {},
     "output_type": "execute_result"
    }
   ],
   "source": [
    "superData.columns"
   ]
  },
  {
   "cell_type": "code",
   "execution_count": 53,
   "id": "fd2c5d80-edf7-427f-b4c4-9bf38dd33b53",
   "metadata": {
    "tags": []
   },
   "outputs": [],
   "source": [
    "df =superData.loc[:, ['transaction_id', 'promo_item', 'promo_yn']]"
   ]
  },
  {
   "cell_type": "code",
   "execution_count": 54,
   "id": "0932391f-5160-41dc-adf6-e935fe0765b1",
   "metadata": {
    "tags": []
   },
   "outputs": [
    {
     "data": {
      "text/plain": [
       "False"
      ]
     },
     "execution_count": 54,
     "metadata": {},
     "output_type": "execute_result"
    }
   ],
   "source": [
    "df['promo_yn'].isnull().any()"
   ]
  },
  {
   "cell_type": "code",
   "execution_count": 55,
   "id": "7b7549a7-bfa5-46fc-96a6-498077f6c0fb",
   "metadata": {
    "tags": []
   },
   "outputs": [
    {
     "data": {
      "text/plain": [
       "False"
      ]
     },
     "execution_count": 55,
     "metadata": {},
     "output_type": "execute_result"
    }
   ],
   "source": [
    "df['promo_item'].isnull().any()"
   ]
  },
  {
   "cell_type": "code",
   "execution_count": 56,
   "id": "82d3abf7-c6fa-4205-bf1a-58b18a617633",
   "metadata": {
    "tags": []
   },
   "outputs": [],
   "source": [
    "df['promo_item'] = df['promo_item'].map({'Y':1, 'N':0})"
   ]
  },
  {
   "cell_type": "code",
   "execution_count": 57,
   "id": "21096ba6-dea2-4886-80fc-a17612698e9a",
   "metadata": {
    "tags": []
   },
   "outputs": [
    {
     "data": {
      "text/html": [
       "<div>\n",
       "<style scoped>\n",
       "    .dataframe tbody tr th:only-of-type {\n",
       "        vertical-align: middle;\n",
       "    }\n",
       "\n",
       "    .dataframe tbody tr th {\n",
       "        vertical-align: top;\n",
       "    }\n",
       "\n",
       "    .dataframe thead th {\n",
       "        text-align: right;\n",
       "    }\n",
       "</style>\n",
       "<table border=\"1\" class=\"dataframe\">\n",
       "  <thead>\n",
       "    <tr style=\"text-align: right;\">\n",
       "      <th></th>\n",
       "      <th>transaction_id</th>\n",
       "      <th>transaction_date</th>\n",
       "      <th>transaction_time</th>\n",
       "      <th>sales_outlet_id</th>\n",
       "      <th>staff_id</th>\n",
       "      <th>customer_id</th>\n",
       "      <th>instore_yn</th>\n",
       "      <th>orders</th>\n",
       "      <th>line_item_id</th>\n",
       "      <th>product_id</th>\n",
       "      <th>...</th>\n",
       "      <th>manager</th>\n",
       "      <th>neighborhood</th>\n",
       "      <th>home_store</th>\n",
       "      <th>customer_first_name</th>\n",
       "      <th>customer_email</th>\n",
       "      <th>customer_since</th>\n",
       "      <th>loyalty_card_number</th>\n",
       "      <th>birthdate</th>\n",
       "      <th>gender</th>\n",
       "      <th>birth_year</th>\n",
       "    </tr>\n",
       "  </thead>\n",
       "  <tbody>\n",
       "  </tbody>\n",
       "</table>\n",
       "<p>0 rows × 52 columns</p>\n",
       "</div>"
      ],
      "text/plain": [
       "Empty DataFrame\n",
       "Columns: [transaction_id, transaction_date, transaction_time, sales_outlet_id, staff_id, customer_id, instore_yn, orders, line_item_id, product_id, quantity, line_item_amount, unit_price, promo_item, date_id, week_id, week_desc, month_id, month_name, quarter_id, quarter_name, year_id, product_group, product_category, product_type, product, product_description, unit_of_measure, current_wholesale_price, current_retail_price, tax_exempt_yn, promo_yn, new_product_yn, sales_outlet_type, store_square_feet, store_address, store_city, store_state_province, store_telephone, store_postal_code, store_longitude, store_latitude, manager, neighborhood, home_store, customer_first_name, customer_email, customer_since, loyalty_card_number, birthdate, gender, birth_year]\n",
       "Index: []\n",
       "\n",
       "[0 rows x 52 columns]"
      ]
     },
     "execution_count": 57,
     "metadata": {},
     "output_type": "execute_result"
    }
   ],
   "source": [
    "superData[superData['promo_yn'] == 1]"
   ]
  },
  {
   "cell_type": "code",
   "execution_count": 58,
   "id": "e8cfffb0-1115-4134-b50a-945bb1c4d660",
   "metadata": {
    "tags": []
   },
   "outputs": [
    {
     "data": {
      "text/html": [
       "<div>\n",
       "<style scoped>\n",
       "    .dataframe tbody tr th:only-of-type {\n",
       "        vertical-align: middle;\n",
       "    }\n",
       "\n",
       "    .dataframe tbody tr th {\n",
       "        vertical-align: top;\n",
       "    }\n",
       "\n",
       "    .dataframe thead th {\n",
       "        text-align: right;\n",
       "    }\n",
       "</style>\n",
       "<table border=\"1\" class=\"dataframe\">\n",
       "  <thead>\n",
       "    <tr style=\"text-align: right;\">\n",
       "      <th></th>\n",
       "      <th>transaction_id</th>\n",
       "      <th>promo_item</th>\n",
       "      <th>promo_yn</th>\n",
       "    </tr>\n",
       "  </thead>\n",
       "  <tbody>\n",
       "    <tr>\n",
       "      <th>24973</th>\n",
       "      <td>5</td>\n",
       "      <td>1</td>\n",
       "      <td>0</td>\n",
       "    </tr>\n",
       "    <tr>\n",
       "      <th>24974</th>\n",
       "      <td>5</td>\n",
       "      <td>1</td>\n",
       "      <td>0</td>\n",
       "    </tr>\n",
       "    <tr>\n",
       "      <th>25024</th>\n",
       "      <td>153</td>\n",
       "      <td>1</td>\n",
       "      <td>0</td>\n",
       "    </tr>\n",
       "    <tr>\n",
       "      <th>25025</th>\n",
       "      <td>153</td>\n",
       "      <td>1</td>\n",
       "      <td>0</td>\n",
       "    </tr>\n",
       "    <tr>\n",
       "      <th>25088</th>\n",
       "      <td>363</td>\n",
       "      <td>1</td>\n",
       "      <td>0</td>\n",
       "    </tr>\n",
       "    <tr>\n",
       "      <th>...</th>\n",
       "      <td>...</td>\n",
       "      <td>...</td>\n",
       "      <td>...</td>\n",
       "    </tr>\n",
       "    <tr>\n",
       "      <th>49692</th>\n",
       "      <td>401</td>\n",
       "      <td>1</td>\n",
       "      <td>0</td>\n",
       "    </tr>\n",
       "    <tr>\n",
       "      <th>49754</th>\n",
       "      <td>490</td>\n",
       "      <td>1</td>\n",
       "      <td>0</td>\n",
       "    </tr>\n",
       "    <tr>\n",
       "      <th>49777</th>\n",
       "      <td>537</td>\n",
       "      <td>1</td>\n",
       "      <td>0</td>\n",
       "    </tr>\n",
       "    <tr>\n",
       "      <th>49878</th>\n",
       "      <td>729</td>\n",
       "      <td>1</td>\n",
       "      <td>0</td>\n",
       "    </tr>\n",
       "    <tr>\n",
       "      <th>49888</th>\n",
       "      <td>752</td>\n",
       "      <td>1</td>\n",
       "      <td>0</td>\n",
       "    </tr>\n",
       "  </tbody>\n",
       "</table>\n",
       "<p>490 rows × 3 columns</p>\n",
       "</div>"
      ],
      "text/plain": [
       "       transaction_id  promo_item  promo_yn\n",
       "24973               5           1         0\n",
       "24974               5           1         0\n",
       "25024             153           1         0\n",
       "25025             153           1         0\n",
       "25088             363           1         0\n",
       "...               ...         ...       ...\n",
       "49692             401           1         0\n",
       "49754             490           1         0\n",
       "49777             537           1         0\n",
       "49878             729           1         0\n",
       "49888             752           1         0\n",
       "\n",
       "[490 rows x 3 columns]"
      ]
     },
     "execution_count": 58,
     "metadata": {},
     "output_type": "execute_result"
    }
   ],
   "source": [
    "mask = df['promo_item'] != df['promo_yn']\n",
    "df[mask]"
   ]
  },
  {
   "cell_type": "code",
   "execution_count": 67,
   "id": "fbe25245-64d0-41ac-9454-33bad103e5ea",
   "metadata": {
    "tags": []
   },
   "outputs": [
    {
     "data": {
      "text/plain": [
       "sales_outlet_id\n",
       "3    0.000000\n",
       "5    0.011129\n",
       "8    0.018277\n",
       "Name: promo_item, dtype: float64"
      ]
     },
     "execution_count": 67,
     "metadata": {},
     "output_type": "execute_result"
    }
   ],
   "source": [
    "df_promo = superData.groupby('sales_outlet_id', group_keys=True)['promo_item'].apply(lambda x: (x=='Y').sum())\n",
    "df_notpromo = superData.groupby('sales_outlet_id', group_keys=True)['promo_item'].apply(lambda x: (x=='N').sum())\n",
    "df = df_promo / (df_promo + df_notpromo)\n",
    "df.columns = ['promo_proportion']\n",
    "df.head(10)"
   ]
  },
  {
   "cell_type": "markdown",
   "id": "609fcc3b-fbbd-4ef4-a720-a928cfda9a18",
   "metadata": {
    "tags": []
   },
   "source": [
    "#### 13.- Proportion of customer with loyalty by store"
   ]
  },
  {
   "cell_type": "code",
   "execution_count": 59,
   "id": "97131a54-a15b-4cde-91f0-17c6b9bb6baa",
   "metadata": {
    "tags": []
   },
   "outputs": [
    {
     "data": {
      "text/plain": [
       "sales_outlet_id\n",
       "3    0.510607\n",
       "5    0.534263\n",
       "8    0.451877\n",
       "Name: loyalty_card_number, dtype: float64"
      ]
     },
     "execution_count": 59,
     "metadata": {},
     "output_type": "execute_result"
    }
   ],
   "source": [
    "df_loyalty = superData.groupby('sales_outlet_id', group_keys=True)['loyalty_card_number'].apply(lambda x: x.notnull().sum())\n",
    "df_notloyalty = superData.groupby('sales_outlet_id', group_keys=True)['loyalty_card_number'].apply(lambda x: x.isnull().sum())\n",
    "df = df_loyalty / (df_loyalty + df_notloyalty)\n",
    "df.columns = ['loyalty_proportion']\n",
    "df.head(10)"
   ]
  },
  {
   "cell_type": "markdown",
   "id": "f2d53894-b6ac-49e1-9521-d9f87987a981",
   "metadata": {},
   "source": [
    "#### 14.- Transaction in promotion binary 1 0"
   ]
  },
  {
   "cell_type": "code",
   "execution_count": 72,
   "id": "ab0ba9f3-142d-4791-ac8d-bf344a65c9d7",
   "metadata": {
    "tags": []
   },
   "outputs": [
    {
     "data": {
      "text/html": [
       "<div>\n",
       "<style scoped>\n",
       "    .dataframe tbody tr th:only-of-type {\n",
       "        vertical-align: middle;\n",
       "    }\n",
       "\n",
       "    .dataframe tbody tr th {\n",
       "        vertical-align: top;\n",
       "    }\n",
       "\n",
       "    .dataframe thead th {\n",
       "        text-align: right;\n",
       "    }\n",
       "</style>\n",
       "<table border=\"1\" class=\"dataframe\">\n",
       "  <thead>\n",
       "    <tr style=\"text-align: right;\">\n",
       "      <th></th>\n",
       "      <th>transaction_id</th>\n",
       "      <th>promo_item</th>\n",
       "    </tr>\n",
       "  </thead>\n",
       "  <tbody>\n",
       "    <tr>\n",
       "      <th>0</th>\n",
       "      <td>7</td>\n",
       "      <td>0</td>\n",
       "    </tr>\n",
       "    <tr>\n",
       "      <th>1</th>\n",
       "      <td>11</td>\n",
       "      <td>0</td>\n",
       "    </tr>\n",
       "    <tr>\n",
       "      <th>2</th>\n",
       "      <td>19</td>\n",
       "      <td>0</td>\n",
       "    </tr>\n",
       "    <tr>\n",
       "      <th>3</th>\n",
       "      <td>32</td>\n",
       "      <td>0</td>\n",
       "    </tr>\n",
       "    <tr>\n",
       "      <th>4</th>\n",
       "      <td>33</td>\n",
       "      <td>0</td>\n",
       "    </tr>\n",
       "    <tr>\n",
       "      <th>5</th>\n",
       "      <td>39</td>\n",
       "      <td>0</td>\n",
       "    </tr>\n",
       "    <tr>\n",
       "      <th>6</th>\n",
       "      <td>50</td>\n",
       "      <td>0</td>\n",
       "    </tr>\n",
       "    <tr>\n",
       "      <th>7</th>\n",
       "      <td>53</td>\n",
       "      <td>0</td>\n",
       "    </tr>\n",
       "    <tr>\n",
       "      <th>8</th>\n",
       "      <td>59</td>\n",
       "      <td>0</td>\n",
       "    </tr>\n",
       "    <tr>\n",
       "      <th>9</th>\n",
       "      <td>62</td>\n",
       "      <td>0</td>\n",
       "    </tr>\n",
       "  </tbody>\n",
       "</table>\n",
       "</div>"
      ],
      "text/plain": [
       "   transaction_id  promo_item\n",
       "0               7           0\n",
       "1              11           0\n",
       "2              19           0\n",
       "3              32           0\n",
       "4              33           0\n",
       "5              39           0\n",
       "6              50           0\n",
       "7              53           0\n",
       "8              59           0\n",
       "9              62           0"
      ]
     },
     "execution_count": 72,
     "metadata": {},
     "output_type": "execute_result"
    }
   ],
   "source": [
    "df = superData.loc[:, ['transaction_id', 'promo_item']]\n",
    "df['promo_item'] = df['promo_item'].map({'Y':1, 'N':0})\n",
    "df.head(10)"
   ]
  }
 ],
 "metadata": {
  "kernelspec": {
   "display_name": "Python 3 (ipykernel)",
   "language": "python",
   "name": "python3"
  },
  "language_info": {
   "codemirror_mode": {
    "name": "ipython",
    "version": 3
   },
   "file_extension": ".py",
   "mimetype": "text/x-python",
   "name": "python",
   "nbconvert_exporter": "python",
   "pygments_lexer": "ipython3",
   "version": "3.10.9"
  }
 },
 "nbformat": 4,
 "nbformat_minor": 5
}
