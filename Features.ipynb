{
 "cells": [
  {
   "cell_type": "markdown",
   "id": "a5226ce2-3297-457e-9219-be2b1fdcc439",
   "metadata": {
    "tags": []
   },
   "source": [
    "## Importación de Librerías"
   ]
  },
  {
   "cell_type": "code",
   "execution_count": 1,
   "id": "c0dfb75e-41d2-4a8f-9b1b-f723c4ea42c5",
   "metadata": {
    "tags": []
   },
   "outputs": [],
   "source": [
    "import matplotlib.pyplot as plt\n",
    "import seaborn as sns\n",
    "import pandas as pd\n",
    "import numpy as np\n",
    "from connDef import *"
   ]
  },
  {
   "cell_type": "markdown",
   "id": "1341e1f3-7618-43f0-af37-e6139200b9c8",
   "metadata": {
    "tags": []
   },
   "source": [
    "### Obtención de datos e inserción a dataframes"
   ]
  },
  {
   "cell_type": "code",
   "execution_count": 2,
   "id": "c1067eff-75d0-430c-bd7f-830318c0a9fc",
   "metadata": {
    "tags": []
   },
   "outputs": [
    {
     "name": "stdout",
     "output_type": "stream",
     "text": [
      "db connected\n"
     ]
    }
   ],
   "source": [
    "# Conexión a la base de datos.\n",
    "\n",
    "conn = dbconn()"
   ]
  },
  {
   "cell_type": "markdown",
   "id": "2ab37988-ee3f-41ab-b798-dd3ef38b36e4",
   "metadata": {},
   "source": [
    "\n",
    "Read SQL -> df = pd.read_sql(con <connection>, sql = db.text(<query>) )\n"
   ]
  },
  {
   "cell_type": "code",
   "execution_count": 3,
   "id": "a9fc15a0-a727-438e-8e64-c32dca3c9944",
   "metadata": {
    "tags": []
   },
   "outputs": [],
   "source": [
    "query = db.text('SELECT * FROM DcDataLakeDB.CoffeShopData')\n",
    "coffeData = pd.read_sql(con = conn.connect(), sql = query)"
   ]
  },
  {
   "cell_type": "code",
   "execution_count": 4,
   "id": "da10a74b-021a-488d-8ca0-2a7d8e5b5e30",
   "metadata": {
    "tags": []
   },
   "outputs": [],
   "source": [
    "query = db.text('SELECT * FROM DcDataLakeDB.Customer')\n",
    "Customer = pd.read_sql(con = conn.connect(), sql = query)"
   ]
  },
  {
   "cell_type": "code",
   "execution_count": 5,
   "id": "803e3f59-c2de-4915-ad9c-88f274cdbfd4",
   "metadata": {
    "tags": []
   },
   "outputs": [],
   "source": [
    "query = db.text('SELECT * FROM DcDataLakeDB.Dates')\n",
    "dates = pd.read_sql(con = conn.connect(), sql = query)"
   ]
  },
  {
   "cell_type": "code",
   "execution_count": 6,
   "id": "336b30a6-0a47-43f9-89e8-fcb651bce1fd",
   "metadata": {
    "tags": []
   },
   "outputs": [],
   "source": [
    "query = db.text('SELECT * FROM DcDataLakeDB.Generations')\n",
    "generations = pd.read_sql(con = conn.connect(), sql = query)"
   ]
  },
  {
   "cell_type": "code",
   "execution_count": 7,
   "id": "2dabf6a2-c9dd-4993-b1fe-40e2446917f3",
   "metadata": {
    "tags": []
   },
   "outputs": [],
   "source": [
    "query = db.text('SELECT * FROM DcDataLakeDB.Pastry_inventory')\n",
    "pastryInventory = pd.read_sql(con = conn.connect(), sql = query)"
   ]
  },
  {
   "cell_type": "code",
   "execution_count": 8,
   "id": "dfe43427-9984-4fd4-afe0-f77399dcfc4e",
   "metadata": {
    "tags": []
   },
   "outputs": [],
   "source": [
    "query = db.text('SELECT * FROM DcDataLakeDB.Product')\n",
    "product = pd.read_sql(con = conn.connect(), sql = query)"
   ]
  },
  {
   "cell_type": "code",
   "execution_count": 9,
   "id": "82fc0e50-e6cb-47ba-8537-37249abf290d",
   "metadata": {
    "tags": []
   },
   "outputs": [],
   "source": [
    "query = db.text('SELECT * FROM DcDataLakeDB.Sales_target')\n",
    "salesTarget = pd.read_sql(con = conn.connect(), sql = query)"
   ]
  },
  {
   "cell_type": "code",
   "execution_count": 10,
   "id": "5e7861d4-1f1a-4742-9f65-172f6a1980c1",
   "metadata": {
    "tags": []
   },
   "outputs": [],
   "source": [
    "query = db.text('SELECT * FROM DcDataLakeDB.SalesOutlet')\n",
    "salesOutlet = pd.read_sql(con = conn.connect(), sql = query)"
   ]
  },
  {
   "cell_type": "code",
   "execution_count": 11,
   "id": "69c85a96-e543-4b77-a34a-f2d1990d08b4",
   "metadata": {
    "tags": []
   },
   "outputs": [],
   "source": [
    "query = db.text('SELECT * FROM DcDataLakeDB.Staff')\n",
    "staff = pd.read_sql(con = conn.connect(), sql = query)"
   ]
  },
  {
   "cell_type": "markdown",
   "id": "d1f07ce4-36e6-4265-a5e7-aa71f35e5484",
   "metadata": {
    "tags": []
   },
   "source": [
    "## SuperData Dataframe"
   ]
  },
  {
   "cell_type": "markdown",
   "id": "b905f361-4933-4d11-a3af-a58799998c78",
   "metadata": {},
   "source": [
    "JOIN DATAFRAMES:\n",
    "- coffedata\n",
    "- customer\n",
    "- dates \n",
    "- product\n",
    "- sales outlet"
   ]
  },
  {
   "cell_type": "code",
   "execution_count": 12,
   "id": "0b272a87-2753-4a6b-9633-82d8d85d9937",
   "metadata": {
    "tags": []
   },
   "outputs": [
    {
     "data": {
      "text/html": [
       "<div>\n",
       "<style scoped>\n",
       "    .dataframe tbody tr th:only-of-type {\n",
       "        vertical-align: middle;\n",
       "    }\n",
       "\n",
       "    .dataframe tbody tr th {\n",
       "        vertical-align: top;\n",
       "    }\n",
       "\n",
       "    .dataframe thead th {\n",
       "        text-align: right;\n",
       "    }\n",
       "</style>\n",
       "<table border=\"1\" class=\"dataframe\">\n",
       "  <thead>\n",
       "    <tr style=\"text-align: right;\">\n",
       "      <th></th>\n",
       "      <th>transaction_id</th>\n",
       "      <th>transaction_date</th>\n",
       "      <th>transaction_time</th>\n",
       "      <th>sales_outlet_id</th>\n",
       "      <th>staff_id</th>\n",
       "      <th>customer_id</th>\n",
       "      <th>instore_yn</th>\n",
       "      <th>orders</th>\n",
       "      <th>line_item_id</th>\n",
       "      <th>product_id</th>\n",
       "      <th>quantity</th>\n",
       "      <th>line_item_amount</th>\n",
       "      <th>unit_price</th>\n",
       "      <th>promo_item</th>\n",
       "    </tr>\n",
       "  </thead>\n",
       "  <tbody>\n",
       "    <tr>\n",
       "      <th>0</th>\n",
       "      <td>7</td>\n",
       "      <td>01/04/2019</td>\n",
       "      <td>12:04:43</td>\n",
       "      <td>3</td>\n",
       "      <td>12</td>\n",
       "      <td>558</td>\n",
       "      <td>N</td>\n",
       "      <td>1</td>\n",
       "      <td>1</td>\n",
       "      <td>52</td>\n",
       "      <td>1</td>\n",
       "      <td>2.5</td>\n",
       "      <td>2.5</td>\n",
       "      <td>N</td>\n",
       "    </tr>\n",
       "    <tr>\n",
       "      <th>1</th>\n",
       "      <td>11</td>\n",
       "      <td>01/04/2019</td>\n",
       "      <td>15:54:39</td>\n",
       "      <td>3</td>\n",
       "      <td>17</td>\n",
       "      <td>781</td>\n",
       "      <td>N</td>\n",
       "      <td>1</td>\n",
       "      <td>1</td>\n",
       "      <td>27</td>\n",
       "      <td>2</td>\n",
       "      <td>7.0</td>\n",
       "      <td>3.5</td>\n",
       "      <td>N</td>\n",
       "    </tr>\n",
       "    <tr>\n",
       "      <th>2</th>\n",
       "      <td>19</td>\n",
       "      <td>01/04/2019</td>\n",
       "      <td>14:34:59</td>\n",
       "      <td>3</td>\n",
       "      <td>17</td>\n",
       "      <td>788</td>\n",
       "      <td>Y</td>\n",
       "      <td>1</td>\n",
       "      <td>1</td>\n",
       "      <td>46</td>\n",
       "      <td>2</td>\n",
       "      <td>5.0</td>\n",
       "      <td>2.5</td>\n",
       "      <td>N</td>\n",
       "    </tr>\n",
       "  </tbody>\n",
       "</table>\n",
       "</div>"
      ],
      "text/plain": [
       "   transaction_id transaction_date transaction_time  sales_outlet_id  \\\n",
       "0               7       01/04/2019         12:04:43                3   \n",
       "1              11       01/04/2019         15:54:39                3   \n",
       "2              19       01/04/2019         14:34:59                3   \n",
       "\n",
       "   staff_id  customer_id instore_yn  orders  line_item_id  product_id  \\\n",
       "0        12          558          N       1             1          52   \n",
       "1        17          781          N       1             1          27   \n",
       "2        17          788          Y       1             1          46   \n",
       "\n",
       "   quantity  line_item_amount  unit_price promo_item  \n",
       "0         1               2.5         2.5          N  \n",
       "1         2               7.0         3.5          N  \n",
       "2         2               5.0         2.5          N  "
      ]
     },
     "execution_count": 12,
     "metadata": {},
     "output_type": "execute_result"
    }
   ],
   "source": [
    "coffeData.head(3)"
   ]
  },
  {
   "cell_type": "code",
   "execution_count": 13,
   "id": "02b8a31d-8690-4574-84d2-01c599bef683",
   "metadata": {
    "tags": []
   },
   "outputs": [],
   "source": [
    "superData = coffeData.join(dates.set_index('transaction_date'), on='transaction_date')"
   ]
  },
  {
   "cell_type": "code",
   "execution_count": 14,
   "id": "7d2935aa-1f85-4f22-ad80-3944d3352850",
   "metadata": {
    "tags": []
   },
   "outputs": [],
   "source": [
    "superData = superData.join(product.set_index('product_id') ,on='product_id')"
   ]
  },
  {
   "cell_type": "code",
   "execution_count": 15,
   "id": "27b29f6e-6298-4e2c-bf72-5684c2c1dd97",
   "metadata": {
    "tags": []
   },
   "outputs": [],
   "source": [
    "superData = superData.join(salesOutlet.set_index('sales_outlet_id'), on='sales_outlet_id')"
   ]
  },
  {
   "cell_type": "code",
   "execution_count": 16,
   "id": "1e78fc74-eab9-4a87-a4aa-93a2a26259f4",
   "metadata": {
    "tags": []
   },
   "outputs": [],
   "source": [
    "superData = superData.join(Customer.set_index('customer_id'), on='customer_id')"
   ]
  },
  {
   "cell_type": "code",
   "execution_count": 17,
   "id": "e1e8fd35-fecf-443e-8954-245d0936dc42",
   "metadata": {
    "tags": []
   },
   "outputs": [
    {
     "data": {
      "text/plain": [
       "(49894, 52)"
      ]
     },
     "execution_count": 17,
     "metadata": {},
     "output_type": "execute_result"
    }
   ],
   "source": [
    "superData.shape"
   ]
  },
  {
   "cell_type": "code",
   "execution_count": 18,
   "id": "8d391340-0c85-4ff8-a669-49743328e026",
   "metadata": {
    "tags": []
   },
   "outputs": [
    {
     "data": {
      "text/html": [
       "<div>\n",
       "<style scoped>\n",
       "    .dataframe tbody tr th:only-of-type {\n",
       "        vertical-align: middle;\n",
       "    }\n",
       "\n",
       "    .dataframe tbody tr th {\n",
       "        vertical-align: top;\n",
       "    }\n",
       "\n",
       "    .dataframe thead th {\n",
       "        text-align: right;\n",
       "    }\n",
       "</style>\n",
       "<table border=\"1\" class=\"dataframe\">\n",
       "  <thead>\n",
       "    <tr style=\"text-align: right;\">\n",
       "      <th></th>\n",
       "      <th>current_retail_price</th>\n",
       "      <th>unit_price</th>\n",
       "    </tr>\n",
       "  </thead>\n",
       "  <tbody>\n",
       "    <tr>\n",
       "      <th>0</th>\n",
       "      <td>$2.50</td>\n",
       "      <td>2.5</td>\n",
       "    </tr>\n",
       "    <tr>\n",
       "      <th>1</th>\n",
       "      <td>$3.50</td>\n",
       "      <td>3.5</td>\n",
       "    </tr>\n",
       "  </tbody>\n",
       "</table>\n",
       "</div>"
      ],
      "text/plain": [
       "  current_retail_price  unit_price\n",
       "0               $2.50          2.5\n",
       "1               $3.50          3.5"
      ]
     },
     "execution_count": 18,
     "metadata": {},
     "output_type": "execute_result"
    }
   ],
   "source": [
    "superData[['current_retail_price', 'unit_price']].head(2)"
   ]
  },
  {
   "cell_type": "code",
   "execution_count": 19,
   "id": "e34c4b3c-8537-4537-a990-9119b5129732",
   "metadata": {
    "tags": []
   },
   "outputs": [],
   "source": [
    "superData = superData.drop(columns = ['promo_yn', 'unit_price'])"
   ]
  },
  {
   "cell_type": "code",
   "execution_count": 20,
   "id": "e623f4f7-da84-48da-bef4-4ada5cbf5b90",
   "metadata": {
    "tags": []
   },
   "outputs": [
    {
     "data": {
      "text/plain": [
       "Index(['transaction_id', 'transaction_date', 'transaction_time',\n",
       "       'sales_outlet_id', 'staff_id', 'customer_id', 'instore_yn', 'orders',\n",
       "       'line_item_id', 'product_id', 'quantity', 'line_item_amount',\n",
       "       'promo_item', 'date_id', 'week_id', 'week_desc', 'month_id',\n",
       "       'month_name', 'quarter_id', 'quarter_name', 'year_id', 'product_group',\n",
       "       'product_category', 'product_type', 'product', 'product_description',\n",
       "       'unit_of_measure', 'current_wholesale_price', 'current_retail_price',\n",
       "       'tax_exempt_yn', 'new_product_yn', 'sales_outlet_type',\n",
       "       'store_square_feet', 'store_address', 'store_city',\n",
       "       'store_state_province', 'store_telephone', 'store_postal_code',\n",
       "       'store_longitude', 'store_latitude', 'manager', 'neighborhood',\n",
       "       'home_store', 'customer_first_name', 'customer_email', 'customer_since',\n",
       "       'loyalty_card_number', 'birthdate', 'gender', 'birth_year'],\n",
       "      dtype='object')"
      ]
     },
     "execution_count": 20,
     "metadata": {},
     "output_type": "execute_result"
    }
   ],
   "source": [
    "superData.columns"
   ]
  },
  {
   "cell_type": "markdown",
   "id": "20d9b200-78e2-4ccc-9576-4a51e76b07a0",
   "metadata": {},
   "source": [
    "## Engineering"
   ]
  },
  {
   "cell_type": "markdown",
   "id": "093ef479-2615-46d5-8afd-cd35ed721a02",
   "metadata": {
    "tags": []
   },
   "source": [
    "### Feature Engineering:"
   ]
  },
  {
   "cell_type": "markdown",
   "id": "f8d8762b-23df-49dd-9ca7-850080b6e41d",
   "metadata": {},
   "source": [
    "- 1.- Customers by day by store\n",
    "- 2.- Volume by day by store\n",
    "- 3.- Average price per item by store\n",
    "- 4.- Loyalty binary 0 1\n",
    "- 5.- Average price by product group\n",
    "- 6.- Total volume by customer by store\n",
    "- 7.- Total revenue by customer by store\n",
    "- 8.- Before midday, aftermiday binary columns 0 1\n",
    "- 9.- Proportion of sales in store by store\n",
    "- 10.- Number of orders by store by day\n",
    "- 11.- Number of products sold by store\n",
    "- 12.- Proportion of items in promo by store\n",
    "- 13.- Propotion of customer with loyalty by store\n",
    "- 14.- Transaction in promotion binary 0 1"
   ]
  },
  {
   "cell_type": "code",
   "execution_count": 21,
   "id": "e88da17f-64bf-4afa-9b76-73eb2e93121d",
   "metadata": {
    "tags": []
   },
   "outputs": [],
   "source": [
    "#Customers by day by store"
   ]
  },
  {
   "cell_type": "code",
   "execution_count": 34,
   "id": "6dd367b7-7378-494d-9480-598baadc4df1",
   "metadata": {
    "tags": []
   },
   "outputs": [
    {
     "data": {
      "text/plain": [
       "25042"
      ]
     },
     "execution_count": 34,
     "metadata": {},
     "output_type": "execute_result"
    }
   ],
   "source": [
    "superData['loyalty_card_number'].isnull().sum()"
   ]
  },
  {
   "cell_type": "code",
   "execution_count": 41,
   "id": "78058f39-1470-4b04-915e-d01ba9a1a92c",
   "metadata": {
    "tags": []
   },
   "outputs": [
    {
     "name": "stderr",
     "output_type": "stream",
     "text": [
      "/tmp/ipykernel_259368/669938501.py:3: SettingWithCopyWarning: \n",
      "A value is trying to be set on a copy of a slice from a DataFrame.\n",
      "Try using .loc[row_indexer,col_indexer] = value instead\n",
      "\n",
      "See the caveats in the documentation: https://pandas.pydata.org/pandas-docs/stable/user_guide/indexing.html#returning-a-view-versus-a-copy\n",
      "  df['Loyalty'] = df['loyalty_card_number'].notnull().astype(int)\n",
      "/tmp/ipykernel_259368/669938501.py:4: SettingWithCopyWarning: \n",
      "A value is trying to be set on a copy of a slice from a DataFrame\n",
      "\n",
      "See the caveats in the documentation: https://pandas.pydata.org/pandas-docs/stable/user_guide/indexing.html#returning-a-view-versus-a-copy\n",
      "  df.drop(['loyalty_card_number'], axis=1, inplace=True)\n"
     ]
    },
    {
     "data": {
      "text/html": [
       "<div>\n",
       "<style scoped>\n",
       "    .dataframe tbody tr th:only-of-type {\n",
       "        vertical-align: middle;\n",
       "    }\n",
       "\n",
       "    .dataframe tbody tr th {\n",
       "        vertical-align: top;\n",
       "    }\n",
       "\n",
       "    .dataframe thead th {\n",
       "        text-align: right;\n",
       "    }\n",
       "</style>\n",
       "<table border=\"1\" class=\"dataframe\">\n",
       "  <thead>\n",
       "    <tr style=\"text-align: right;\">\n",
       "      <th></th>\n",
       "      <th>transaction_id</th>\n",
       "      <th>Loyalty</th>\n",
       "    </tr>\n",
       "  </thead>\n",
       "  <tbody>\n",
       "    <tr>\n",
       "      <th>0</th>\n",
       "      <td>7</td>\n",
       "      <td>1</td>\n",
       "    </tr>\n",
       "    <tr>\n",
       "      <th>1</th>\n",
       "      <td>11</td>\n",
       "      <td>1</td>\n",
       "    </tr>\n",
       "    <tr>\n",
       "      <th>2</th>\n",
       "      <td>19</td>\n",
       "      <td>1</td>\n",
       "    </tr>\n",
       "    <tr>\n",
       "      <th>3</th>\n",
       "      <td>32</td>\n",
       "      <td>1</td>\n",
       "    </tr>\n",
       "    <tr>\n",
       "      <th>4</th>\n",
       "      <td>33</td>\n",
       "      <td>1</td>\n",
       "    </tr>\n",
       "    <tr>\n",
       "      <th>5</th>\n",
       "      <td>39</td>\n",
       "      <td>1</td>\n",
       "    </tr>\n",
       "    <tr>\n",
       "      <th>6</th>\n",
       "      <td>50</td>\n",
       "      <td>1</td>\n",
       "    </tr>\n",
       "    <tr>\n",
       "      <th>7</th>\n",
       "      <td>53</td>\n",
       "      <td>1</td>\n",
       "    </tr>\n",
       "    <tr>\n",
       "      <th>8</th>\n",
       "      <td>59</td>\n",
       "      <td>1</td>\n",
       "    </tr>\n",
       "    <tr>\n",
       "      <th>9</th>\n",
       "      <td>62</td>\n",
       "      <td>1</td>\n",
       "    </tr>\n",
       "  </tbody>\n",
       "</table>\n",
       "</div>"
      ],
      "text/plain": [
       "   transaction_id  Loyalty\n",
       "0               7        1\n",
       "1              11        1\n",
       "2              19        1\n",
       "3              32        1\n",
       "4              33        1\n",
       "5              39        1\n",
       "6              50        1\n",
       "7              53        1\n",
       "8              59        1\n",
       "9              62        1"
      ]
     },
     "execution_count": 41,
     "metadata": {},
     "output_type": "execute_result"
    }
   ],
   "source": [
    "#Loyalty binary 0 1\n",
    "df = superData[['transaction_id', 'loyalty_card_number']]\n",
    "df['Loyalty'] = df['loyalty_card_number'].notnull().astype(int)\n",
    "df.drop(['loyalty_card_number'], axis=1, inplace=True)\n",
    "df.head(10)"
   ]
  },
  {
   "cell_type": "code",
   "execution_count": null,
   "id": "300fd9ff-9bbb-41fe-8680-82e52d2d6c09",
   "metadata": {},
   "outputs": [],
   "source": []
  }
 ],
 "metadata": {
  "kernelspec": {
   "display_name": "Python 3 (ipykernel)",
   "language": "python",
   "name": "python3"
  },
  "language_info": {
   "codemirror_mode": {
    "name": "ipython",
    "version": 3
   },
   "file_extension": ".py",
   "mimetype": "text/x-python",
   "name": "python",
   "nbconvert_exporter": "python",
   "pygments_lexer": "ipython3",
   "version": "3.10.9"
  }
 },
 "nbformat": 4,
 "nbformat_minor": 5
}
