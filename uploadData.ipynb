{
 "cells": [
  {
   "cell_type": "markdown",
   "id": "5138b870-3860-42db-88c1-9120ee74cb07",
   "metadata": {
    "tags": []
   },
   "source": [
    "# Ejercicio Modelo de Redención"
   ]
  },
  {
   "cell_type": "markdown",
   "id": "ef5b2c93-ef22-44a7-b1a6-1f8755a10529",
   "metadata": {
    "tags": []
   },
   "source": [
    "### Instalación de dependencias"
   ]
  },
  {
   "cell_type": "code",
   "execution_count": null,
   "id": "126cf483-c720-410a-b94c-8f05d0f0e74b",
   "metadata": {
    "tags": []
   },
   "outputs": [],
   "source": [
    "#!pip install pymysql\n",
    "#!pip install sqlalchemy\n",
    "#!pip install pandas numpy"
   ]
  },
  {
   "cell_type": "code",
   "execution_count": 2,
   "id": "9e35a39c-e60a-4cbb-b9f9-133f69df15ea",
   "metadata": {
    "tags": []
   },
   "outputs": [],
   "source": [
    "import pandas as pd\n",
    "import numpy as np\n",
    "from connDef import *"
   ]
  },
  {
   "cell_type": "markdown",
   "id": "6ce46bed-caa8-4f86-9c1b-dd8bab7328d5",
   "metadata": {
    "tags": []
   },
   "source": [
    "## Carga de archivos a la bbdd"
   ]
  },
  {
   "cell_type": "markdown",
   "id": "31586e03-094a-4200-94d2-df04c3ea3cde",
   "metadata": {
    "tags": []
   },
   "source": [
    "### Creación de la conexión a la base de datos (por seguridad en connDef.py)"
   ]
  },
  {
   "cell_type": "code",
   "execution_count": 26,
   "id": "f23e71d3-9a57-4e90-bce6-eeddb330bb09",
   "metadata": {
    "tags": []
   },
   "outputs": [
    {
     "name": "stdout",
     "output_type": "stream",
     "text": [
      "db connected\n"
     ]
    }
   ],
   "source": [
    "connection = dbconn()"
   ]
  },
  {
   "cell_type": "markdown",
   "id": "15d01f6d-52ed-4188-98b7-e1d7a38abece",
   "metadata": {
    "tags": []
   },
   "source": [
    "### Importación de csv a df y carga a "
   ]
  },
  {
   "cell_type": "markdown",
   "id": "39ab8acb-979e-4c79-b4ea-ae35351b685e",
   "metadata": {
    "tags": []
   },
   "source": [
    "#### Coffe Data Shop // Primero hay que importar todas las tablas con llaves primarias."
   ]
  },
  {
   "cell_type": "code",
   "execution_count": 8,
   "id": "31690781-32d3-4d06-81fe-c928c323f156",
   "metadata": {
    "tags": []
   },
   "outputs": [],
   "source": [
    "coffedf = pd.read_csv(\"CoffeShopDatabases/201904 sales reciepts.csv\")"
   ]
  },
  {
   "cell_type": "code",
   "execution_count": 193,
   "id": "2f9fa930-3904-4811-a77b-b91274db0e5b",
   "metadata": {
    "tags": []
   },
   "outputs": [
    {
     "data": {
      "text/html": [
       "<div>\n",
       "<style scoped>\n",
       "    .dataframe tbody tr th:only-of-type {\n",
       "        vertical-align: middle;\n",
       "    }\n",
       "\n",
       "    .dataframe tbody tr th {\n",
       "        vertical-align: top;\n",
       "    }\n",
       "\n",
       "    .dataframe thead th {\n",
       "        text-align: right;\n",
       "    }\n",
       "</style>\n",
       "<table border=\"1\" class=\"dataframe\">\n",
       "  <thead>\n",
       "    <tr style=\"text-align: right;\">\n",
       "      <th></th>\n",
       "      <th>transaction_id</th>\n",
       "      <th>transaction_date</th>\n",
       "      <th>transaction_time</th>\n",
       "      <th>sales_outlet_id</th>\n",
       "      <th>staff_id</th>\n",
       "      <th>customer_id</th>\n",
       "      <th>instore_yn</th>\n",
       "      <th>orders</th>\n",
       "      <th>line_item_id</th>\n",
       "      <th>product_id</th>\n",
       "      <th>quantity</th>\n",
       "      <th>line_item_amount</th>\n",
       "      <th>unit_price</th>\n",
       "      <th>promo_item</th>\n",
       "    </tr>\n",
       "  </thead>\n",
       "  <tbody>\n",
       "    <tr>\n",
       "      <th>0</th>\n",
       "      <td>7</td>\n",
       "      <td>01/04/2019</td>\n",
       "      <td>12:04:43</td>\n",
       "      <td>3</td>\n",
       "      <td>12</td>\n",
       "      <td>558</td>\n",
       "      <td>N</td>\n",
       "      <td>1</td>\n",
       "      <td>1</td>\n",
       "      <td>52</td>\n",
       "      <td>1</td>\n",
       "      <td>2.50</td>\n",
       "      <td>2.50</td>\n",
       "      <td>N</td>\n",
       "    </tr>\n",
       "    <tr>\n",
       "      <th>1</th>\n",
       "      <td>11</td>\n",
       "      <td>01/04/2019</td>\n",
       "      <td>15:54:39</td>\n",
       "      <td>3</td>\n",
       "      <td>17</td>\n",
       "      <td>781</td>\n",
       "      <td>N</td>\n",
       "      <td>1</td>\n",
       "      <td>1</td>\n",
       "      <td>27</td>\n",
       "      <td>2</td>\n",
       "      <td>7.00</td>\n",
       "      <td>3.50</td>\n",
       "      <td>N</td>\n",
       "    </tr>\n",
       "    <tr>\n",
       "      <th>2</th>\n",
       "      <td>19</td>\n",
       "      <td>01/04/2019</td>\n",
       "      <td>14:34:59</td>\n",
       "      <td>3</td>\n",
       "      <td>17</td>\n",
       "      <td>788</td>\n",
       "      <td>Y</td>\n",
       "      <td>1</td>\n",
       "      <td>1</td>\n",
       "      <td>46</td>\n",
       "      <td>2</td>\n",
       "      <td>5.00</td>\n",
       "      <td>2.50</td>\n",
       "      <td>N</td>\n",
       "    </tr>\n",
       "    <tr>\n",
       "      <th>3</th>\n",
       "      <td>32</td>\n",
       "      <td>01/04/2019</td>\n",
       "      <td>16:06:04</td>\n",
       "      <td>3</td>\n",
       "      <td>12</td>\n",
       "      <td>683</td>\n",
       "      <td>N</td>\n",
       "      <td>1</td>\n",
       "      <td>1</td>\n",
       "      <td>23</td>\n",
       "      <td>2</td>\n",
       "      <td>5.00</td>\n",
       "      <td>2.50</td>\n",
       "      <td>N</td>\n",
       "    </tr>\n",
       "    <tr>\n",
       "      <th>4</th>\n",
       "      <td>33</td>\n",
       "      <td>01/04/2019</td>\n",
       "      <td>19:18:37</td>\n",
       "      <td>3</td>\n",
       "      <td>17</td>\n",
       "      <td>99</td>\n",
       "      <td>Y</td>\n",
       "      <td>1</td>\n",
       "      <td>1</td>\n",
       "      <td>34</td>\n",
       "      <td>1</td>\n",
       "      <td>2.45</td>\n",
       "      <td>2.45</td>\n",
       "      <td>N</td>\n",
       "    </tr>\n",
       "    <tr>\n",
       "      <th>...</th>\n",
       "      <td>...</td>\n",
       "      <td>...</td>\n",
       "      <td>...</td>\n",
       "      <td>...</td>\n",
       "      <td>...</td>\n",
       "      <td>...</td>\n",
       "      <td>...</td>\n",
       "      <td>...</td>\n",
       "      <td>...</td>\n",
       "      <td>...</td>\n",
       "      <td>...</td>\n",
       "      <td>...</td>\n",
       "      <td>...</td>\n",
       "      <td>...</td>\n",
       "    </tr>\n",
       "    <tr>\n",
       "      <th>49879</th>\n",
       "      <td>735</td>\n",
       "      <td>29/04/2019</td>\n",
       "      <td>11:53:48</td>\n",
       "      <td>8</td>\n",
       "      <td>42</td>\n",
       "      <td>8431</td>\n",
       "      <td>N</td>\n",
       "      <td>1</td>\n",
       "      <td>1</td>\n",
       "      <td>87</td>\n",
       "      <td>2</td>\n",
       "      <td>6.00</td>\n",
       "      <td>3.00</td>\n",
       "      <td>N</td>\n",
       "    </tr>\n",
       "    <tr>\n",
       "      <th>49880</th>\n",
       "      <td>736</td>\n",
       "      <td>29/04/2019</td>\n",
       "      <td>14:39:55</td>\n",
       "      <td>8</td>\n",
       "      <td>15</td>\n",
       "      <td>0</td>\n",
       "      <td>Y</td>\n",
       "      <td>1</td>\n",
       "      <td>1</td>\n",
       "      <td>38</td>\n",
       "      <td>1</td>\n",
       "      <td>3.75</td>\n",
       "      <td>3.75</td>\n",
       "      <td>N</td>\n",
       "    </tr>\n",
       "    <tr>\n",
       "      <th>49881</th>\n",
       "      <td>737</td>\n",
       "      <td>29/04/2019</td>\n",
       "      <td>11:48:45</td>\n",
       "      <td>8</td>\n",
       "      <td>45</td>\n",
       "      <td>0</td>\n",
       "      <td>N</td>\n",
       "      <td>1</td>\n",
       "      <td>1</td>\n",
       "      <td>49</td>\n",
       "      <td>1</td>\n",
       "      <td>3.00</td>\n",
       "      <td>3.00</td>\n",
       "      <td>N</td>\n",
       "    </tr>\n",
       "    <tr>\n",
       "      <th>49882</th>\n",
       "      <td>740</td>\n",
       "      <td>29/04/2019</td>\n",
       "      <td>08:16:20</td>\n",
       "      <td>8</td>\n",
       "      <td>15</td>\n",
       "      <td>8026</td>\n",
       "      <td>Y</td>\n",
       "      <td>1</td>\n",
       "      <td>1</td>\n",
       "      <td>41</td>\n",
       "      <td>1</td>\n",
       "      <td>4.25</td>\n",
       "      <td>4.25</td>\n",
       "      <td>N</td>\n",
       "    </tr>\n",
       "    <tr>\n",
       "      <th>49883</th>\n",
       "      <td>742</td>\n",
       "      <td>29/04/2019</td>\n",
       "      <td>19:23:25</td>\n",
       "      <td>8</td>\n",
       "      <td>45</td>\n",
       "      <td>0</td>\n",
       "      <td>N</td>\n",
       "      <td>1</td>\n",
       "      <td>1</td>\n",
       "      <td>41</td>\n",
       "      <td>1</td>\n",
       "      <td>4.25</td>\n",
       "      <td>4.25</td>\n",
       "      <td>N</td>\n",
       "    </tr>\n",
       "  </tbody>\n",
       "</table>\n",
       "<p>49884 rows × 14 columns</p>\n",
       "</div>"
      ],
      "text/plain": [
       "       transaction_id transaction_date transaction_time  sales_outlet_id  \\\n",
       "0                   7       01/04/2019         12:04:43                3   \n",
       "1                  11       01/04/2019         15:54:39                3   \n",
       "2                  19       01/04/2019         14:34:59                3   \n",
       "3                  32       01/04/2019         16:06:04                3   \n",
       "4                  33       01/04/2019         19:18:37                3   \n",
       "...               ...              ...              ...              ...   \n",
       "49879             735       29/04/2019         11:53:48                8   \n",
       "49880             736       29/04/2019         14:39:55                8   \n",
       "49881             737       29/04/2019         11:48:45                8   \n",
       "49882             740       29/04/2019         08:16:20                8   \n",
       "49883             742       29/04/2019         19:23:25                8   \n",
       "\n",
       "       staff_id  customer_id instore_yn  orders  line_item_id  product_id  \\\n",
       "0            12          558          N       1             1          52   \n",
       "1            17          781          N       1             1          27   \n",
       "2            17          788          Y       1             1          46   \n",
       "3            12          683          N       1             1          23   \n",
       "4            17           99          Y       1             1          34   \n",
       "...         ...          ...        ...     ...           ...         ...   \n",
       "49879        42         8431          N       1             1          87   \n",
       "49880        15            0          Y       1             1          38   \n",
       "49881        45            0          N       1             1          49   \n",
       "49882        15         8026          Y       1             1          41   \n",
       "49883        45            0          N       1             1          41   \n",
       "\n",
       "       quantity  line_item_amount  unit_price promo_item  \n",
       "0             1              2.50        2.50          N  \n",
       "1             2              7.00        3.50          N  \n",
       "2             2              5.00        2.50          N  \n",
       "3             2              5.00        2.50          N  \n",
       "4             1              2.45        2.45          N  \n",
       "...         ...               ...         ...        ...  \n",
       "49879         2              6.00        3.00          N  \n",
       "49880         1              3.75        3.75          N  \n",
       "49881         1              3.00        3.00          N  \n",
       "49882         1              4.25        4.25          N  \n",
       "49883         1              4.25        4.25          N  \n",
       "\n",
       "[49884 rows x 14 columns]"
      ]
     },
     "execution_count": 193,
     "metadata": {},
     "output_type": "execute_result"
    }
   ],
   "source": [
    "coffedf.head(-10)"
   ]
  },
  {
   "cell_type": "code",
   "execution_count": 185,
   "id": "6b49951a-db70-425e-9167-7325cc1933ee",
   "metadata": {
    "tags": []
   },
   "outputs": [
    {
     "data": {
      "text/plain": [
       "(array([   28,    29,  3945,  3946,  4467,  8386,  9852, 10401, 10894,\n",
       "        11583, 11584, 12192, 12193, 12777, 13415, 13923, 14485, 15174,\n",
       "        15175, 15739, 15740, 16315, 16959, 17472, 18091, 18092, 18627,\n",
       "        19099, 19697, 20353, 20884, 20885, 21493, 22183, 23236, 23237,\n",
       "        24450, 25027, 25028, 29314, 33230, 34306, 34988, 35371, 35372,\n",
       "        37101, 41134, 41657, 45847, 46459, 47569, 49567]),)"
      ]
     },
     "execution_count": 185,
     "metadata": {},
     "output_type": "execute_result"
    }
   ],
   "source": [
    "np.where(coffedf['transaction_id'] == 156)"
   ]
  },
  {
   "cell_type": "code",
   "execution_count": 10,
   "id": "d55523b3-8360-4d9e-ad19-3495416420da",
   "metadata": {
    "tags": []
   },
   "outputs": [
    {
     "data": {
      "text/plain": [
       "Index(['transaction_id', 'transaction_date', 'transaction_time',\n",
       "       'sales_outlet_id', 'staff_id', 'customer_id', 'instore_yn', 'order',\n",
       "       'line_item_id', 'product_id', 'quantity', 'line_item_amount',\n",
       "       'unit_price', 'promo_item_yn'],\n",
       "      dtype='object')"
      ]
     },
     "execution_count": 10,
     "metadata": {},
     "output_type": "execute_result"
    }
   ],
   "source": [
    "coffedf.columns"
   ]
  },
  {
   "cell_type": "code",
   "execution_count": 141,
   "id": "b46f90f9-d520-423b-b33d-6c69e082118a",
   "metadata": {
    "tags": []
   },
   "outputs": [],
   "source": [
    "columns =['transaction_id',\n",
    "          'transaction_date', \n",
    "          'transaction_time', \n",
    "          'sales_outlet_id', \n",
    "          'staff_id',\n",
    "          'customer_id', \n",
    "          'instore_yn', \n",
    "          'orders', \n",
    "          'line_item_id', \n",
    "          'product_id',\n",
    "          'quantity', \n",
    "          'line_item_amount', \n",
    "          'unit_price', \n",
    "          'promo_item'\n",
    "\n",
    "    ]"
   ]
  },
  {
   "cell_type": "code",
   "execution_count": 142,
   "id": "6494ef32-211a-4138-aaf8-d5bcdbb3d62c",
   "metadata": {
    "tags": []
   },
   "outputs": [],
   "source": [
    "coffedf.columns = columns"
   ]
  },
  {
   "cell_type": "code",
   "execution_count": 147,
   "id": "cef40f35-edd2-45b2-a1f9-621edecc20b6",
   "metadata": {
    "tags": []
   },
   "outputs": [
    {
     "data": {
      "text/plain": [
       "transaction_date    object\n",
       "date_ID              int64\n",
       "week_ID              int64\n",
       "week_Desc           object\n",
       "month_ID             int64\n",
       "month_Name          object\n",
       "quarter_ID           int64\n",
       "quarter_Name        object\n",
       "year_ID              int64\n",
       "dtype: object"
      ]
     },
     "execution_count": 147,
     "metadata": {},
     "output_type": "execute_result"
    }
   ],
   "source": [
    "dates.dtypes"
   ]
  },
  {
   "cell_type": "code",
   "execution_count": 173,
   "id": "d5b0d9dd-bc22-430c-a43e-f2e031a806d0",
   "metadata": {
    "tags": []
   },
   "outputs": [
    {
     "data": {
      "text/plain": [
       "transaction_id        int64\n",
       "transaction_date     object\n",
       "transaction_time     object\n",
       "sales_outlet_id       int64\n",
       "staff_id              int64\n",
       "customer_id           int64\n",
       "instore_yn           object\n",
       "orders                int64\n",
       "line_item_id          int64\n",
       "product_id            int64\n",
       "quantity              int64\n",
       "line_item_amount    float64\n",
       "unit_price          float64\n",
       "promo_item           object\n",
       "dtype: object"
      ]
     },
     "execution_count": 173,
     "metadata": {},
     "output_type": "execute_result"
    }
   ],
   "source": [
    "coffedf.dtypes"
   ]
  },
  {
   "cell_type": "code",
   "execution_count": 153,
   "id": "4312e775-83e1-4d77-afd5-30d336519778",
   "metadata": {
    "tags": []
   },
   "outputs": [],
   "source": [
    "coffedf['transaction_date'] = pd.to_datetime(coffedf['transaction_date'], format='%Y-%m-%d')"
   ]
  },
  {
   "cell_type": "code",
   "execution_count": 160,
   "id": "146f971f-70be-4955-8ba7-cf4cc73c0332",
   "metadata": {
    "tags": []
   },
   "outputs": [],
   "source": [
    "coffedf['transaction_date'] = coffedf['transaction_date'].dt.strftime('%d/%m/%Y')"
   ]
  },
  {
   "cell_type": "code",
   "execution_count": 164,
   "id": "210e5b2c-2a1b-4203-b8d3-677fa4d914e7",
   "metadata": {
    "tags": []
   },
   "outputs": [],
   "source": [
    "coffedf.drop(columns=['transacion_date'], axis=1, inplace=True)"
   ]
  },
  {
   "cell_type": "code",
   "execution_count": 174,
   "id": "ce0e995a-806c-4f58-a36c-7866e74b4367",
   "metadata": {
    "tags": []
   },
   "outputs": [],
   "source": [
    "coffedf['transaction_date'] = coffedf['transaction_date'].astype(str)"
   ]
  },
  {
   "cell_type": "markdown",
   "id": "7189b6ce-e9dd-486e-8b4e-236b0bfed1f9",
   "metadata": {
    "tags": []
   },
   "source": [
    "Carga de dataframes a tablas en la base de datos"
   ]
  },
  {
   "cell_type": "code",
   "execution_count": 196,
   "id": "595b0bf0-bb93-4390-9a24-d412b193c67f",
   "metadata": {
    "tags": []
   },
   "outputs": [
    {
     "data": {
      "text/plain": [
       "49894"
      ]
     },
     "execution_count": 196,
     "metadata": {},
     "output_type": "execute_result"
    }
   ],
   "source": [
    "coffedf.to_sql(con=connection, name='CoffeShopData', if_exists='append', index=False)"
   ]
  },
  {
   "cell_type": "markdown",
   "id": "fd8758b8-e5d9-43b0-88d6-42c3694f69ae",
   "metadata": {
    "jp-MarkdownHeadingCollapsed": true,
    "tags": []
   },
   "source": [
    "#### Product // LISTO!"
   ]
  },
  {
   "cell_type": "code",
   "execution_count": 129,
   "id": "2d52a930-933a-42b8-9032-a500d35547a4",
   "metadata": {
    "tags": []
   },
   "outputs": [],
   "source": [
    "products = pd.read_csv('./CoffeShopDatabases/product.csv')"
   ]
  },
  {
   "cell_type": "code",
   "execution_count": 94,
   "id": "0ef2824a-5e5a-407e-955b-3f728e1f4332",
   "metadata": {
    "tags": []
   },
   "outputs": [
    {
     "data": {
      "text/html": [
       "<div>\n",
       "<style scoped>\n",
       "    .dataframe tbody tr th:only-of-type {\n",
       "        vertical-align: middle;\n",
       "    }\n",
       "\n",
       "    .dataframe tbody tr th {\n",
       "        vertical-align: top;\n",
       "    }\n",
       "\n",
       "    .dataframe thead th {\n",
       "        text-align: right;\n",
       "    }\n",
       "</style>\n",
       "<table border=\"1\" class=\"dataframe\">\n",
       "  <thead>\n",
       "    <tr style=\"text-align: right;\">\n",
       "      <th></th>\n",
       "      <th>product_id</th>\n",
       "      <th>product_group</th>\n",
       "      <th>product_category</th>\n",
       "      <th>product_type</th>\n",
       "      <th>product</th>\n",
       "      <th>product_description</th>\n",
       "      <th>unit_of_measure</th>\n",
       "      <th>current_wholesale_price</th>\n",
       "      <th>current_retail_price</th>\n",
       "      <th>tax_exempt_yn</th>\n",
       "      <th>promo_yn</th>\n",
       "      <th>new_product_yn</th>\n",
       "    </tr>\n",
       "  </thead>\n",
       "  <tbody>\n",
       "    <tr>\n",
       "      <th>0</th>\n",
       "      <td>1</td>\n",
       "      <td>Whole Bean/Teas</td>\n",
       "      <td>Coffee beans</td>\n",
       "      <td>Organic Beans</td>\n",
       "      <td>Brazilian - Organic</td>\n",
       "      <td>It's like Carnival in a cup. Clean and smooth.</td>\n",
       "      <td>12 oz</td>\n",
       "      <td>14.40</td>\n",
       "      <td>$18.00</td>\n",
       "      <td>Y</td>\n",
       "      <td>N</td>\n",
       "      <td>N</td>\n",
       "    </tr>\n",
       "    <tr>\n",
       "      <th>1</th>\n",
       "      <td>2</td>\n",
       "      <td>Whole Bean/Teas</td>\n",
       "      <td>Coffee beans</td>\n",
       "      <td>House blend Beans</td>\n",
       "      <td>Our Old Time Diner Blend</td>\n",
       "      <td>Out packed blend of beans that is reminiscent ...</td>\n",
       "      <td>12 oz</td>\n",
       "      <td>14.40</td>\n",
       "      <td>$18.00</td>\n",
       "      <td>Y</td>\n",
       "      <td>N</td>\n",
       "      <td>N</td>\n",
       "    </tr>\n",
       "    <tr>\n",
       "      <th>2</th>\n",
       "      <td>3</td>\n",
       "      <td>Whole Bean/Teas</td>\n",
       "      <td>Coffee beans</td>\n",
       "      <td>Espresso Beans</td>\n",
       "      <td>Espresso Roast</td>\n",
       "      <td>Our house blend for a good espresso shot.</td>\n",
       "      <td>1 lb</td>\n",
       "      <td>11.80</td>\n",
       "      <td>$14.75</td>\n",
       "      <td>Y</td>\n",
       "      <td>N</td>\n",
       "      <td>N</td>\n",
       "    </tr>\n",
       "    <tr>\n",
       "      <th>3</th>\n",
       "      <td>4</td>\n",
       "      <td>Whole Bean/Teas</td>\n",
       "      <td>Coffee beans</td>\n",
       "      <td>Espresso Beans</td>\n",
       "      <td>Primo Espresso Roast</td>\n",
       "      <td>Our primium single source of hand roasted beans.</td>\n",
       "      <td>1 lb</td>\n",
       "      <td>16.36</td>\n",
       "      <td>$20.45</td>\n",
       "      <td>Y</td>\n",
       "      <td>N</td>\n",
       "      <td>N</td>\n",
       "    </tr>\n",
       "    <tr>\n",
       "      <th>4</th>\n",
       "      <td>5</td>\n",
       "      <td>Whole Bean/Teas</td>\n",
       "      <td>Coffee beans</td>\n",
       "      <td>Gourmet Beans</td>\n",
       "      <td>Columbian Medium Roast</td>\n",
       "      <td>A smooth cup of coffee any time of day.</td>\n",
       "      <td>1 lb</td>\n",
       "      <td>12.00</td>\n",
       "      <td>$15.00</td>\n",
       "      <td>Y</td>\n",
       "      <td>N</td>\n",
       "      <td>N</td>\n",
       "    </tr>\n",
       "    <tr>\n",
       "      <th>5</th>\n",
       "      <td>6</td>\n",
       "      <td>Whole Bean/Teas</td>\n",
       "      <td>Coffee beans</td>\n",
       "      <td>Gourmet Beans</td>\n",
       "      <td>Ethiopia</td>\n",
       "      <td>From the home of coffee.</td>\n",
       "      <td>1 lb</td>\n",
       "      <td>16.80</td>\n",
       "      <td>$21.00</td>\n",
       "      <td>Y</td>\n",
       "      <td>N</td>\n",
       "      <td>N</td>\n",
       "    </tr>\n",
       "    <tr>\n",
       "      <th>6</th>\n",
       "      <td>7</td>\n",
       "      <td>Whole Bean/Teas</td>\n",
       "      <td>Coffee beans</td>\n",
       "      <td>Premium Beans</td>\n",
       "      <td>Jamacian Coffee River</td>\n",
       "      <td>Ya man, it will start your day off right.</td>\n",
       "      <td>1 lb</td>\n",
       "      <td>15.80</td>\n",
       "      <td>$19.75</td>\n",
       "      <td>Y</td>\n",
       "      <td>N</td>\n",
       "      <td>N</td>\n",
       "    </tr>\n",
       "    <tr>\n",
       "      <th>7</th>\n",
       "      <td>8</td>\n",
       "      <td>Whole Bean/Teas</td>\n",
       "      <td>Coffee beans</td>\n",
       "      <td>Premium Beans</td>\n",
       "      <td>Civet Cat</td>\n",
       "      <td>The most expensive coffee in the world, the ca...</td>\n",
       "      <td>.5 lb</td>\n",
       "      <td>36.00</td>\n",
       "      <td>$45.00</td>\n",
       "      <td>Y</td>\n",
       "      <td>N</td>\n",
       "      <td>N</td>\n",
       "    </tr>\n",
       "    <tr>\n",
       "      <th>8</th>\n",
       "      <td>9</td>\n",
       "      <td>Whole Bean/Teas</td>\n",
       "      <td>Coffee beans</td>\n",
       "      <td>Organic Beans</td>\n",
       "      <td>Organic Decaf Blend</td>\n",
       "      <td>Our blend of hand picked organic beans that ha...</td>\n",
       "      <td>1 lb</td>\n",
       "      <td>18.00</td>\n",
       "      <td>$22.50</td>\n",
       "      <td>Y</td>\n",
       "      <td>N</td>\n",
       "      <td>N</td>\n",
       "    </tr>\n",
       "    <tr>\n",
       "      <th>9</th>\n",
       "      <td>10</td>\n",
       "      <td>Whole Bean/Teas</td>\n",
       "      <td>Coffee beans</td>\n",
       "      <td>Green beans</td>\n",
       "      <td>Guatemalan Sustainably Grown</td>\n",
       "      <td>Green beans you can roast yourself.</td>\n",
       "      <td>1 lb</td>\n",
       "      <td>8.00</td>\n",
       "      <td>$10.00</td>\n",
       "      <td>Y</td>\n",
       "      <td>N</td>\n",
       "      <td>N</td>\n",
       "    </tr>\n",
       "  </tbody>\n",
       "</table>\n",
       "</div>"
      ],
      "text/plain": [
       "   product_id    product_group product_category       product_type  \\\n",
       "0           1  Whole Bean/Teas     Coffee beans      Organic Beans   \n",
       "1           2  Whole Bean/Teas     Coffee beans  House blend Beans   \n",
       "2           3  Whole Bean/Teas     Coffee beans     Espresso Beans   \n",
       "3           4  Whole Bean/Teas     Coffee beans     Espresso Beans   \n",
       "4           5  Whole Bean/Teas     Coffee beans      Gourmet Beans   \n",
       "5           6  Whole Bean/Teas     Coffee beans      Gourmet Beans   \n",
       "6           7  Whole Bean/Teas     Coffee beans      Premium Beans   \n",
       "7           8  Whole Bean/Teas     Coffee beans      Premium Beans   \n",
       "8           9  Whole Bean/Teas     Coffee beans      Organic Beans   \n",
       "9          10  Whole Bean/Teas     Coffee beans        Green beans   \n",
       "\n",
       "                        product  \\\n",
       "0           Brazilian - Organic   \n",
       "1      Our Old Time Diner Blend   \n",
       "2                Espresso Roast   \n",
       "3          Primo Espresso Roast   \n",
       "4        Columbian Medium Roast   \n",
       "5                      Ethiopia   \n",
       "6         Jamacian Coffee River   \n",
       "7                     Civet Cat   \n",
       "8           Organic Decaf Blend   \n",
       "9  Guatemalan Sustainably Grown   \n",
       "\n",
       "                                 product_description unit_of_measure  \\\n",
       "0     It's like Carnival in a cup. Clean and smooth.           12 oz   \n",
       "1  Out packed blend of beans that is reminiscent ...           12 oz   \n",
       "2          Our house blend for a good espresso shot.            1 lb   \n",
       "3   Our primium single source of hand roasted beans.            1 lb   \n",
       "4           A smooth cup of coffee any time of day.             1 lb   \n",
       "5                           From the home of coffee.            1 lb   \n",
       "6         Ya man, it will start your day off right.             1 lb   \n",
       "7  The most expensive coffee in the world, the ca...           .5 lb   \n",
       "8  Our blend of hand picked organic beans that ha...            1 lb   \n",
       "9               Green beans you can roast yourself.             1 lb   \n",
       "\n",
       "   current_wholesale_price current_retail_price tax_exempt_yn promo_yn  \\\n",
       "0                    14.40              $18.00              Y        N   \n",
       "1                    14.40              $18.00              Y        N   \n",
       "2                    11.80              $14.75              Y        N   \n",
       "3                    16.36              $20.45              Y        N   \n",
       "4                    12.00              $15.00              Y        N   \n",
       "5                    16.80              $21.00              Y        N   \n",
       "6                    15.80              $19.75              Y        N   \n",
       "7                    36.00              $45.00              Y        N   \n",
       "8                    18.00              $22.50              Y        N   \n",
       "9                     8.00              $10.00              Y        N   \n",
       "\n",
       "  new_product_yn  \n",
       "0              N  \n",
       "1              N  \n",
       "2              N  \n",
       "3              N  \n",
       "4              N  \n",
       "5              N  \n",
       "6              N  \n",
       "7              N  \n",
       "8              N  \n",
       "9              N  "
      ]
     },
     "execution_count": 94,
     "metadata": {},
     "output_type": "execute_result"
    }
   ],
   "source": [
    "products.head(10)"
   ]
  },
  {
   "cell_type": "code",
   "execution_count": 95,
   "id": "63fcb19e-8677-4cee-95d5-5e51a15fa587",
   "metadata": {
    "tags": []
   },
   "outputs": [
    {
     "data": {
      "text/plain": [
       "Index(['product_id', 'product_group', 'product_category', 'product_type',\n",
       "       'product', 'product_description', 'unit_of_measure',\n",
       "       'current_wholesale_price', 'current_retail_price', 'tax_exempt_yn',\n",
       "       'promo_yn', 'new_product_yn'],\n",
       "      dtype='object')"
      ]
     },
     "execution_count": 95,
     "metadata": {},
     "output_type": "execute_result"
    }
   ],
   "source": [
    "products.columns"
   ]
  },
  {
   "cell_type": "code",
   "execution_count": 108,
   "id": "9fa680b8-fc25-44e3-9446-6c5a2e2b9001",
   "metadata": {
    "tags": []
   },
   "outputs": [
    {
     "data": {
      "text/plain": [
       "product_id                   int64\n",
       "product_group               object\n",
       "product_category            object\n",
       "product_type                object\n",
       "product                     object\n",
       "product_description         object\n",
       "unit_of_measure             object\n",
       "current_wholesale_price    float64\n",
       "current_retail_price        object\n",
       "tax_exempt_yn               object\n",
       "promo_yn                    object\n",
       "new_product_yn              object\n",
       "dtype: object"
      ]
     },
     "execution_count": 108,
     "metadata": {},
     "output_type": "execute_result"
    }
   ],
   "source": [
    "products.dtypes"
   ]
  },
  {
   "cell_type": "code",
   "execution_count": 132,
   "id": "3ba0c052-181d-4d78-a2e4-3cfebb0330de",
   "metadata": {
    "tags": []
   },
   "outputs": [],
   "source": [
    "products[\"promo_yn\"] = np.where(products[\"promo_yn\"] == \"N\", 0, 1)"
   ]
  },
  {
   "cell_type": "code",
   "execution_count": 134,
   "id": "e450f8d3-59e2-4b6d-94a5-36a0e7e09f97",
   "metadata": {
    "tags": []
   },
   "outputs": [],
   "source": [
    "products[\"new_product_yn\"] = np.where(products[\"new_product_yn\"] == \"N\", 0, 1)"
   ]
  },
  {
   "cell_type": "code",
   "execution_count": 135,
   "id": "5978e527-b9bd-4dc4-84e2-700667a0cf6b",
   "metadata": {
    "tags": []
   },
   "outputs": [
    {
     "data": {
      "text/html": [
       "<div>\n",
       "<style scoped>\n",
       "    .dataframe tbody tr th:only-of-type {\n",
       "        vertical-align: middle;\n",
       "    }\n",
       "\n",
       "    .dataframe tbody tr th {\n",
       "        vertical-align: top;\n",
       "    }\n",
       "\n",
       "    .dataframe thead th {\n",
       "        text-align: right;\n",
       "    }\n",
       "</style>\n",
       "<table border=\"1\" class=\"dataframe\">\n",
       "  <thead>\n",
       "    <tr style=\"text-align: right;\">\n",
       "      <th></th>\n",
       "      <th>product_id</th>\n",
       "      <th>product_group</th>\n",
       "      <th>product_category</th>\n",
       "      <th>product_type</th>\n",
       "      <th>product</th>\n",
       "      <th>product_description</th>\n",
       "      <th>unit_of_measure</th>\n",
       "      <th>current_wholesale_price</th>\n",
       "      <th>current_retail_price</th>\n",
       "      <th>tax_exempt_yn</th>\n",
       "      <th>promo_yn</th>\n",
       "      <th>new_product_yn</th>\n",
       "    </tr>\n",
       "  </thead>\n",
       "  <tbody>\n",
       "    <tr>\n",
       "      <th>0</th>\n",
       "      <td>1</td>\n",
       "      <td>Whole Bean/Teas</td>\n",
       "      <td>Coffee beans</td>\n",
       "      <td>Organic Beans</td>\n",
       "      <td>Brazilian - Organic</td>\n",
       "      <td>It's like Carnival in a cup. Clean and smooth.</td>\n",
       "      <td>12 oz</td>\n",
       "      <td>14.40</td>\n",
       "      <td>$18.00</td>\n",
       "      <td>Y</td>\n",
       "      <td>0</td>\n",
       "      <td>0</td>\n",
       "    </tr>\n",
       "    <tr>\n",
       "      <th>1</th>\n",
       "      <td>2</td>\n",
       "      <td>Whole Bean/Teas</td>\n",
       "      <td>Coffee beans</td>\n",
       "      <td>House blend Beans</td>\n",
       "      <td>Our Old Time Diner Blend</td>\n",
       "      <td>Out packed blend of beans that is reminiscent ...</td>\n",
       "      <td>12 oz</td>\n",
       "      <td>14.40</td>\n",
       "      <td>$18.00</td>\n",
       "      <td>Y</td>\n",
       "      <td>0</td>\n",
       "      <td>0</td>\n",
       "    </tr>\n",
       "    <tr>\n",
       "      <th>2</th>\n",
       "      <td>3</td>\n",
       "      <td>Whole Bean/Teas</td>\n",
       "      <td>Coffee beans</td>\n",
       "      <td>Espresso Beans</td>\n",
       "      <td>Espresso Roast</td>\n",
       "      <td>Our house blend for a good espresso shot.</td>\n",
       "      <td>1 lb</td>\n",
       "      <td>11.80</td>\n",
       "      <td>$14.75</td>\n",
       "      <td>Y</td>\n",
       "      <td>0</td>\n",
       "      <td>0</td>\n",
       "    </tr>\n",
       "    <tr>\n",
       "      <th>3</th>\n",
       "      <td>4</td>\n",
       "      <td>Whole Bean/Teas</td>\n",
       "      <td>Coffee beans</td>\n",
       "      <td>Espresso Beans</td>\n",
       "      <td>Primo Espresso Roast</td>\n",
       "      <td>Our primium single source of hand roasted beans.</td>\n",
       "      <td>1 lb</td>\n",
       "      <td>16.36</td>\n",
       "      <td>$20.45</td>\n",
       "      <td>Y</td>\n",
       "      <td>0</td>\n",
       "      <td>0</td>\n",
       "    </tr>\n",
       "    <tr>\n",
       "      <th>4</th>\n",
       "      <td>5</td>\n",
       "      <td>Whole Bean/Teas</td>\n",
       "      <td>Coffee beans</td>\n",
       "      <td>Gourmet Beans</td>\n",
       "      <td>Columbian Medium Roast</td>\n",
       "      <td>A smooth cup of coffee any time of day.</td>\n",
       "      <td>1 lb</td>\n",
       "      <td>12.00</td>\n",
       "      <td>$15.00</td>\n",
       "      <td>Y</td>\n",
       "      <td>0</td>\n",
       "      <td>0</td>\n",
       "    </tr>\n",
       "    <tr>\n",
       "      <th>5</th>\n",
       "      <td>6</td>\n",
       "      <td>Whole Bean/Teas</td>\n",
       "      <td>Coffee beans</td>\n",
       "      <td>Gourmet Beans</td>\n",
       "      <td>Ethiopia</td>\n",
       "      <td>From the home of coffee.</td>\n",
       "      <td>1 lb</td>\n",
       "      <td>16.80</td>\n",
       "      <td>$21.00</td>\n",
       "      <td>Y</td>\n",
       "      <td>0</td>\n",
       "      <td>0</td>\n",
       "    </tr>\n",
       "    <tr>\n",
       "      <th>6</th>\n",
       "      <td>7</td>\n",
       "      <td>Whole Bean/Teas</td>\n",
       "      <td>Coffee beans</td>\n",
       "      <td>Premium Beans</td>\n",
       "      <td>Jamacian Coffee River</td>\n",
       "      <td>Ya man, it will start your day off right.</td>\n",
       "      <td>1 lb</td>\n",
       "      <td>15.80</td>\n",
       "      <td>$19.75</td>\n",
       "      <td>Y</td>\n",
       "      <td>0</td>\n",
       "      <td>0</td>\n",
       "    </tr>\n",
       "    <tr>\n",
       "      <th>7</th>\n",
       "      <td>8</td>\n",
       "      <td>Whole Bean/Teas</td>\n",
       "      <td>Coffee beans</td>\n",
       "      <td>Premium Beans</td>\n",
       "      <td>Civet Cat</td>\n",
       "      <td>The most expensive coffee in the world, the ca...</td>\n",
       "      <td>.5 lb</td>\n",
       "      <td>36.00</td>\n",
       "      <td>$45.00</td>\n",
       "      <td>Y</td>\n",
       "      <td>0</td>\n",
       "      <td>0</td>\n",
       "    </tr>\n",
       "    <tr>\n",
       "      <th>8</th>\n",
       "      <td>9</td>\n",
       "      <td>Whole Bean/Teas</td>\n",
       "      <td>Coffee beans</td>\n",
       "      <td>Organic Beans</td>\n",
       "      <td>Organic Decaf Blend</td>\n",
       "      <td>Our blend of hand picked organic beans that ha...</td>\n",
       "      <td>1 lb</td>\n",
       "      <td>18.00</td>\n",
       "      <td>$22.50</td>\n",
       "      <td>Y</td>\n",
       "      <td>0</td>\n",
       "      <td>0</td>\n",
       "    </tr>\n",
       "    <tr>\n",
       "      <th>9</th>\n",
       "      <td>10</td>\n",
       "      <td>Whole Bean/Teas</td>\n",
       "      <td>Coffee beans</td>\n",
       "      <td>Green beans</td>\n",
       "      <td>Guatemalan Sustainably Grown</td>\n",
       "      <td>Green beans you can roast yourself.</td>\n",
       "      <td>1 lb</td>\n",
       "      <td>8.00</td>\n",
       "      <td>$10.00</td>\n",
       "      <td>Y</td>\n",
       "      <td>0</td>\n",
       "      <td>0</td>\n",
       "    </tr>\n",
       "  </tbody>\n",
       "</table>\n",
       "</div>"
      ],
      "text/plain": [
       "   product_id    product_group product_category       product_type  \\\n",
       "0           1  Whole Bean/Teas     Coffee beans      Organic Beans   \n",
       "1           2  Whole Bean/Teas     Coffee beans  House blend Beans   \n",
       "2           3  Whole Bean/Teas     Coffee beans     Espresso Beans   \n",
       "3           4  Whole Bean/Teas     Coffee beans     Espresso Beans   \n",
       "4           5  Whole Bean/Teas     Coffee beans      Gourmet Beans   \n",
       "5           6  Whole Bean/Teas     Coffee beans      Gourmet Beans   \n",
       "6           7  Whole Bean/Teas     Coffee beans      Premium Beans   \n",
       "7           8  Whole Bean/Teas     Coffee beans      Premium Beans   \n",
       "8           9  Whole Bean/Teas     Coffee beans      Organic Beans   \n",
       "9          10  Whole Bean/Teas     Coffee beans        Green beans   \n",
       "\n",
       "                        product  \\\n",
       "0           Brazilian - Organic   \n",
       "1      Our Old Time Diner Blend   \n",
       "2                Espresso Roast   \n",
       "3          Primo Espresso Roast   \n",
       "4        Columbian Medium Roast   \n",
       "5                      Ethiopia   \n",
       "6         Jamacian Coffee River   \n",
       "7                     Civet Cat   \n",
       "8           Organic Decaf Blend   \n",
       "9  Guatemalan Sustainably Grown   \n",
       "\n",
       "                                 product_description unit_of_measure  \\\n",
       "0     It's like Carnival in a cup. Clean and smooth.           12 oz   \n",
       "1  Out packed blend of beans that is reminiscent ...           12 oz   \n",
       "2          Our house blend for a good espresso shot.            1 lb   \n",
       "3   Our primium single source of hand roasted beans.            1 lb   \n",
       "4           A smooth cup of coffee any time of day.             1 lb   \n",
       "5                           From the home of coffee.            1 lb   \n",
       "6         Ya man, it will start your day off right.             1 lb   \n",
       "7  The most expensive coffee in the world, the ca...           .5 lb   \n",
       "8  Our blend of hand picked organic beans that ha...            1 lb   \n",
       "9               Green beans you can roast yourself.             1 lb   \n",
       "\n",
       "   current_wholesale_price current_retail_price tax_exempt_yn  promo_yn  \\\n",
       "0                    14.40              $18.00              Y         0   \n",
       "1                    14.40              $18.00              Y         0   \n",
       "2                    11.80              $14.75              Y         0   \n",
       "3                    16.36              $20.45              Y         0   \n",
       "4                    12.00              $15.00              Y         0   \n",
       "5                    16.80              $21.00              Y         0   \n",
       "6                    15.80              $19.75              Y         0   \n",
       "7                    36.00              $45.00              Y         0   \n",
       "8                    18.00              $22.50              Y         0   \n",
       "9                     8.00              $10.00              Y         0   \n",
       "\n",
       "   new_product_yn  \n",
       "0               0  \n",
       "1               0  \n",
       "2               0  \n",
       "3               0  \n",
       "4               0  \n",
       "5               0  \n",
       "6               0  \n",
       "7               0  \n",
       "8               0  \n",
       "9               0  "
      ]
     },
     "execution_count": 135,
     "metadata": {},
     "output_type": "execute_result"
    }
   ],
   "source": [
    "products.head(10)"
   ]
  },
  {
   "cell_type": "code",
   "execution_count": 136,
   "id": "26ca08a1-8943-497c-9ef6-bb052d504863",
   "metadata": {
    "tags": []
   },
   "outputs": [
    {
     "data": {
      "text/plain": [
       "88"
      ]
     },
     "execution_count": 136,
     "metadata": {},
     "output_type": "execute_result"
    }
   ],
   "source": [
    "products.to_sql(con=connection, name='Product', if_exists='append', index=False)"
   ]
  },
  {
   "cell_type": "markdown",
   "id": "5f7d86b8-99ce-4e9f-bc8a-dd66114c6029",
   "metadata": {
    "jp-MarkdownHeadingCollapsed": true,
    "tags": []
   },
   "source": [
    "#### Staff // Listo!"
   ]
  },
  {
   "cell_type": "code",
   "execution_count": 27,
   "id": "4aeae790-d404-4e03-8092-aa5ad82c3537",
   "metadata": {
    "tags": []
   },
   "outputs": [],
   "source": [
    "staff = pd.read_csv('CoffeShopDatabases/staff.csv')"
   ]
  },
  {
   "cell_type": "code",
   "execution_count": 39,
   "id": "42b4dbff-3694-47d3-9f54-2022f34dff5c",
   "metadata": {
    "tags": []
   },
   "outputs": [
    {
     "data": {
      "text/html": [
       "<div>\n",
       "<style scoped>\n",
       "    .dataframe tbody tr th:only-of-type {\n",
       "        vertical-align: middle;\n",
       "    }\n",
       "\n",
       "    .dataframe tbody tr th {\n",
       "        vertical-align: top;\n",
       "    }\n",
       "\n",
       "    .dataframe thead th {\n",
       "        text-align: right;\n",
       "    }\n",
       "</style>\n",
       "<table border=\"1\" class=\"dataframe\">\n",
       "  <thead>\n",
       "    <tr style=\"text-align: right;\">\n",
       "      <th></th>\n",
       "      <th>staff_id</th>\n",
       "      <th>first_name</th>\n",
       "      <th>last_name</th>\n",
       "      <th>position</th>\n",
       "      <th>start_date</th>\n",
       "      <th>location</th>\n",
       "    </tr>\n",
       "  </thead>\n",
       "  <tbody>\n",
       "    <tr>\n",
       "      <th>0</th>\n",
       "      <td>1</td>\n",
       "      <td>Sue</td>\n",
       "      <td>Tindale</td>\n",
       "      <td>CFO</td>\n",
       "      <td>8/3/2001</td>\n",
       "      <td>HQ</td>\n",
       "    </tr>\n",
       "    <tr>\n",
       "      <th>1</th>\n",
       "      <td>2</td>\n",
       "      <td>Ian</td>\n",
       "      <td>Tindale</td>\n",
       "      <td>CEO</td>\n",
       "      <td>8/3/2001</td>\n",
       "      <td>HQ</td>\n",
       "    </tr>\n",
       "    <tr>\n",
       "      <th>2</th>\n",
       "      <td>3</td>\n",
       "      <td>Marny</td>\n",
       "      <td>Hermione</td>\n",
       "      <td>Roaster</td>\n",
       "      <td>10/24/2007</td>\n",
       "      <td>WH</td>\n",
       "    </tr>\n",
       "    <tr>\n",
       "      <th>3</th>\n",
       "      <td>4</td>\n",
       "      <td>Chelsea</td>\n",
       "      <td>Claudia</td>\n",
       "      <td>Roaster</td>\n",
       "      <td>7/3/2003</td>\n",
       "      <td>WH</td>\n",
       "    </tr>\n",
       "    <tr>\n",
       "      <th>4</th>\n",
       "      <td>5</td>\n",
       "      <td>Alec</td>\n",
       "      <td>Isadora</td>\n",
       "      <td>Roaster</td>\n",
       "      <td>4/2/2008</td>\n",
       "      <td>WH</td>\n",
       "    </tr>\n",
       "    <tr>\n",
       "      <th>5</th>\n",
       "      <td>6</td>\n",
       "      <td>Xena</td>\n",
       "      <td>Rahim</td>\n",
       "      <td>Store Manager</td>\n",
       "      <td>7/24/2016</td>\n",
       "      <td>3</td>\n",
       "    </tr>\n",
       "    <tr>\n",
       "      <th>6</th>\n",
       "      <td>7</td>\n",
       "      <td>Kelsey</td>\n",
       "      <td>Cameron</td>\n",
       "      <td>Coffee Wrangler</td>\n",
       "      <td>10/18/2003</td>\n",
       "      <td>3</td>\n",
       "    </tr>\n",
       "    <tr>\n",
       "      <th>7</th>\n",
       "      <td>8</td>\n",
       "      <td>Hamilton</td>\n",
       "      <td>Emi</td>\n",
       "      <td>Coffee Wrangler</td>\n",
       "      <td>2/9/2005</td>\n",
       "      <td>3</td>\n",
       "    </tr>\n",
       "    <tr>\n",
       "      <th>8</th>\n",
       "      <td>9</td>\n",
       "      <td>Caldwell</td>\n",
       "      <td>Veda</td>\n",
       "      <td>Coffee Wrangler</td>\n",
       "      <td>9/9/2013</td>\n",
       "      <td>3</td>\n",
       "    </tr>\n",
       "    <tr>\n",
       "      <th>9</th>\n",
       "      <td>10</td>\n",
       "      <td>Ima</td>\n",
       "      <td>Winifred</td>\n",
       "      <td>Coffee Wrangler</td>\n",
       "      <td>12/10/2016</td>\n",
       "      <td>3</td>\n",
       "    </tr>\n",
       "  </tbody>\n",
       "</table>\n",
       "</div>"
      ],
      "text/plain": [
       "   staff_id first_name last_name         position  start_date location\n",
       "0         1        Sue   Tindale              CFO    8/3/2001       HQ\n",
       "1         2        Ian   Tindale              CEO    8/3/2001       HQ\n",
       "2         3      Marny  Hermione          Roaster  10/24/2007       WH\n",
       "3         4    Chelsea   Claudia          Roaster    7/3/2003       WH\n",
       "4         5       Alec   Isadora          Roaster    4/2/2008       WH\n",
       "5         6       Xena     Rahim    Store Manager   7/24/2016        3\n",
       "6         7     Kelsey   Cameron  Coffee Wrangler  10/18/2003        3\n",
       "7         8   Hamilton       Emi  Coffee Wrangler    2/9/2005        3\n",
       "8         9   Caldwell      Veda  Coffee Wrangler    9/9/2013        3\n",
       "9        10        Ima  Winifred  Coffee Wrangler  12/10/2016        3"
      ]
     },
     "execution_count": 39,
     "metadata": {},
     "output_type": "execute_result"
    }
   ],
   "source": [
    "staff.head(10)"
   ]
  },
  {
   "cell_type": "code",
   "execution_count": 37,
   "id": "7c91b1ba-8390-4df8-930f-4b5d919eb68e",
   "metadata": {},
   "outputs": [],
   "source": [
    "staff.drop(['Unnamed: 6', 'Unnamed: 7'], axis=1, inplace=True)"
   ]
  },
  {
   "cell_type": "code",
   "execution_count": 40,
   "id": "c06dc25b-8bf5-4f82-9538-6622e0d19a6d",
   "metadata": {
    "tags": []
   },
   "outputs": [
    {
     "data": {
      "text/html": [
       "<div>\n",
       "<style scoped>\n",
       "    .dataframe tbody tr th:only-of-type {\n",
       "        vertical-align: middle;\n",
       "    }\n",
       "\n",
       "    .dataframe tbody tr th {\n",
       "        vertical-align: top;\n",
       "    }\n",
       "\n",
       "    .dataframe thead th {\n",
       "        text-align: right;\n",
       "    }\n",
       "</style>\n",
       "<table border=\"1\" class=\"dataframe\">\n",
       "  <thead>\n",
       "    <tr style=\"text-align: right;\">\n",
       "      <th></th>\n",
       "      <th>staff_id</th>\n",
       "      <th>first_name</th>\n",
       "      <th>last_name</th>\n",
       "      <th>position</th>\n",
       "      <th>start_date</th>\n",
       "      <th>location</th>\n",
       "    </tr>\n",
       "  </thead>\n",
       "  <tbody>\n",
       "    <tr>\n",
       "      <th>0</th>\n",
       "      <td>1</td>\n",
       "      <td>Sue</td>\n",
       "      <td>Tindale</td>\n",
       "      <td>CFO</td>\n",
       "      <td>8/3/2001</td>\n",
       "      <td>HQ</td>\n",
       "    </tr>\n",
       "    <tr>\n",
       "      <th>1</th>\n",
       "      <td>2</td>\n",
       "      <td>Ian</td>\n",
       "      <td>Tindale</td>\n",
       "      <td>CEO</td>\n",
       "      <td>8/3/2001</td>\n",
       "      <td>HQ</td>\n",
       "    </tr>\n",
       "    <tr>\n",
       "      <th>2</th>\n",
       "      <td>3</td>\n",
       "      <td>Marny</td>\n",
       "      <td>Hermione</td>\n",
       "      <td>Roaster</td>\n",
       "      <td>10/24/2007</td>\n",
       "      <td>WH</td>\n",
       "    </tr>\n",
       "    <tr>\n",
       "      <th>3</th>\n",
       "      <td>4</td>\n",
       "      <td>Chelsea</td>\n",
       "      <td>Claudia</td>\n",
       "      <td>Roaster</td>\n",
       "      <td>7/3/2003</td>\n",
       "      <td>WH</td>\n",
       "    </tr>\n",
       "    <tr>\n",
       "      <th>4</th>\n",
       "      <td>5</td>\n",
       "      <td>Alec</td>\n",
       "      <td>Isadora</td>\n",
       "      <td>Roaster</td>\n",
       "      <td>4/2/2008</td>\n",
       "      <td>WH</td>\n",
       "    </tr>\n",
       "    <tr>\n",
       "      <th>5</th>\n",
       "      <td>6</td>\n",
       "      <td>Xena</td>\n",
       "      <td>Rahim</td>\n",
       "      <td>Store Manager</td>\n",
       "      <td>7/24/2016</td>\n",
       "      <td>3</td>\n",
       "    </tr>\n",
       "    <tr>\n",
       "      <th>6</th>\n",
       "      <td>7</td>\n",
       "      <td>Kelsey</td>\n",
       "      <td>Cameron</td>\n",
       "      <td>Coffee Wrangler</td>\n",
       "      <td>10/18/2003</td>\n",
       "      <td>3</td>\n",
       "    </tr>\n",
       "    <tr>\n",
       "      <th>7</th>\n",
       "      <td>8</td>\n",
       "      <td>Hamilton</td>\n",
       "      <td>Emi</td>\n",
       "      <td>Coffee Wrangler</td>\n",
       "      <td>2/9/2005</td>\n",
       "      <td>3</td>\n",
       "    </tr>\n",
       "    <tr>\n",
       "      <th>8</th>\n",
       "      <td>9</td>\n",
       "      <td>Caldwell</td>\n",
       "      <td>Veda</td>\n",
       "      <td>Coffee Wrangler</td>\n",
       "      <td>9/9/2013</td>\n",
       "      <td>3</td>\n",
       "    </tr>\n",
       "    <tr>\n",
       "      <th>9</th>\n",
       "      <td>10</td>\n",
       "      <td>Ima</td>\n",
       "      <td>Winifred</td>\n",
       "      <td>Coffee Wrangler</td>\n",
       "      <td>12/10/2016</td>\n",
       "      <td>3</td>\n",
       "    </tr>\n",
       "  </tbody>\n",
       "</table>\n",
       "</div>"
      ],
      "text/plain": [
       "   staff_id first_name last_name         position  start_date location\n",
       "0         1        Sue   Tindale              CFO    8/3/2001       HQ\n",
       "1         2        Ian   Tindale              CEO    8/3/2001       HQ\n",
       "2         3      Marny  Hermione          Roaster  10/24/2007       WH\n",
       "3         4    Chelsea   Claudia          Roaster    7/3/2003       WH\n",
       "4         5       Alec   Isadora          Roaster    4/2/2008       WH\n",
       "5         6       Xena     Rahim    Store Manager   7/24/2016        3\n",
       "6         7     Kelsey   Cameron  Coffee Wrangler  10/18/2003        3\n",
       "7         8   Hamilton       Emi  Coffee Wrangler    2/9/2005        3\n",
       "8         9   Caldwell      Veda  Coffee Wrangler    9/9/2013        3\n",
       "9        10        Ima  Winifred  Coffee Wrangler  12/10/2016        3"
      ]
     },
     "execution_count": 40,
     "metadata": {},
     "output_type": "execute_result"
    }
   ],
   "source": [
    "staff.head(10)"
   ]
  },
  {
   "cell_type": "code",
   "execution_count": 42,
   "id": "097adcf3-46b6-41a0-8d82-f1d820364e11",
   "metadata": {
    "tags": []
   },
   "outputs": [
    {
     "data": {
      "text/plain": [
       "55"
      ]
     },
     "execution_count": 42,
     "metadata": {},
     "output_type": "execute_result"
    }
   ],
   "source": [
    "staff.to_sql(con=connection, name='Staff', if_exists='append', index=False)"
   ]
  },
  {
   "cell_type": "markdown",
   "id": "c5db9926-f2f9-4f0c-a45b-a70024af5b35",
   "metadata": {
    "jp-MarkdownHeadingCollapsed": true,
    "tags": []
   },
   "source": [
    "#### Sales Outlet /// LISTO!"
   ]
  },
  {
   "cell_type": "code",
   "execution_count": 46,
   "id": "fb2a4733-4ad6-4c1e-8da0-9839674871a7",
   "metadata": {
    "tags": []
   },
   "outputs": [],
   "source": [
    "salesOutlet = pd.read_csv('CoffeShopDatabases/sales_outlet.csv') "
   ]
  },
  {
   "cell_type": "code",
   "execution_count": 112,
   "id": "abe798a5-b3b8-4a88-8785-61cffe14b59b",
   "metadata": {
    "tags": []
   },
   "outputs": [
    {
     "data": {
      "text/html": [
       "<div>\n",
       "<style scoped>\n",
       "    .dataframe tbody tr th:only-of-type {\n",
       "        vertical-align: middle;\n",
       "    }\n",
       "\n",
       "    .dataframe tbody tr th {\n",
       "        vertical-align: top;\n",
       "    }\n",
       "\n",
       "    .dataframe thead th {\n",
       "        text-align: right;\n",
       "    }\n",
       "</style>\n",
       "<table border=\"1\" class=\"dataframe\">\n",
       "  <thead>\n",
       "    <tr style=\"text-align: right;\">\n",
       "      <th></th>\n",
       "      <th>sales_outlet_id</th>\n",
       "      <th>sales_outlet_type</th>\n",
       "      <th>store_square_feet</th>\n",
       "      <th>store_address</th>\n",
       "      <th>store_city</th>\n",
       "      <th>store_state_province</th>\n",
       "      <th>store_telephone</th>\n",
       "      <th>store_postal_code</th>\n",
       "      <th>store_longitude</th>\n",
       "      <th>store_latitude</th>\n",
       "      <th>manager</th>\n",
       "      <th>Neighorhood</th>\n",
       "    </tr>\n",
       "  </thead>\n",
       "  <tbody>\n",
       "    <tr>\n",
       "      <th>0</th>\n",
       "      <td>2</td>\n",
       "      <td>warehouse</td>\n",
       "      <td>3400</td>\n",
       "      <td>164-14 Jamaica Ave</td>\n",
       "      <td>Jamaica</td>\n",
       "      <td>NY</td>\n",
       "      <td>972-871-0402</td>\n",
       "      <td>11432</td>\n",
       "      <td>-73.795168</td>\n",
       "      <td>40.705226</td>\n",
       "      <td>NaN</td>\n",
       "      <td>Jamaica</td>\n",
       "    </tr>\n",
       "    <tr>\n",
       "      <th>1</th>\n",
       "      <td>3</td>\n",
       "      <td>retail</td>\n",
       "      <td>1300</td>\n",
       "      <td>32-20 Broadway</td>\n",
       "      <td>Long Island City</td>\n",
       "      <td>NY</td>\n",
       "      <td>777-718-3190</td>\n",
       "      <td>11106</td>\n",
       "      <td>-73.924008</td>\n",
       "      <td>40.761196</td>\n",
       "      <td>6.0</td>\n",
       "      <td>Astoria</td>\n",
       "    </tr>\n",
       "    <tr>\n",
       "      <th>2</th>\n",
       "      <td>4</td>\n",
       "      <td>retail</td>\n",
       "      <td>1300</td>\n",
       "      <td>604 Union Street</td>\n",
       "      <td>Brooklyn</td>\n",
       "      <td>NY</td>\n",
       "      <td>619-347-5193</td>\n",
       "      <td>11215</td>\n",
       "      <td>-73.983984</td>\n",
       "      <td>40.677645</td>\n",
       "      <td>11.0</td>\n",
       "      <td>Gowanus</td>\n",
       "    </tr>\n",
       "    <tr>\n",
       "      <th>3</th>\n",
       "      <td>5</td>\n",
       "      <td>retail</td>\n",
       "      <td>900</td>\n",
       "      <td>100 Church Street</td>\n",
       "      <td>New York</td>\n",
       "      <td>NY</td>\n",
       "      <td>343-212-5151</td>\n",
       "      <td>10007</td>\n",
       "      <td>-74.010130</td>\n",
       "      <td>40.713290</td>\n",
       "      <td>16.0</td>\n",
       "      <td>Lower Manhattan</td>\n",
       "    </tr>\n",
       "    <tr>\n",
       "      <th>4</th>\n",
       "      <td>6</td>\n",
       "      <td>retail</td>\n",
       "      <td>1000</td>\n",
       "      <td>122 E Broadway</td>\n",
       "      <td>New York</td>\n",
       "      <td>NY</td>\n",
       "      <td>613-555-4989</td>\n",
       "      <td>10002</td>\n",
       "      <td>-73.992687</td>\n",
       "      <td>40.713852</td>\n",
       "      <td>21.0</td>\n",
       "      <td>Lower East Side</td>\n",
       "    </tr>\n",
       "    <tr>\n",
       "      <th>5</th>\n",
       "      <td>7</td>\n",
       "      <td>retail</td>\n",
       "      <td>1200</td>\n",
       "      <td>224 E 57th Street</td>\n",
       "      <td>New York</td>\n",
       "      <td>NY</td>\n",
       "      <td>287-817-2330</td>\n",
       "      <td>10021</td>\n",
       "      <td>-73.960000</td>\n",
       "      <td>40.770000</td>\n",
       "      <td>26.0</td>\n",
       "      <td>Upper East Side</td>\n",
       "    </tr>\n",
       "    <tr>\n",
       "      <th>6</th>\n",
       "      <td>8</td>\n",
       "      <td>retail</td>\n",
       "      <td>1500</td>\n",
       "      <td>687 9th Avenue</td>\n",
       "      <td>New York</td>\n",
       "      <td>NY</td>\n",
       "      <td>652-212-7020</td>\n",
       "      <td>10036</td>\n",
       "      <td>-73.990338</td>\n",
       "      <td>40.761887</td>\n",
       "      <td>31.0</td>\n",
       "      <td>Hell's Kitchen</td>\n",
       "    </tr>\n",
       "    <tr>\n",
       "      <th>7</th>\n",
       "      <td>9</td>\n",
       "      <td>retail</td>\n",
       "      <td>1700</td>\n",
       "      <td>175 8th Avenue</td>\n",
       "      <td>New York</td>\n",
       "      <td>NY</td>\n",
       "      <td>242-212-0080</td>\n",
       "      <td>10011</td>\n",
       "      <td>-74.000502</td>\n",
       "      <td>40.742760</td>\n",
       "      <td>36.0</td>\n",
       "      <td>Chelsea</td>\n",
       "    </tr>\n",
       "    <tr>\n",
       "      <th>8</th>\n",
       "      <td>10</td>\n",
       "      <td>retail</td>\n",
       "      <td>1600</td>\n",
       "      <td>183 W 10th Street</td>\n",
       "      <td>New York</td>\n",
       "      <td>NY</td>\n",
       "      <td>674-646-6434</td>\n",
       "      <td>10014</td>\n",
       "      <td>-74.002722</td>\n",
       "      <td>40.734367</td>\n",
       "      <td>41.0</td>\n",
       "      <td>Greenwich Village</td>\n",
       "    </tr>\n",
       "  </tbody>\n",
       "</table>\n",
       "</div>"
      ],
      "text/plain": [
       "   sales_outlet_id sales_outlet_type  store_square_feet       store_address  \\\n",
       "0                2         warehouse               3400  164-14 Jamaica Ave   \n",
       "1                3            retail               1300      32-20 Broadway   \n",
       "2                4            retail               1300    604 Union Street   \n",
       "3                5            retail                900   100 Church Street   \n",
       "4                6            retail               1000      122 E Broadway   \n",
       "5                7            retail               1200   224 E 57th Street   \n",
       "6                8            retail               1500      687 9th Avenue   \n",
       "7                9            retail               1700      175 8th Avenue   \n",
       "8               10            retail               1600   183 W 10th Street   \n",
       "\n",
       "         store_city store_state_province store_telephone  store_postal_code  \\\n",
       "0           Jamaica                   NY    972-871-0402              11432   \n",
       "1  Long Island City                   NY    777-718-3190              11106   \n",
       "2          Brooklyn                   NY    619-347-5193              11215   \n",
       "3          New York                   NY    343-212-5151              10007   \n",
       "4          New York                   NY    613-555-4989              10002   \n",
       "5          New York                   NY    287-817-2330              10021   \n",
       "6          New York                   NY    652-212-7020              10036   \n",
       "7          New York                   NY    242-212-0080              10011   \n",
       "8          New York                   NY    674-646-6434              10014   \n",
       "\n",
       "   store_longitude  store_latitude  manager        Neighorhood  \n",
       "0       -73.795168       40.705226      NaN            Jamaica  \n",
       "1       -73.924008       40.761196      6.0            Astoria  \n",
       "2       -73.983984       40.677645     11.0            Gowanus  \n",
       "3       -74.010130       40.713290     16.0    Lower Manhattan  \n",
       "4       -73.992687       40.713852     21.0    Lower East Side  \n",
       "5       -73.960000       40.770000     26.0    Upper East Side  \n",
       "6       -73.990338       40.761887     31.0     Hell's Kitchen  \n",
       "7       -74.000502       40.742760     36.0            Chelsea  \n",
       "8       -74.002722       40.734367     41.0  Greenwich Village  "
      ]
     },
     "execution_count": 112,
     "metadata": {},
     "output_type": "execute_result"
    }
   ],
   "source": [
    "salesOutlet.head(10)"
   ]
  },
  {
   "cell_type": "code",
   "execution_count": 113,
   "id": "41b545ba-10cf-45a6-be12-593b1f0bbf03",
   "metadata": {
    "tags": []
   },
   "outputs": [],
   "source": [
    "salesOutlet.rename(columns={'Neighorhood':'neighborhood'}, inplace=True)"
   ]
  },
  {
   "cell_type": "code",
   "execution_count": 114,
   "id": "7442664d-6e4b-4ccf-ac8e-45e610331cda",
   "metadata": {
    "tags": []
   },
   "outputs": [
    {
     "data": {
      "text/plain": [
       "9"
      ]
     },
     "execution_count": 114,
     "metadata": {},
     "output_type": "execute_result"
    }
   ],
   "source": [
    "salesOutlet.to_sql(con=connection, name='SalesOutlet', if_exists='append', index=False)"
   ]
  },
  {
   "cell_type": "markdown",
   "id": "2c239f23-d9be-46b5-b46a-b549438049eb",
   "metadata": {
    "jp-MarkdownHeadingCollapsed": true,
    "tags": []
   },
   "source": [
    "#### Sales Target // LISTO!"
   ]
  },
  {
   "cell_type": "code",
   "execution_count": 53,
   "id": "0a4e7830-e063-4650-b64e-7f8461bda72e",
   "metadata": {
    "tags": []
   },
   "outputs": [],
   "source": [
    "salestarget = pd.read_csv('CoffeShopDatabases/sales_targets.csv')"
   ]
  },
  {
   "cell_type": "code",
   "execution_count": 54,
   "id": "a4f4ae4f-88ca-4b83-9d04-35294d8276ab",
   "metadata": {
    "tags": []
   },
   "outputs": [
    {
     "data": {
      "text/html": [
       "<div>\n",
       "<style scoped>\n",
       "    .dataframe tbody tr th:only-of-type {\n",
       "        vertical-align: middle;\n",
       "    }\n",
       "\n",
       "    .dataframe tbody tr th {\n",
       "        vertical-align: top;\n",
       "    }\n",
       "\n",
       "    .dataframe thead th {\n",
       "        text-align: right;\n",
       "    }\n",
       "</style>\n",
       "<table border=\"1\" class=\"dataframe\">\n",
       "  <thead>\n",
       "    <tr style=\"text-align: right;\">\n",
       "      <th></th>\n",
       "      <th>sales_outlet_id</th>\n",
       "      <th>year_month</th>\n",
       "      <th>beans_goal</th>\n",
       "      <th>beverage_goal</th>\n",
       "      <th>food_goal</th>\n",
       "      <th>merchandise _goal</th>\n",
       "      <th>total_goal</th>\n",
       "    </tr>\n",
       "  </thead>\n",
       "  <tbody>\n",
       "    <tr>\n",
       "      <th>0</th>\n",
       "      <td>3</td>\n",
       "      <td>Apr-19</td>\n",
       "      <td>720</td>\n",
       "      <td>13500</td>\n",
       "      <td>3420</td>\n",
       "      <td>360</td>\n",
       "      <td>18000</td>\n",
       "    </tr>\n",
       "    <tr>\n",
       "      <th>1</th>\n",
       "      <td>4</td>\n",
       "      <td>Apr-19</td>\n",
       "      <td>720</td>\n",
       "      <td>13500</td>\n",
       "      <td>3420</td>\n",
       "      <td>360</td>\n",
       "      <td>18000</td>\n",
       "    </tr>\n",
       "    <tr>\n",
       "      <th>2</th>\n",
       "      <td>5</td>\n",
       "      <td>Apr-19</td>\n",
       "      <td>1000</td>\n",
       "      <td>18750</td>\n",
       "      <td>4750</td>\n",
       "      <td>500</td>\n",
       "      <td>25000</td>\n",
       "    </tr>\n",
       "    <tr>\n",
       "      <th>3</th>\n",
       "      <td>6</td>\n",
       "      <td>Apr-19</td>\n",
       "      <td>720</td>\n",
       "      <td>13500</td>\n",
       "      <td>3420</td>\n",
       "      <td>360</td>\n",
       "      <td>18000</td>\n",
       "    </tr>\n",
       "    <tr>\n",
       "      <th>4</th>\n",
       "      <td>7</td>\n",
       "      <td>Apr-19</td>\n",
       "      <td>720</td>\n",
       "      <td>13500</td>\n",
       "      <td>3420</td>\n",
       "      <td>360</td>\n",
       "      <td>18000</td>\n",
       "    </tr>\n",
       "    <tr>\n",
       "      <th>5</th>\n",
       "      <td>8</td>\n",
       "      <td>Apr-19</td>\n",
       "      <td>900</td>\n",
       "      <td>16875</td>\n",
       "      <td>4275</td>\n",
       "      <td>450</td>\n",
       "      <td>22500</td>\n",
       "    </tr>\n",
       "    <tr>\n",
       "      <th>6</th>\n",
       "      <td>9</td>\n",
       "      <td>Apr-19</td>\n",
       "      <td>720</td>\n",
       "      <td>13500</td>\n",
       "      <td>3420</td>\n",
       "      <td>360</td>\n",
       "      <td>18000</td>\n",
       "    </tr>\n",
       "    <tr>\n",
       "      <th>7</th>\n",
       "      <td>10</td>\n",
       "      <td>Apr-19</td>\n",
       "      <td>720</td>\n",
       "      <td>13500</td>\n",
       "      <td>3420</td>\n",
       "      <td>360</td>\n",
       "      <td>18000</td>\n",
       "    </tr>\n",
       "  </tbody>\n",
       "</table>\n",
       "</div>"
      ],
      "text/plain": [
       "   sales_outlet_id year_month  beans_goal  beverage_goal  food_goal  \\\n",
       "0                3     Apr-19         720          13500       3420   \n",
       "1                4     Apr-19         720          13500       3420   \n",
       "2                5     Apr-19        1000          18750       4750   \n",
       "3                6     Apr-19         720          13500       3420   \n",
       "4                7     Apr-19         720          13500       3420   \n",
       "5                8     Apr-19         900          16875       4275   \n",
       "6                9     Apr-19         720          13500       3420   \n",
       "7               10     Apr-19         720          13500       3420   \n",
       "\n",
       "   merchandise _goal  total_goal  \n",
       "0                360       18000  \n",
       "1                360       18000  \n",
       "2                500       25000  \n",
       "3                360       18000  \n",
       "4                360       18000  \n",
       "5                450       22500  \n",
       "6                360       18000  \n",
       "7                360       18000  "
      ]
     },
     "execution_count": 54,
     "metadata": {},
     "output_type": "execute_result"
    }
   ],
   "source": [
    "salestarget.head(10)"
   ]
  },
  {
   "cell_type": "code",
   "execution_count": 67,
   "id": "50112632-09e7-4ef6-b3b1-9e61daefc00a",
   "metadata": {
    "tags": []
   },
   "outputs": [
    {
     "data": {
      "text/plain": [
       "Index(['sales_outlet_id', 'year_months', 'beans_goal', 'beverage_goal',\n",
       "       'food_goal', 'merchandise_goal', 'total_goal'],\n",
       "      dtype='object')"
      ]
     },
     "execution_count": 67,
     "metadata": {},
     "output_type": "execute_result"
    }
   ],
   "source": [
    "salestarget.columns"
   ]
  },
  {
   "cell_type": "code",
   "execution_count": 62,
   "id": "f3fa68ee-515d-4098-8c4a-7fbcbe04697d",
   "metadata": {
    "tags": []
   },
   "outputs": [],
   "source": [
    "salestarget.rename(columns={'year_month': 'year_months'}, inplace=True)"
   ]
  },
  {
   "cell_type": "code",
   "execution_count": 66,
   "id": "d9809220-1900-4e04-8267-8ec2a9ed1a72",
   "metadata": {
    "tags": []
   },
   "outputs": [],
   "source": [
    "salestarget.rename(columns={'merchandise _goal': 'merchandise_goal'}, inplace=True)"
   ]
  },
  {
   "cell_type": "code",
   "execution_count": 115,
   "id": "3169dde6-19d7-4ee6-a15a-aea9ad1104b3",
   "metadata": {
    "tags": []
   },
   "outputs": [
    {
     "data": {
      "text/html": [
       "<div>\n",
       "<style scoped>\n",
       "    .dataframe tbody tr th:only-of-type {\n",
       "        vertical-align: middle;\n",
       "    }\n",
       "\n",
       "    .dataframe tbody tr th {\n",
       "        vertical-align: top;\n",
       "    }\n",
       "\n",
       "    .dataframe thead th {\n",
       "        text-align: right;\n",
       "    }\n",
       "</style>\n",
       "<table border=\"1\" class=\"dataframe\">\n",
       "  <thead>\n",
       "    <tr style=\"text-align: right;\">\n",
       "      <th></th>\n",
       "      <th>sales_outlet_id</th>\n",
       "      <th>year_months</th>\n",
       "      <th>beans_goal</th>\n",
       "      <th>beverage_goal</th>\n",
       "      <th>food_goal</th>\n",
       "      <th>merchandise_goal</th>\n",
       "      <th>total_goal</th>\n",
       "    </tr>\n",
       "  </thead>\n",
       "  <tbody>\n",
       "    <tr>\n",
       "      <th>0</th>\n",
       "      <td>3</td>\n",
       "      <td>Apr-19</td>\n",
       "      <td>720</td>\n",
       "      <td>13500</td>\n",
       "      <td>3420</td>\n",
       "      <td>360</td>\n",
       "      <td>18000</td>\n",
       "    </tr>\n",
       "    <tr>\n",
       "      <th>1</th>\n",
       "      <td>4</td>\n",
       "      <td>Apr-19</td>\n",
       "      <td>720</td>\n",
       "      <td>13500</td>\n",
       "      <td>3420</td>\n",
       "      <td>360</td>\n",
       "      <td>18000</td>\n",
       "    </tr>\n",
       "    <tr>\n",
       "      <th>2</th>\n",
       "      <td>5</td>\n",
       "      <td>Apr-19</td>\n",
       "      <td>1000</td>\n",
       "      <td>18750</td>\n",
       "      <td>4750</td>\n",
       "      <td>500</td>\n",
       "      <td>25000</td>\n",
       "    </tr>\n",
       "    <tr>\n",
       "      <th>3</th>\n",
       "      <td>6</td>\n",
       "      <td>Apr-19</td>\n",
       "      <td>720</td>\n",
       "      <td>13500</td>\n",
       "      <td>3420</td>\n",
       "      <td>360</td>\n",
       "      <td>18000</td>\n",
       "    </tr>\n",
       "    <tr>\n",
       "      <th>4</th>\n",
       "      <td>7</td>\n",
       "      <td>Apr-19</td>\n",
       "      <td>720</td>\n",
       "      <td>13500</td>\n",
       "      <td>3420</td>\n",
       "      <td>360</td>\n",
       "      <td>18000</td>\n",
       "    </tr>\n",
       "    <tr>\n",
       "      <th>5</th>\n",
       "      <td>8</td>\n",
       "      <td>Apr-19</td>\n",
       "      <td>900</td>\n",
       "      <td>16875</td>\n",
       "      <td>4275</td>\n",
       "      <td>450</td>\n",
       "      <td>22500</td>\n",
       "    </tr>\n",
       "    <tr>\n",
       "      <th>6</th>\n",
       "      <td>9</td>\n",
       "      <td>Apr-19</td>\n",
       "      <td>720</td>\n",
       "      <td>13500</td>\n",
       "      <td>3420</td>\n",
       "      <td>360</td>\n",
       "      <td>18000</td>\n",
       "    </tr>\n",
       "    <tr>\n",
       "      <th>7</th>\n",
       "      <td>10</td>\n",
       "      <td>Apr-19</td>\n",
       "      <td>720</td>\n",
       "      <td>13500</td>\n",
       "      <td>3420</td>\n",
       "      <td>360</td>\n",
       "      <td>18000</td>\n",
       "    </tr>\n",
       "  </tbody>\n",
       "</table>\n",
       "</div>"
      ],
      "text/plain": [
       "   sales_outlet_id year_months  beans_goal  beverage_goal  food_goal  \\\n",
       "0                3      Apr-19         720          13500       3420   \n",
       "1                4      Apr-19         720          13500       3420   \n",
       "2                5      Apr-19        1000          18750       4750   \n",
       "3                6      Apr-19         720          13500       3420   \n",
       "4                7      Apr-19         720          13500       3420   \n",
       "5                8      Apr-19         900          16875       4275   \n",
       "6                9      Apr-19         720          13500       3420   \n",
       "7               10      Apr-19         720          13500       3420   \n",
       "\n",
       "   merchandise_goal  total_goal  \n",
       "0               360       18000  \n",
       "1               360       18000  \n",
       "2               500       25000  \n",
       "3               360       18000  \n",
       "4               360       18000  \n",
       "5               450       22500  \n",
       "6               360       18000  \n",
       "7               360       18000  "
      ]
     },
     "execution_count": 115,
     "metadata": {},
     "output_type": "execute_result"
    }
   ],
   "source": [
    "salestarget.head(10)"
   ]
  },
  {
   "cell_type": "code",
   "execution_count": 116,
   "id": "61b258df-84e7-4faf-b259-5ff710d0ae83",
   "metadata": {
    "tags": []
   },
   "outputs": [
    {
     "data": {
      "text/plain": [
       "8"
      ]
     },
     "execution_count": 116,
     "metadata": {},
     "output_type": "execute_result"
    }
   ],
   "source": [
    "salestarget.to_sql(con = connection, name='Sales_target', if_exists = 'append', index=False)"
   ]
  },
  {
   "cell_type": "markdown",
   "id": "70ed91ef-79c8-431f-9543-47438b1c9110",
   "metadata": {
    "jp-MarkdownHeadingCollapsed": true,
    "tags": []
   },
   "source": [
    "#### Generations // LISTO!"
   ]
  },
  {
   "cell_type": "code",
   "execution_count": 70,
   "id": "5aec9c74-132e-4e48-a426-97e4d7737f5d",
   "metadata": {
    "tags": []
   },
   "outputs": [],
   "source": [
    "generations = pd.read_csv('CoffeShopDatabases/generations.csv')"
   ]
  },
  {
   "cell_type": "code",
   "execution_count": 71,
   "id": "d188632b-bcfe-4538-8eb1-e4d59642aa79",
   "metadata": {
    "tags": []
   },
   "outputs": [
    {
     "data": {
      "text/html": [
       "<div>\n",
       "<style scoped>\n",
       "    .dataframe tbody tr th:only-of-type {\n",
       "        vertical-align: middle;\n",
       "    }\n",
       "\n",
       "    .dataframe tbody tr th {\n",
       "        vertical-align: top;\n",
       "    }\n",
       "\n",
       "    .dataframe thead th {\n",
       "        text-align: right;\n",
       "    }\n",
       "</style>\n",
       "<table border=\"1\" class=\"dataframe\">\n",
       "  <thead>\n",
       "    <tr style=\"text-align: right;\">\n",
       "      <th></th>\n",
       "      <th>birth_year</th>\n",
       "      <th>generation</th>\n",
       "    </tr>\n",
       "  </thead>\n",
       "  <tbody>\n",
       "    <tr>\n",
       "      <th>0</th>\n",
       "      <td>1946</td>\n",
       "      <td>Baby Boomers</td>\n",
       "    </tr>\n",
       "    <tr>\n",
       "      <th>1</th>\n",
       "      <td>1947</td>\n",
       "      <td>Baby Boomers</td>\n",
       "    </tr>\n",
       "    <tr>\n",
       "      <th>2</th>\n",
       "      <td>1948</td>\n",
       "      <td>Baby Boomers</td>\n",
       "    </tr>\n",
       "    <tr>\n",
       "      <th>3</th>\n",
       "      <td>1949</td>\n",
       "      <td>Baby Boomers</td>\n",
       "    </tr>\n",
       "    <tr>\n",
       "      <th>4</th>\n",
       "      <td>1950</td>\n",
       "      <td>Baby Boomers</td>\n",
       "    </tr>\n",
       "    <tr>\n",
       "      <th>5</th>\n",
       "      <td>1951</td>\n",
       "      <td>Baby Boomers</td>\n",
       "    </tr>\n",
       "    <tr>\n",
       "      <th>6</th>\n",
       "      <td>1952</td>\n",
       "      <td>Baby Boomers</td>\n",
       "    </tr>\n",
       "    <tr>\n",
       "      <th>7</th>\n",
       "      <td>1953</td>\n",
       "      <td>Baby Boomers</td>\n",
       "    </tr>\n",
       "    <tr>\n",
       "      <th>8</th>\n",
       "      <td>1954</td>\n",
       "      <td>Baby Boomers</td>\n",
       "    </tr>\n",
       "    <tr>\n",
       "      <th>9</th>\n",
       "      <td>1955</td>\n",
       "      <td>Baby Boomers</td>\n",
       "    </tr>\n",
       "  </tbody>\n",
       "</table>\n",
       "</div>"
      ],
      "text/plain": [
       "   birth_year    generation\n",
       "0        1946  Baby Boomers\n",
       "1        1947  Baby Boomers\n",
       "2        1948  Baby Boomers\n",
       "3        1949  Baby Boomers\n",
       "4        1950  Baby Boomers\n",
       "5        1951  Baby Boomers\n",
       "6        1952  Baby Boomers\n",
       "7        1953  Baby Boomers\n",
       "8        1954  Baby Boomers\n",
       "9        1955  Baby Boomers"
      ]
     },
     "execution_count": 71,
     "metadata": {},
     "output_type": "execute_result"
    }
   ],
   "source": [
    "generations.head(10)"
   ]
  },
  {
   "cell_type": "code",
   "execution_count": 119,
   "id": "f4f9dd7b-4079-46ff-9709-3efe54f47fca",
   "metadata": {
    "tags": []
   },
   "outputs": [
    {
     "data": {
      "text/plain": [
       "70"
      ]
     },
     "execution_count": 119,
     "metadata": {},
     "output_type": "execute_result"
    }
   ],
   "source": [
    "generations.to_sql(con = connection, name='Generations', if_exists= 'append', index=False)"
   ]
  },
  {
   "cell_type": "markdown",
   "id": "e1a523b3-0ef1-47d3-9ccd-5109e524d526",
   "metadata": {
    "jp-MarkdownHeadingCollapsed": true,
    "tags": []
   },
   "source": [
    "#### Customer // LISTO!\n"
   ]
  },
  {
   "cell_type": "code",
   "execution_count": 82,
   "id": "d51a8e92-8b19-43b8-a730-6506a23b6b43",
   "metadata": {
    "tags": []
   },
   "outputs": [],
   "source": [
    "customer = pd.read_csv('CoffeShopDatabases/customer.csv')"
   ]
  },
  {
   "cell_type": "code",
   "execution_count": 192,
   "id": "f679c8a0-2c1a-4739-9a8a-b4b23ebdb0ab",
   "metadata": {
    "tags": []
   },
   "outputs": [
    {
     "data": {
      "text/html": [
       "<div>\n",
       "<style scoped>\n",
       "    .dataframe tbody tr th:only-of-type {\n",
       "        vertical-align: middle;\n",
       "    }\n",
       "\n",
       "    .dataframe tbody tr th {\n",
       "        vertical-align: top;\n",
       "    }\n",
       "\n",
       "    .dataframe thead th {\n",
       "        text-align: right;\n",
       "    }\n",
       "</style>\n",
       "<table border=\"1\" class=\"dataframe\">\n",
       "  <thead>\n",
       "    <tr style=\"text-align: right;\">\n",
       "      <th></th>\n",
       "      <th>customer_id</th>\n",
       "      <th>home_store</th>\n",
       "      <th>customer_first_name</th>\n",
       "      <th>customer_email</th>\n",
       "      <th>customer_since</th>\n",
       "      <th>loyalty_card_number</th>\n",
       "      <th>birthdate</th>\n",
       "      <th>gender</th>\n",
       "      <th>birth_year</th>\n",
       "    </tr>\n",
       "  </thead>\n",
       "  <tbody>\n",
       "    <tr>\n",
       "      <th>0</th>\n",
       "      <td>1</td>\n",
       "      <td>3</td>\n",
       "      <td>Kelly Key</td>\n",
       "      <td>Venus@adipiscing.edu</td>\n",
       "      <td>2017-01-04</td>\n",
       "      <td>908-424-2890</td>\n",
       "      <td>1950-05-29</td>\n",
       "      <td>M</td>\n",
       "      <td>1950</td>\n",
       "    </tr>\n",
       "    <tr>\n",
       "      <th>1</th>\n",
       "      <td>2</td>\n",
       "      <td>3</td>\n",
       "      <td>Clark Schroeder</td>\n",
       "      <td>Nora@fames.gov</td>\n",
       "      <td>2017-01-07</td>\n",
       "      <td>032-732-6308</td>\n",
       "      <td>1950-07-30</td>\n",
       "      <td>M</td>\n",
       "      <td>1950</td>\n",
       "    </tr>\n",
       "    <tr>\n",
       "      <th>2</th>\n",
       "      <td>3</td>\n",
       "      <td>3</td>\n",
       "      <td>Elvis Cardenas</td>\n",
       "      <td>Brianna@tellus.edu</td>\n",
       "      <td>2017-01-10</td>\n",
       "      <td>459-375-9187</td>\n",
       "      <td>1950-09-30</td>\n",
       "      <td>M</td>\n",
       "      <td>1950</td>\n",
       "    </tr>\n",
       "    <tr>\n",
       "      <th>3</th>\n",
       "      <td>4</td>\n",
       "      <td>3</td>\n",
       "      <td>Rafael Estes</td>\n",
       "      <td>Ina@non.gov</td>\n",
       "      <td>2017-01-13</td>\n",
       "      <td>576-640-9226</td>\n",
       "      <td>1950-12-01</td>\n",
       "      <td>M</td>\n",
       "      <td>1950</td>\n",
       "    </tr>\n",
       "    <tr>\n",
       "      <th>4</th>\n",
       "      <td>5</td>\n",
       "      <td>3</td>\n",
       "      <td>Colin Lynn</td>\n",
       "      <td>Dale@Integer.com</td>\n",
       "      <td>2017-01-15</td>\n",
       "      <td>344-674-6569</td>\n",
       "      <td>1951-02-01</td>\n",
       "      <td>M</td>\n",
       "      <td>1951</td>\n",
       "    </tr>\n",
       "    <tr>\n",
       "      <th>5</th>\n",
       "      <td>6</td>\n",
       "      <td>3</td>\n",
       "      <td>Igor Beach</td>\n",
       "      <td>Caleb@morbi.net</td>\n",
       "      <td>2017-01-18</td>\n",
       "      <td>114-126-1992</td>\n",
       "      <td>1951-04-04</td>\n",
       "      <td>M</td>\n",
       "      <td>1951</td>\n",
       "    </tr>\n",
       "    <tr>\n",
       "      <th>6</th>\n",
       "      <td>7</td>\n",
       "      <td>3</td>\n",
       "      <td>Scott Holden</td>\n",
       "      <td>Yen@Integer.edu</td>\n",
       "      <td>2017-01-21</td>\n",
       "      <td>384-074-3606</td>\n",
       "      <td>1951-06-05</td>\n",
       "      <td>M</td>\n",
       "      <td>1951</td>\n",
       "    </tr>\n",
       "    <tr>\n",
       "      <th>7</th>\n",
       "      <td>8</td>\n",
       "      <td>3</td>\n",
       "      <td>Keegan Ayala</td>\n",
       "      <td>Tana@sociis.com</td>\n",
       "      <td>2017-01-24</td>\n",
       "      <td>257-308-7675</td>\n",
       "      <td>1951-08-07</td>\n",
       "      <td>M</td>\n",
       "      <td>1951</td>\n",
       "    </tr>\n",
       "    <tr>\n",
       "      <th>8</th>\n",
       "      <td>9</td>\n",
       "      <td>3</td>\n",
       "      <td>Amir Byers</td>\n",
       "      <td>Madeson@malesuada.us</td>\n",
       "      <td>2017-01-26</td>\n",
       "      <td>931-925-0273</td>\n",
       "      <td>1951-10-08</td>\n",
       "      <td>M</td>\n",
       "      <td>1951</td>\n",
       "    </tr>\n",
       "    <tr>\n",
       "      <th>9</th>\n",
       "      <td>10</td>\n",
       "      <td>3</td>\n",
       "      <td>Magee Malone</td>\n",
       "      <td>Anjolie@sapien.gov</td>\n",
       "      <td>2017-01-29</td>\n",
       "      <td>359-150-6747</td>\n",
       "      <td>1951-12-09</td>\n",
       "      <td>M</td>\n",
       "      <td>1951</td>\n",
       "    </tr>\n",
       "  </tbody>\n",
       "</table>\n",
       "</div>"
      ],
      "text/plain": [
       "   customer_id  home_store customer_first_name        customer_email  \\\n",
       "0            1           3           Kelly Key  Venus@adipiscing.edu   \n",
       "1            2           3     Clark Schroeder        Nora@fames.gov   \n",
       "2            3           3      Elvis Cardenas    Brianna@tellus.edu   \n",
       "3            4           3        Rafael Estes           Ina@non.gov   \n",
       "4            5           3          Colin Lynn      Dale@Integer.com   \n",
       "5            6           3          Igor Beach       Caleb@morbi.net   \n",
       "6            7           3        Scott Holden       Yen@Integer.edu   \n",
       "7            8           3        Keegan Ayala       Tana@sociis.com   \n",
       "8            9           3          Amir Byers  Madeson@malesuada.us   \n",
       "9           10           3        Magee Malone    Anjolie@sapien.gov   \n",
       "\n",
       "  customer_since loyalty_card_number   birthdate gender  birth_year  \n",
       "0     2017-01-04        908-424-2890  1950-05-29      M        1950  \n",
       "1     2017-01-07        032-732-6308  1950-07-30      M        1950  \n",
       "2     2017-01-10        459-375-9187  1950-09-30      M        1950  \n",
       "3     2017-01-13        576-640-9226  1950-12-01      M        1950  \n",
       "4     2017-01-15        344-674-6569  1951-02-01      M        1951  \n",
       "5     2017-01-18        114-126-1992  1951-04-04      M        1951  \n",
       "6     2017-01-21        384-074-3606  1951-06-05      M        1951  \n",
       "7     2017-01-24        257-308-7675  1951-08-07      M        1951  \n",
       "8     2017-01-26        931-925-0273  1951-10-08      M        1951  \n",
       "9     2017-01-29        359-150-6747  1951-12-09      M        1951  "
      ]
     },
     "execution_count": 192,
     "metadata": {},
     "output_type": "execute_result"
    }
   ],
   "source": [
    "customer.head(10)"
   ]
  },
  {
   "cell_type": "code",
   "execution_count": 88,
   "id": "005b5cba-7e08-4a2b-8c04-c903e81c904c",
   "metadata": {
    "tags": []
   },
   "outputs": [],
   "source": [
    "customer.rename(columns={'customer_first-name': 'customer_first_name'}, inplace=True)"
   ]
  },
  {
   "cell_type": "code",
   "execution_count": 118,
   "id": "deb6f75c-9142-45e4-a7a8-1b62b61d1119",
   "metadata": {
    "tags": []
   },
   "outputs": [
    {
     "data": {
      "text/plain": [
       "customer_id             int64\n",
       "home_store              int64\n",
       "customer_first_name    object\n",
       "customer_email         object\n",
       "customer_since         object\n",
       "loyalty_card_number    object\n",
       "birthdate              object\n",
       "gender                 object\n",
       "birth_year              int64\n",
       "dtype: object"
      ]
     },
     "execution_count": 118,
     "metadata": {},
     "output_type": "execute_result"
    }
   ],
   "source": [
    "customer.dtypes"
   ]
  },
  {
   "cell_type": "code",
   "execution_count": 195,
   "id": "55d75313-2992-495e-b8d4-41b78d222c39",
   "metadata": {
    "tags": []
   },
   "outputs": [
    {
     "data": {
      "text/plain": [
       "2246"
      ]
     },
     "execution_count": 195,
     "metadata": {},
     "output_type": "execute_result"
    }
   ],
   "source": [
    "customer.to_sql(con=connection, name='Customer', if_exists='append', index=False)"
   ]
  },
  {
   "cell_type": "markdown",
   "id": "ea7b9edd-47f9-4977-8960-6c110c9f2f3f",
   "metadata": {
    "jp-MarkdownHeadingCollapsed": true,
    "tags": []
   },
   "source": [
    "#### Pastry Inventory //"
   ]
  },
  {
   "cell_type": "code",
   "execution_count": 5,
   "id": "47e00550-3769-4856-9688-fb80b7bdaf0f",
   "metadata": {
    "tags": []
   },
   "outputs": [],
   "source": [
    "pastryinv = pd.read_csv('CoffeShopDatabases/pastry_inventory.csv')"
   ]
  },
  {
   "cell_type": "code",
   "execution_count": 15,
   "id": "2c1b2c7f-ea23-494f-b800-33cb5a095388",
   "metadata": {
    "tags": []
   },
   "outputs": [
    {
     "data": {
      "text/html": [
       "<div>\n",
       "<style scoped>\n",
       "    .dataframe tbody tr th:only-of-type {\n",
       "        vertical-align: middle;\n",
       "    }\n",
       "\n",
       "    .dataframe tbody tr th {\n",
       "        vertical-align: top;\n",
       "    }\n",
       "\n",
       "    .dataframe thead th {\n",
       "        text-align: right;\n",
       "    }\n",
       "</style>\n",
       "<table border=\"1\" class=\"dataframe\">\n",
       "  <thead>\n",
       "    <tr style=\"text-align: right;\">\n",
       "      <th></th>\n",
       "      <th>sales_outlet_id</th>\n",
       "      <th>transaction_date</th>\n",
       "      <th>product_id</th>\n",
       "      <th>start_of_day</th>\n",
       "      <th>quantity_sold</th>\n",
       "      <th>waste</th>\n",
       "      <th>% waste</th>\n",
       "    </tr>\n",
       "  </thead>\n",
       "  <tbody>\n",
       "    <tr>\n",
       "      <th>0</th>\n",
       "      <td>3</td>\n",
       "      <td>01/04/2019</td>\n",
       "      <td>69</td>\n",
       "      <td>18</td>\n",
       "      <td>8</td>\n",
       "      <td>10</td>\n",
       "      <td>56%</td>\n",
       "    </tr>\n",
       "    <tr>\n",
       "      <th>1</th>\n",
       "      <td>3</td>\n",
       "      <td>01/04/2019</td>\n",
       "      <td>70</td>\n",
       "      <td>18</td>\n",
       "      <td>12</td>\n",
       "      <td>6</td>\n",
       "      <td>33%</td>\n",
       "    </tr>\n",
       "    <tr>\n",
       "      <th>2</th>\n",
       "      <td>3</td>\n",
       "      <td>01/04/2019</td>\n",
       "      <td>71</td>\n",
       "      <td>18</td>\n",
       "      <td>8</td>\n",
       "      <td>10</td>\n",
       "      <td>56%</td>\n",
       "    </tr>\n",
       "    <tr>\n",
       "      <th>3</th>\n",
       "      <td>3</td>\n",
       "      <td>01/04/2019</td>\n",
       "      <td>72</td>\n",
       "      <td>48</td>\n",
       "      <td>9</td>\n",
       "      <td>39</td>\n",
       "      <td>81%</td>\n",
       "    </tr>\n",
       "    <tr>\n",
       "      <th>4</th>\n",
       "      <td>3</td>\n",
       "      <td>01/04/2019</td>\n",
       "      <td>73</td>\n",
       "      <td>18</td>\n",
       "      <td>9</td>\n",
       "      <td>9</td>\n",
       "      <td>50%</td>\n",
       "    </tr>\n",
       "    <tr>\n",
       "      <th>5</th>\n",
       "      <td>3</td>\n",
       "      <td>02/04/2019</td>\n",
       "      <td>69</td>\n",
       "      <td>18</td>\n",
       "      <td>7</td>\n",
       "      <td>11</td>\n",
       "      <td>61%</td>\n",
       "    </tr>\n",
       "    <tr>\n",
       "      <th>6</th>\n",
       "      <td>3</td>\n",
       "      <td>02/04/2019</td>\n",
       "      <td>70</td>\n",
       "      <td>18</td>\n",
       "      <td>10</td>\n",
       "      <td>8</td>\n",
       "      <td>44%</td>\n",
       "    </tr>\n",
       "    <tr>\n",
       "      <th>7</th>\n",
       "      <td>3</td>\n",
       "      <td>02/04/2019</td>\n",
       "      <td>71</td>\n",
       "      <td>18</td>\n",
       "      <td>10</td>\n",
       "      <td>8</td>\n",
       "      <td>44%</td>\n",
       "    </tr>\n",
       "    <tr>\n",
       "      <th>8</th>\n",
       "      <td>3</td>\n",
       "      <td>02/04/2019</td>\n",
       "      <td>72</td>\n",
       "      <td>48</td>\n",
       "      <td>10</td>\n",
       "      <td>38</td>\n",
       "      <td>79%</td>\n",
       "    </tr>\n",
       "    <tr>\n",
       "      <th>9</th>\n",
       "      <td>3</td>\n",
       "      <td>02/04/2019</td>\n",
       "      <td>73</td>\n",
       "      <td>18</td>\n",
       "      <td>9</td>\n",
       "      <td>9</td>\n",
       "      <td>50%</td>\n",
       "    </tr>\n",
       "  </tbody>\n",
       "</table>\n",
       "</div>"
      ],
      "text/plain": [
       "   sales_outlet_id transaction_date  product_id  start_of_day  quantity_sold  \\\n",
       "0                3       01/04/2019          69            18              8   \n",
       "1                3       01/04/2019          70            18             12   \n",
       "2                3       01/04/2019          71            18              8   \n",
       "3                3       01/04/2019          72            48              9   \n",
       "4                3       01/04/2019          73            18              9   \n",
       "5                3       02/04/2019          69            18              7   \n",
       "6                3       02/04/2019          70            18             10   \n",
       "7                3       02/04/2019          71            18             10   \n",
       "8                3       02/04/2019          72            48             10   \n",
       "9                3       02/04/2019          73            18              9   \n",
       "\n",
       "   waste % waste  \n",
       "0     10     56%  \n",
       "1      6     33%  \n",
       "2     10     56%  \n",
       "3     39     81%  \n",
       "4      9     50%  \n",
       "5     11     61%  \n",
       "6      8     44%  \n",
       "7      8     44%  \n",
       "8     38     79%  \n",
       "9      9     50%  "
      ]
     },
     "execution_count": 15,
     "metadata": {},
     "output_type": "execute_result"
    }
   ],
   "source": [
    "pastryinv.head(10)"
   ]
  },
  {
   "cell_type": "code",
   "execution_count": 8,
   "id": "dbeaa0f7-ac8d-49d4-b691-5e5c049e132d",
   "metadata": {
    "tags": []
   },
   "outputs": [],
   "source": [
    "pastryinv['transaction_date'] = pd.to_datetime(pastryinv['transaction_date'], format='%m/%d/%Y')"
   ]
  },
  {
   "cell_type": "code",
   "execution_count": 14,
   "id": "73442ba6-4d54-4fec-964f-257760f3938d",
   "metadata": {
    "tags": []
   },
   "outputs": [
    {
     "data": {
      "text/plain": [
       "sales_outlet_id      int64\n",
       "transaction_date    object\n",
       "product_id           int64\n",
       "start_of_day         int64\n",
       "quantity_sold        int64\n",
       "waste                int64\n",
       "% waste             object\n",
       "dtype: object"
      ]
     },
     "execution_count": 14,
     "metadata": {},
     "output_type": "execute_result"
    }
   ],
   "source": [
    "pastryinv.dtypes"
   ]
  },
  {
   "cell_type": "code",
   "execution_count": 10,
   "id": "47679650-e0dc-4e80-af0d-01857e73c4e9",
   "metadata": {
    "tags": []
   },
   "outputs": [],
   "source": [
    "pastryinv['transaction_date'] = pastryinv['transaction_date'].dt.strftime('%d/%m/%Y')"
   ]
  },
  {
   "cell_type": "code",
   "execution_count": 13,
   "id": "ab1144e4-6bec-4bfb-9dad-561852799743",
   "metadata": {
    "tags": []
   },
   "outputs": [],
   "source": [
    "pastryinv['transaction_date'] = pastryinv['transaction_date'].astype(str)"
   ]
  },
  {
   "cell_type": "code",
   "execution_count": 16,
   "id": "ddee55b3-46fe-4244-94cf-ceda229ee8f3",
   "metadata": {
    "tags": []
   },
   "outputs": [
    {
     "data": {
      "text/plain": [
       "Index(['sales_outlet_id', 'transaction_date', 'product_id', 'start_of_day',\n",
       "       'quantity_sold', 'waste', '% waste'],\n",
       "      dtype='object')"
      ]
     },
     "execution_count": 16,
     "metadata": {},
     "output_type": "execute_result"
    }
   ],
   "source": [
    "pastryinv.columns"
   ]
  },
  {
   "cell_type": "code",
   "execution_count": 22,
   "id": "14a3d685-b7dd-4263-afb5-e1d2857879f9",
   "metadata": {
    "tags": []
   },
   "outputs": [],
   "source": [
    "pastryinv.rename(columns={'% waste': 'waste_percentage'}, inplace=True)"
   ]
  },
  {
   "cell_type": "code",
   "execution_count": 23,
   "id": "ff006104-d77f-474f-8c27-5a20d5ee0026",
   "metadata": {
    "tags": []
   },
   "outputs": [
    {
     "data": {
      "text/plain": [
       "307"
      ]
     },
     "execution_count": 23,
     "metadata": {},
     "output_type": "execute_result"
    }
   ],
   "source": [
    "pastryinv.to_sql(con = connection, name='Pastry_inventory', if_exists='append', index=False)"
   ]
  },
  {
   "cell_type": "markdown",
   "id": "d527d4dc-a2e9-4e08-a47f-9fdd034f5ec9",
   "metadata": {
    "jp-MarkdownHeadingCollapsed": true,
    "tags": []
   },
   "source": [
    "#### Dates // LISTO!"
   ]
  },
  {
   "cell_type": "code",
   "execution_count": 74,
   "id": "fa6d733a-088a-497c-b15f-9be8c36e0622",
   "metadata": {
    "tags": []
   },
   "outputs": [],
   "source": [
    "dates = pd.read_csv('CoffeShopDatabases/Dates.csv')"
   ]
  },
  {
   "cell_type": "code",
   "execution_count": 171,
   "id": "7d83444f-a7ae-4ce9-9b96-28ebdf6eaad6",
   "metadata": {
    "tags": []
   },
   "outputs": [
    {
     "data": {
      "text/html": [
       "<div>\n",
       "<style scoped>\n",
       "    .dataframe tbody tr th:only-of-type {\n",
       "        vertical-align: middle;\n",
       "    }\n",
       "\n",
       "    .dataframe tbody tr th {\n",
       "        vertical-align: top;\n",
       "    }\n",
       "\n",
       "    .dataframe thead th {\n",
       "        text-align: right;\n",
       "    }\n",
       "</style>\n",
       "<table border=\"1\" class=\"dataframe\">\n",
       "  <thead>\n",
       "    <tr style=\"text-align: right;\">\n",
       "      <th></th>\n",
       "      <th>transaction_date</th>\n",
       "      <th>date_ID</th>\n",
       "      <th>week_ID</th>\n",
       "      <th>week_Desc</th>\n",
       "      <th>month_ID</th>\n",
       "      <th>month_Name</th>\n",
       "      <th>quarter_ID</th>\n",
       "      <th>quarter_Name</th>\n",
       "      <th>year_ID</th>\n",
       "    </tr>\n",
       "  </thead>\n",
       "  <tbody>\n",
       "    <tr>\n",
       "      <th>0</th>\n",
       "      <td>01/04/2019</td>\n",
       "      <td>20190401</td>\n",
       "      <td>14</td>\n",
       "      <td>Week 14</td>\n",
       "      <td>4</td>\n",
       "      <td>April</td>\n",
       "      <td>2</td>\n",
       "      <td>Q2</td>\n",
       "      <td>2019</td>\n",
       "    </tr>\n",
       "    <tr>\n",
       "      <th>1</th>\n",
       "      <td>02/04/2019</td>\n",
       "      <td>20190402</td>\n",
       "      <td>14</td>\n",
       "      <td>Week 14</td>\n",
       "      <td>4</td>\n",
       "      <td>April</td>\n",
       "      <td>2</td>\n",
       "      <td>Q2</td>\n",
       "      <td>2019</td>\n",
       "    </tr>\n",
       "    <tr>\n",
       "      <th>2</th>\n",
       "      <td>03/04/2019</td>\n",
       "      <td>20190403</td>\n",
       "      <td>14</td>\n",
       "      <td>Week 14</td>\n",
       "      <td>4</td>\n",
       "      <td>April</td>\n",
       "      <td>2</td>\n",
       "      <td>Q2</td>\n",
       "      <td>2019</td>\n",
       "    </tr>\n",
       "    <tr>\n",
       "      <th>3</th>\n",
       "      <td>04/04/2019</td>\n",
       "      <td>20190404</td>\n",
       "      <td>14</td>\n",
       "      <td>Week 14</td>\n",
       "      <td>4</td>\n",
       "      <td>April</td>\n",
       "      <td>2</td>\n",
       "      <td>Q2</td>\n",
       "      <td>2019</td>\n",
       "    </tr>\n",
       "    <tr>\n",
       "      <th>4</th>\n",
       "      <td>05/04/2019</td>\n",
       "      <td>20190405</td>\n",
       "      <td>14</td>\n",
       "      <td>Week 14</td>\n",
       "      <td>4</td>\n",
       "      <td>April</td>\n",
       "      <td>2</td>\n",
       "      <td>Q2</td>\n",
       "      <td>2019</td>\n",
       "    </tr>\n",
       "    <tr>\n",
       "      <th>5</th>\n",
       "      <td>06/04/2019</td>\n",
       "      <td>20190406</td>\n",
       "      <td>14</td>\n",
       "      <td>Week 14</td>\n",
       "      <td>4</td>\n",
       "      <td>April</td>\n",
       "      <td>2</td>\n",
       "      <td>Q2</td>\n",
       "      <td>2019</td>\n",
       "    </tr>\n",
       "    <tr>\n",
       "      <th>6</th>\n",
       "      <td>07/04/2019</td>\n",
       "      <td>20190407</td>\n",
       "      <td>14</td>\n",
       "      <td>Week 14</td>\n",
       "      <td>4</td>\n",
       "      <td>April</td>\n",
       "      <td>2</td>\n",
       "      <td>Q2</td>\n",
       "      <td>2019</td>\n",
       "    </tr>\n",
       "    <tr>\n",
       "      <th>7</th>\n",
       "      <td>08/04/2019</td>\n",
       "      <td>20190408</td>\n",
       "      <td>15</td>\n",
       "      <td>Week 15</td>\n",
       "      <td>4</td>\n",
       "      <td>April</td>\n",
       "      <td>2</td>\n",
       "      <td>Q2</td>\n",
       "      <td>2019</td>\n",
       "    </tr>\n",
       "    <tr>\n",
       "      <th>8</th>\n",
       "      <td>09/04/2019</td>\n",
       "      <td>20190409</td>\n",
       "      <td>15</td>\n",
       "      <td>Week 15</td>\n",
       "      <td>4</td>\n",
       "      <td>April</td>\n",
       "      <td>2</td>\n",
       "      <td>Q2</td>\n",
       "      <td>2019</td>\n",
       "    </tr>\n",
       "    <tr>\n",
       "      <th>9</th>\n",
       "      <td>10/04/2019</td>\n",
       "      <td>20190410</td>\n",
       "      <td>15</td>\n",
       "      <td>Week 15</td>\n",
       "      <td>4</td>\n",
       "      <td>April</td>\n",
       "      <td>2</td>\n",
       "      <td>Q2</td>\n",
       "      <td>2019</td>\n",
       "    </tr>\n",
       "  </tbody>\n",
       "</table>\n",
       "</div>"
      ],
      "text/plain": [
       "  transaction_date   date_ID  week_ID week_Desc  month_ID month_Name  \\\n",
       "0       01/04/2019  20190401       14   Week 14         4      April   \n",
       "1       02/04/2019  20190402       14   Week 14         4      April   \n",
       "2       03/04/2019  20190403       14   Week 14         4      April   \n",
       "3       04/04/2019  20190404       14   Week 14         4      April   \n",
       "4       05/04/2019  20190405       14   Week 14         4      April   \n",
       "5       06/04/2019  20190406       14   Week 14         4      April   \n",
       "6       07/04/2019  20190407       14   Week 14         4      April   \n",
       "7       08/04/2019  20190408       15   Week 15         4      April   \n",
       "8       09/04/2019  20190409       15   Week 15         4      April   \n",
       "9       10/04/2019  20190410       15   Week 15         4      April   \n",
       "\n",
       "   quarter_ID quarter_Name  year_ID  \n",
       "0           2           Q2     2019  \n",
       "1           2           Q2     2019  \n",
       "2           2           Q2     2019  \n",
       "3           2           Q2     2019  \n",
       "4           2           Q2     2019  \n",
       "5           2           Q2     2019  \n",
       "6           2           Q2     2019  \n",
       "7           2           Q2     2019  \n",
       "8           2           Q2     2019  \n",
       "9           2           Q2     2019  "
      ]
     },
     "execution_count": 171,
     "metadata": {},
     "output_type": "execute_result"
    }
   ],
   "source": [
    "dates.head(10)"
   ]
  },
  {
   "cell_type": "code",
   "execution_count": 76,
   "id": "faf36fac-82dd-4b1a-ad9e-2142a561314c",
   "metadata": {
    "tags": []
   },
   "outputs": [
    {
     "data": {
      "text/plain": [
       "Index(['transaction_date', 'Date_ID', 'Week_ID', 'Week_Desc', 'Month_ID',\n",
       "       'Month_Name', 'Quarter_ID', 'Quarter_Name', 'Year_ID'],\n",
       "      dtype='object')"
      ]
     },
     "execution_count": 76,
     "metadata": {},
     "output_type": "execute_result"
    }
   ],
   "source": [
    "dates.columns"
   ]
  },
  {
   "cell_type": "code",
   "execution_count": 78,
   "id": "dfb75fbb-1a93-41f8-8414-c8c64c5521d3",
   "metadata": {
    "tags": []
   },
   "outputs": [],
   "source": [
    "columns = [ 'transaction_date', \n",
    "            'date_ID', \n",
    "            'week_ID', \n",
    "            'week_Desc', \n",
    "            'month_ID',\n",
    "            'month_Name', \n",
    "            'quarter_ID', \n",
    "            'quarter_Name', \n",
    "            'year_ID' ]"
   ]
  },
  {
   "cell_type": "code",
   "execution_count": 79,
   "id": "3cddf1bc-2544-4096-aeb8-96e0c8fc509a",
   "metadata": {
    "tags": []
   },
   "outputs": [],
   "source": [
    "dates.columns = columns"
   ]
  },
  {
   "cell_type": "code",
   "execution_count": 168,
   "id": "9f14c4ae-ceeb-469b-86fc-ab2ac75747e4",
   "metadata": {
    "tags": []
   },
   "outputs": [
    {
     "data": {
      "text/plain": [
       "transaction_date    datetime64[ns]\n",
       "date_ID                      int64\n",
       "week_ID                      int64\n",
       "week_Desc                   object\n",
       "month_ID                     int64\n",
       "month_Name                  object\n",
       "quarter_ID                   int64\n",
       "quarter_Name                object\n",
       "year_ID                      int64\n",
       "dtype: object"
      ]
     },
     "execution_count": 168,
     "metadata": {},
     "output_type": "execute_result"
    }
   ],
   "source": [
    "dates.dtypes"
   ]
  },
  {
   "cell_type": "code",
   "execution_count": 167,
   "id": "31d2822b-ced2-420a-adcc-843461eb6324",
   "metadata": {
    "tags": []
   },
   "outputs": [],
   "source": [
    "dates['transaction_date'] = pd.to_datetime(dates['transaction_date'], format='%m/%d/%Y')"
   ]
  },
  {
   "cell_type": "code",
   "execution_count": 170,
   "id": "5053c805-f196-4105-b838-b00cc8dcef7f",
   "metadata": {
    "tags": []
   },
   "outputs": [],
   "source": [
    "dates['transaction_date'] = dates['transaction_date'].dt.strftime('%d/%m/%Y')"
   ]
  },
  {
   "cell_type": "code",
   "execution_count": 177,
   "id": "e7e62b8e-a07d-4b4b-a01d-f44f26f6c9f4",
   "metadata": {
    "tags": []
   },
   "outputs": [],
   "source": [
    "coffedf['transaction_date'] = coffedf['transaction_date'].astype(str)"
   ]
  },
  {
   "cell_type": "code",
   "execution_count": 179,
   "id": "e0574883-fb37-456e-8045-1a8a7cb71aa9",
   "metadata": {
    "tags": []
   },
   "outputs": [
    {
     "data": {
      "text/plain": [
       "30"
      ]
     },
     "execution_count": 179,
     "metadata": {},
     "output_type": "execute_result"
    }
   ],
   "source": [
    "dates.to_sql(con=connection, name='Dates', if_exists='append', index=False)"
   ]
  },
  {
   "cell_type": "markdown",
   "id": "35fd5aa6-b230-4601-82bf-d2da1e5af8f1",
   "metadata": {
    "tags": []
   },
   "source": [
    "## Read bbdd data into pandas dataframe"
   ]
  },
  {
   "cell_type": "markdown",
   "id": "cd0c5022-0c0d-4ebb-a1fb-f0833d1fe30f",
   "metadata": {},
   "source": [
    "código ejemplo de como importar una base de datos a n dataframe de pandas.\n",
    "~~~\n",
    "result_dataframe = pd.read_sql(query, connection)\n",
    "~~~"
   ]
  },
  {
   "cell_type": "code",
   "execution_count": 32,
   "id": "12d54fda-322f-47d2-9472-9b842e332074",
   "metadata": {
    "tags": []
   },
   "outputs": [],
   "source": [
    "query = db.text('SELECT * FROM DcDataLakeDB.Dates')"
   ]
  },
  {
   "cell_type": "code",
   "execution_count": 42,
   "id": "56f0174f-3c8c-4021-8cdb-d7b4a0d89fab",
   "metadata": {},
   "outputs": [],
   "source": [
    "dates = pd.read_sql(con = connection.connect(), sql = query)"
   ]
  },
  {
   "cell_type": "code",
   "execution_count": 43,
   "id": "3625a0f6-2db6-4222-9306-3935c6e8bbee",
   "metadata": {
    "tags": []
   },
   "outputs": [
    {
     "data": {
      "text/html": [
       "<div>\n",
       "<style scoped>\n",
       "    .dataframe tbody tr th:only-of-type {\n",
       "        vertical-align: middle;\n",
       "    }\n",
       "\n",
       "    .dataframe tbody tr th {\n",
       "        vertical-align: top;\n",
       "    }\n",
       "\n",
       "    .dataframe thead th {\n",
       "        text-align: right;\n",
       "    }\n",
       "</style>\n",
       "<table border=\"1\" class=\"dataframe\">\n",
       "  <thead>\n",
       "    <tr style=\"text-align: right;\">\n",
       "      <th></th>\n",
       "      <th>transaction_date</th>\n",
       "      <th>date_id</th>\n",
       "      <th>week_id</th>\n",
       "      <th>week_desc</th>\n",
       "      <th>month_id</th>\n",
       "      <th>month_name</th>\n",
       "      <th>quarter_id</th>\n",
       "      <th>quarter_name</th>\n",
       "      <th>year_id</th>\n",
       "    </tr>\n",
       "  </thead>\n",
       "  <tbody>\n",
       "    <tr>\n",
       "      <th>0</th>\n",
       "      <td>01/04/2019</td>\n",
       "      <td>20190401</td>\n",
       "      <td>14</td>\n",
       "      <td>Week 14</td>\n",
       "      <td>4</td>\n",
       "      <td>April</td>\n",
       "      <td>2</td>\n",
       "      <td>Q2</td>\n",
       "      <td>2019</td>\n",
       "    </tr>\n",
       "    <tr>\n",
       "      <th>1</th>\n",
       "      <td>02/04/2019</td>\n",
       "      <td>20190402</td>\n",
       "      <td>14</td>\n",
       "      <td>Week 14</td>\n",
       "      <td>4</td>\n",
       "      <td>April</td>\n",
       "      <td>2</td>\n",
       "      <td>Q2</td>\n",
       "      <td>2019</td>\n",
       "    </tr>\n",
       "    <tr>\n",
       "      <th>2</th>\n",
       "      <td>03/04/2019</td>\n",
       "      <td>20190403</td>\n",
       "      <td>14</td>\n",
       "      <td>Week 14</td>\n",
       "      <td>4</td>\n",
       "      <td>April</td>\n",
       "      <td>2</td>\n",
       "      <td>Q2</td>\n",
       "      <td>2019</td>\n",
       "    </tr>\n",
       "    <tr>\n",
       "      <th>3</th>\n",
       "      <td>04/04/2019</td>\n",
       "      <td>20190404</td>\n",
       "      <td>14</td>\n",
       "      <td>Week 14</td>\n",
       "      <td>4</td>\n",
       "      <td>April</td>\n",
       "      <td>2</td>\n",
       "      <td>Q2</td>\n",
       "      <td>2019</td>\n",
       "    </tr>\n",
       "    <tr>\n",
       "      <th>4</th>\n",
       "      <td>05/04/2019</td>\n",
       "      <td>20190405</td>\n",
       "      <td>14</td>\n",
       "      <td>Week 14</td>\n",
       "      <td>4</td>\n",
       "      <td>April</td>\n",
       "      <td>2</td>\n",
       "      <td>Q2</td>\n",
       "      <td>2019</td>\n",
       "    </tr>\n",
       "    <tr>\n",
       "      <th>5</th>\n",
       "      <td>06/04/2019</td>\n",
       "      <td>20190406</td>\n",
       "      <td>14</td>\n",
       "      <td>Week 14</td>\n",
       "      <td>4</td>\n",
       "      <td>April</td>\n",
       "      <td>2</td>\n",
       "      <td>Q2</td>\n",
       "      <td>2019</td>\n",
       "    </tr>\n",
       "    <tr>\n",
       "      <th>6</th>\n",
       "      <td>07/04/2019</td>\n",
       "      <td>20190407</td>\n",
       "      <td>14</td>\n",
       "      <td>Week 14</td>\n",
       "      <td>4</td>\n",
       "      <td>April</td>\n",
       "      <td>2</td>\n",
       "      <td>Q2</td>\n",
       "      <td>2019</td>\n",
       "    </tr>\n",
       "    <tr>\n",
       "      <th>7</th>\n",
       "      <td>08/04/2019</td>\n",
       "      <td>20190408</td>\n",
       "      <td>15</td>\n",
       "      <td>Week 15</td>\n",
       "      <td>4</td>\n",
       "      <td>April</td>\n",
       "      <td>2</td>\n",
       "      <td>Q2</td>\n",
       "      <td>2019</td>\n",
       "    </tr>\n",
       "    <tr>\n",
       "      <th>8</th>\n",
       "      <td>09/04/2019</td>\n",
       "      <td>20190409</td>\n",
       "      <td>15</td>\n",
       "      <td>Week 15</td>\n",
       "      <td>4</td>\n",
       "      <td>April</td>\n",
       "      <td>2</td>\n",
       "      <td>Q2</td>\n",
       "      <td>2019</td>\n",
       "    </tr>\n",
       "    <tr>\n",
       "      <th>9</th>\n",
       "      <td>10/04/2019</td>\n",
       "      <td>20190410</td>\n",
       "      <td>15</td>\n",
       "      <td>Week 15</td>\n",
       "      <td>4</td>\n",
       "      <td>April</td>\n",
       "      <td>2</td>\n",
       "      <td>Q2</td>\n",
       "      <td>2019</td>\n",
       "    </tr>\n",
       "  </tbody>\n",
       "</table>\n",
       "</div>"
      ],
      "text/plain": [
       "  transaction_date   date_id  week_id week_desc  month_id month_name  \\\n",
       "0       01/04/2019  20190401       14   Week 14         4      April   \n",
       "1       02/04/2019  20190402       14   Week 14         4      April   \n",
       "2       03/04/2019  20190403       14   Week 14         4      April   \n",
       "3       04/04/2019  20190404       14   Week 14         4      April   \n",
       "4       05/04/2019  20190405       14   Week 14         4      April   \n",
       "5       06/04/2019  20190406       14   Week 14         4      April   \n",
       "6       07/04/2019  20190407       14   Week 14         4      April   \n",
       "7       08/04/2019  20190408       15   Week 15         4      April   \n",
       "8       09/04/2019  20190409       15   Week 15         4      April   \n",
       "9       10/04/2019  20190410       15   Week 15         4      April   \n",
       "\n",
       "   quarter_id quarter_name  year_id  \n",
       "0           2           Q2     2019  \n",
       "1           2           Q2     2019  \n",
       "2           2           Q2     2019  \n",
       "3           2           Q2     2019  \n",
       "4           2           Q2     2019  \n",
       "5           2           Q2     2019  \n",
       "6           2           Q2     2019  \n",
       "7           2           Q2     2019  \n",
       "8           2           Q2     2019  \n",
       "9           2           Q2     2019  "
      ]
     },
     "execution_count": 43,
     "metadata": {},
     "output_type": "execute_result"
    }
   ],
   "source": [
    "dates.head(10) "
   ]
  }
 ],
 "metadata": {
  "kernelspec": {
   "display_name": "Python 3 (ipykernel)",
   "language": "python",
   "name": "python3"
  },
  "language_info": {
   "codemirror_mode": {
    "name": "ipython",
    "version": 3
   },
   "file_extension": ".py",
   "mimetype": "text/x-python",
   "name": "python",
   "nbconvert_exporter": "python",
   "pygments_lexer": "ipython3",
   "version": "3.10.9"
  }
 },
 "nbformat": 4,
 "nbformat_minor": 5
}
